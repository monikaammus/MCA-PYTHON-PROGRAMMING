{
 "cells": [
  {
   "cell_type": "markdown",
   "id": "d6814789",
   "metadata": {},
   "source": [
    "# sum of n numbers:"
   ]
  },
  {
   "cell_type": "code",
   "execution_count": 1,
   "id": "e8de0e8a",
   "metadata": {},
   "outputs": [
    {
     "name": "stdout",
     "output_type": "stream",
     "text": [
      "10\n"
     ]
    }
   ],
   "source": [
    "N = int(input())\n",
    "numbers = list(map(int, input().split()))\n",
    "print(sum(numbers))"
   ]
  },
  {
   "cell_type": "markdown",
   "id": "d6965efe",
   "metadata": {},
   "source": [
    "# average of N numbers"
   ]
  },
  {
   "cell_type": "code",
   "execution_count": 3,
   "id": "4ccf2c31",
   "metadata": {},
   "outputs": [
    {
     "name": "stdout",
     "output_type": "stream",
     "text": [
      "0.50\n"
     ]
    }
   ],
   "source": [
    "N = int(input())\n",
    "numbers = list(map(int, input().split()))\n",
    "average = sum(numbers) / N\n",
    "print(f\"{average:.2f}\")"
   ]
  },
  {
   "cell_type": "markdown",
   "id": "dcf432f8",
   "metadata": {},
   "source": [
    "# reverse a string"
   ]
  },
  {
   "cell_type": "code",
   "execution_count": 4,
   "id": "f5e260dc",
   "metadata": {},
   "outputs": [
    {
     "name": "stdout",
     "output_type": "stream",
     "text": [
      "UOY EVOL I\n"
     ]
    }
   ],
   "source": [
    "s = input()\n",
    "print(s[::-1])\n"
   ]
  },
  {
   "cell_type": "markdown",
   "id": "3ebe229d",
   "metadata": {},
   "source": [
    "# count vowels and consonants"
   ]
  },
  {
   "cell_type": "code",
   "execution_count": 7,
   "id": "fd548a3f",
   "metadata": {},
   "outputs": [
    {
     "name": "stdout",
     "output_type": "stream",
     "text": [
      "0 1\n"
     ]
    }
   ],
   "source": [
    "word = input().lower()\n",
    "vowels = 0\n",
    "consonants = 0\n",
    "for ch in word:\n",
    "    if ch.isalpha():\n",
    "        if ch in 'aeiou':\n",
    "            vowels += 1\n",
    "        else:\n",
    "            consonants += 1\n",
    "print(vowels, consonants)"
   ]
  },
  {
   "cell_type": "markdown",
   "id": "43a6347e",
   "metadata": {},
   "source": [
    "# number palindrome check"
   ]
  },
  {
   "cell_type": "code",
   "execution_count": 8,
   "id": "47ca73ce",
   "metadata": {},
   "outputs": [
    {
     "name": "stdout",
     "output_type": "stream",
     "text": [
      "Yes\n"
     ]
    }
   ],
   "source": [
    "n = input()\n",
    "if n == n[::-1]:\n",
    "    print(\"Yes\")\n",
    "else:\n",
    "    print(\"No\")"
   ]
  },
  {
   "cell_type": "markdown",
   "id": "36d19ace",
   "metadata": {},
   "source": [
    "# left star pyramid"
   ]
  },
  {
   "cell_type": "code",
   "execution_count": 10,
   "id": "723b5d19",
   "metadata": {},
   "outputs": [
    {
     "name": "stdout",
     "output_type": "stream",
     "text": [
      "*\n",
      "**\n",
      "***\n",
      "****\n",
      "*****\n",
      "******\n",
      "*******\n",
      "********\n",
      "*********\n",
      "**********\n"
     ]
    }
   ],
   "source": [
    "N = int(input())\n",
    "for i in range(1, N + 1):\n",
    "    print('*' * i)\n"
   ]
  },
  {
   "cell_type": "markdown",
   "id": "372d3544",
   "metadata": {},
   "source": [
    "# counts digits in number"
   ]
  },
  {
   "cell_type": "code",
   "execution_count": 13,
   "id": "da9d4d7a",
   "metadata": {},
   "outputs": [
    {
     "name": "stdout",
     "output_type": "stream",
     "text": [
      "1\n"
     ]
    }
   ],
   "source": [
    "n = int(input())\n",
    "if n == 0:\n",
    "    print(1)\n",
    "else:\n",
    "    count = 0\n",
    "    while n > 0:\n",
    "        n //= 10\n",
    "        count += 1\n",
    "    print(count)\n"
   ]
  },
  {
   "cell_type": "markdown",
   "id": "84e9888a",
   "metadata": {},
   "source": [
    "# factorial"
   ]
  },
  {
   "cell_type": "code",
   "execution_count": 14,
   "id": "4652c22a",
   "metadata": {},
   "outputs": [
    {
     "name": "stdout",
     "output_type": "stream",
     "text": [
      "1\n",
      "2\n",
      "6\n",
      "24\n",
      "120\n"
     ]
    }
   ],
   "source": [
    "n = int(input())\n",
    "fact = 1\n",
    "for i in range(1, n + 1):\n",
    "    fact *= i\n",
    "    print(fact)"
   ]
  },
  {
   "cell_type": "markdown",
   "id": "dcf449dc",
   "metadata": {},
   "source": [
    "# fibonacci"
   ]
  },
  {
   "cell_type": "code",
   "execution_count": 15,
   "id": "0f89a2b4",
   "metadata": {},
   "outputs": [
    {
     "name": "stdout",
     "output_type": "stream",
     "text": [
      "55\n"
     ]
    }
   ],
   "source": [
    "n = int(input())\n",
    "if n == 0:\n",
    "    print(0)\n",
    "elif n == 1:\n",
    "    print(1)\n",
    "else:\n",
    "    a, b = 0, 1\n",
    "    for _ in range(2, n + 1):\n",
    "        a, b = b, a + b\n",
    "    print(b)\n",
    "\n"
   ]
  },
  {
   "cell_type": "markdown",
   "id": "cf14031a",
   "metadata": {},
   "source": [
    "# prime check"
   ]
  },
  {
   "cell_type": "code",
   "execution_count": 17,
   "id": "ab1f5489",
   "metadata": {},
   "outputs": [
    {
     "name": "stdout",
     "output_type": "stream",
     "text": [
      "Not Prime\n"
     ]
    }
   ],
   "source": [
    "n = int(input())\n",
    "if n <= 1:\n",
    "    print(\"Not Prime\")\n",
    "else:\n",
    "    is_prime = True\n",
    "    for i in range(2, int(n**0.5) + 1):\n",
    "        if n % i == 0:\n",
    "            is_prime = False\n",
    "            break\n",
    "    if is_prime:\n",
    "        print(\"Prime\")\n",
    "    else:\n",
    "        print(\"Not Prime\")"
   ]
  },
  {
   "cell_type": "markdown",
   "id": "f2ded4b8",
   "metadata": {},
   "source": [
    "# Rotate list"
   ]
  },
  {
   "cell_type": "code",
   "execution_count": 26,
   "id": "8a593296",
   "metadata": {},
   "outputs": [
    {
     "name": "stdout",
     "output_type": "stream",
     "text": [
      "[2]\n"
     ]
    }
   ],
   "source": [
    "lst = list(map(int, input(\"Enter list elements: \").split()))\n",
    "k = int(input(\"Enter k: \"))\n",
    "n = len(lst)\n",
    "k = k % n  \n",
    "rotated = lst[-k:] + lst[:-k]\n",
    "print(rotated)\n"
   ]
  },
  {
   "cell_type": "markdown",
   "id": "1300017f",
   "metadata": {},
   "source": [
    "# word frequency"
   ]
  },
  {
   "cell_type": "code",
   "execution_count": 1,
   "id": "ccddf3f9",
   "metadata": {},
   "outputs": [
    {
     "name": "stdout",
     "output_type": "stream",
     "text": [
      "I -> 1\n",
      "AM -> 1\n",
      "GOING -> 1\n",
      "TO -> 1\n",
      "MY -> 1\n",
      "HOME -> 1\n"
     ]
    }
   ],
   "source": [
    "\n",
    "sentence = input(\"Enter a sentence: \")\n",
    "words = sentence.split()\n",
    "freq = {}\n",
    "for word in words:\n",
    "    freq[word] = freq.get(word, 0) + 1\n",
    "for word, count in freq.items():\n",
    "    print(f\"{word} -> {count}\")"
   ]
  },
  {
   "cell_type": "markdown",
   "id": "bc0b8c80",
   "metadata": {},
   "source": [
    "# GCD"
   ]
  },
  {
   "cell_type": "code",
   "execution_count": 9,
   "id": "12fb3ccb",
   "metadata": {},
   "outputs": [
    {
     "name": "stdout",
     "output_type": "stream",
     "text": [
      "6\n",
      "2\n"
     ]
    }
   ],
   "source": [
    "a, b = map(int, input().split())\n",
    "while b != 0:\n",
    "    a, b = b, a % b\n",
    "print(a)\n",
    "import math\n",
    "a, b = map(int, input().split())\n",
    "print(math.gcd(a, b))\n"
   ]
  },
  {
   "cell_type": "markdown",
   "id": "f73719c2",
   "metadata": {},
   "source": [
    "# valid parentheses"
   ]
  },
  {
   "cell_type": "code",
   "execution_count": 10,
   "id": "492c67ef",
   "metadata": {},
   "outputs": [
    {
     "name": "stdout",
     "output_type": "stream",
     "text": [
      "Valid\n"
     ]
    }
   ],
   "source": [
    "def is_valid_parentheses(s):\n",
    "    stack = []\n",
    "    mapping = {')': '(', '}': '{', ']': '['}\n",
    "\n",
    "    for char in s:\n",
    "        if char in mapping.values():  # Opening brackets\n",
    "            stack.append(char)\n",
    "        elif char in mapping:  # Closing brackets\n",
    "            if not stack or stack[-1] != mapping[char]:\n",
    "                return False\n",
    "            stack.pop()\n",
    "    return len(stack) == 0\n",
    "s = input(\"Enter parentheses string: \")\n",
    "if is_valid_parentheses(s):\n",
    "    print(\"Valid\")\n",
    "else:\n",
    "    print(\"Invalid\")"
   ]
  },
  {
   "cell_type": "markdown",
   "id": "fae3b6cb",
   "metadata": {},
   "source": [
    "# power function"
   ]
  },
  {
   "cell_type": "code",
   "execution_count": 14,
   "id": "34ce0b3b",
   "metadata": {},
   "outputs": [
    {
     "name": "stdout",
     "output_type": "stream",
     "text": [
      "1477891880035400390625\n"
     ]
    }
   ],
   "source": [
    "def power(a, b):\n",
    "    result = 1\n",
    "    while b > 0:\n",
    "        if b % 2 == 1:  # If b is odd\n",
    "            result *= a\n",
    "        a *= a\n",
    "        b //= 2\n",
    "    return result\n",
    "a, b = map(int, input(\"Enter a and b: \").split())\n",
    "print(power(a, b))"
   ]
  },
  {
   "cell_type": "markdown",
   "id": "ead25285",
   "metadata": {},
   "source": [
    "# find missing "
   ]
  },
  {
   "cell_type": "code",
   "execution_count": 15,
   "id": "8d17b847",
   "metadata": {},
   "outputs": [
    {
     "name": "stdout",
     "output_type": "stream",
     "text": [
      "6\n",
      "1\n"
     ]
    }
   ],
   "source": [
    "arr = list(map(int, input(\"Enter the list of numbers: \").split()))\n",
    "\n",
    "n = len(arr) + 1  # Since one number is missing\n",
    "total = n * (n + 1) // 2\n",
    "missing = total - sum(arr)\n",
    "\n",
    "print(missing)\n",
    "arr = list(map(int, input().split()))\n",
    "n = len(arr) + 1\n",
    "\n",
    "xor_all = 0\n",
    "for i in range(1, n + 1):\n",
    "    xor_all ^= i\n",
    "\n",
    "xor_arr = 0\n",
    "for num in arr:\n",
    "    xor_arr ^= num\n",
    "\n",
    "missing = xor_all ^ xor_arr\n",
    "print(missing)"
   ]
  },
  {
   "cell_type": "markdown",
   "id": "6ddd8e05",
   "metadata": {},
   "source": [
    "# Bubble sort"
   ]
  },
  {
   "cell_type": "code",
   "execution_count": 16,
   "id": "910c5c3c",
   "metadata": {},
   "outputs": [
    {
     "name": "stdout",
     "output_type": "stream",
     "text": [
      "[4, 5, 7, 8, 12, 13]\n"
     ]
    }
   ],
   "source": [
    "def bubble_sort(arr):\n",
    "    n = len(arr)\n",
    "    for i in range(n):\n",
    "        # Last i elements are already in place\n",
    "        for j in range(0, n - i - 1):\n",
    "            if arr[j] > arr[j + 1]:\n",
    "                arr[j], arr[j + 1] = arr[j + 1], arr[j]\n",
    "    return arr\n",
    "arr = list(map(int, input(\"Enter numbers separated by space: \").split()))\n",
    "sorted_arr = bubble_sort(arr)\n",
    "print(sorted_arr)"
   ]
  },
  {
   "cell_type": "markdown",
   "id": "c128d8b1",
   "metadata": {},
   "source": [
    "# transport matrix"
   ]
  },
  {
   "cell_type": "code",
   "execution_count": 30,
   "id": "05359a1a",
   "metadata": {},
   "outputs": [
    {
     "name": "stdout",
     "output_type": "stream",
     "text": [
      "1\n",
      "3\n"
     ]
    }
   ],
   "source": [
    "rows = int(input(\"Enter number of rows: \"))\n",
    "cols = int(input(\"Enter number of columns: \"))\n",
    "\n",
    "matrix = []\n",
    "for _ in range(rows):\n",
    "    matrix.append(list(map(int, input().split())))\n",
    "transpose = []\n",
    "for j in range(cols):\n",
    "    row = []\n",
    "    for i in range(rows):\n",
    "        row.append(matrix[i][j])\n",
    "    transpose.append(row)\n",
    "for row in transpose:\n",
    "    print(*row)"
   ]
  },
  {
   "cell_type": "markdown",
   "id": "95b39a35",
   "metadata": {},
   "source": [
    "# second largest"
   ]
  },
  {
   "cell_type": "code",
   "execution_count": 32,
   "id": "abcab0cb",
   "metadata": {},
   "outputs": [
    {
     "name": "stdout",
     "output_type": "stream",
     "text": [
      "No second largest element\n"
     ]
    }
   ],
   "source": [
    "arr = list(map(int, input(\"Enter numbers separated by space: \").split()))\n",
    "unique_numbers = list(set(arr))\n",
    "\n",
    "if len(unique_numbers) < 2:\n",
    "    print(\"No second largest element\")\n",
    "else:\n",
    "    unique_numbers.sort()\n",
    "    print(unique_numbers[-2])"
   ]
  },
  {
   "cell_type": "markdown",
   "id": "d39312dd",
   "metadata": {},
   "source": [
    "# anagram"
   ]
  },
  {
   "cell_type": "code",
   "execution_count": 4,
   "id": "0d0b8a12",
   "metadata": {},
   "outputs": [
    {
     "name": "stdout",
     "output_type": "stream",
     "text": [
      "Not Anagram\n"
     ]
    }
   ],
   "source": [
    "def is_anagram(str1, str2):\n",
    "    # Remove spaces and convert to lowercase\n",
    "    str1 = str1.replace(\" \", \"\").lower()\n",
    "    str2 = str2.replace(\" \", \"\").lower()\n",
    "\n",
    "    # Compare sorted characters\n",
    "    if sorted(str1) == sorted(str2):\n",
    "        print(\"Anagram\")\n",
    "    else:\n",
    "        print(\"Not Anagram\")\n",
    "s1 = input(\"Enter first string: \")\n",
    "s2 = input(\"Enter second string: \")\n",
    "is_anagram(s1,s2)"
   ]
  },
  {
   "cell_type": "markdown",
   "id": "c3f20176",
   "metadata": {},
   "source": [
    "# decimal to binary"
   ]
  },
  {
   "cell_type": "code",
   "execution_count": 7,
   "id": "204433db",
   "metadata": {},
   "outputs": [],
   "source": [
    "def decimal_to_binary(n):\n",
    "    print(bin(n)[2:])\n",
    "    num = int(input(\"Enter a decimal number: \"))\n",
    "    decimal_to_binary(num)\n",
    "\n"
   ]
  },
  {
   "cell_type": "markdown",
   "id": "574bc0b2",
   "metadata": {},
   "source": [
    "# binary to decimal"
   ]
  },
  {
   "cell_type": "code",
   "execution_count": 8,
   "id": "6ea599da",
   "metadata": {},
   "outputs": [
    {
     "name": "stdout",
     "output_type": "stream",
     "text": [
      "10\n"
     ]
    }
   ],
   "source": [
    "def binary_to_decimal(b):\n",
    "    # Convert binary string to decimal integer\n",
    "    print(int(b, 2))\n",
    "\n",
    "\n",
    "# Example usage\n",
    "binary_str = input(\"Enter a binary string: \")\n",
    "binary_to_decimal(binary_str)\n"
   ]
  },
  {
   "cell_type": "markdown",
   "id": "0de1fe21",
   "metadata": {},
   "source": [
    "# lcm"
   ]
  },
  {
   "cell_type": "code",
   "execution_count": 11,
   "id": "2ec90919",
   "metadata": {},
   "outputs": [
    {
     "name": "stdout",
     "output_type": "stream",
     "text": [
      "21\n"
     ]
    }
   ],
   "source": [
    "def lcm(a, b):\n",
    "    # Formula: LCM(a, b) = (a * b) // GCD(a, b)\n",
    "    def gcd(x, y):\n",
    "        while y:\n",
    "            x, y = y, x % y\n",
    "        return x\n",
    "\n",
    "    print((a * b) // gcd(a, b))\n",
    "a = int(input(\"Enter first number: \"))\n",
    "b = int(input(\"Enter second number: \"))\n",
    "lcm(a, b)"
   ]
  },
  {
   "cell_type": "markdown",
   "id": "ab3ea0a8",
   "metadata": {},
   "source": [
    "# armstrong check"
   ]
  },
  {
   "cell_type": "code",
   "execution_count": 12,
   "id": "093138fe",
   "metadata": {},
   "outputs": [
    {
     "name": "stdout",
     "output_type": "stream",
     "text": [
      "Not Armstrong\n"
     ]
    }
   ],
   "source": [
    "def is_armstrong(n):\n",
    "    temp = n\n",
    "    s = 0\n",
    "    while temp > 0:\n",
    "        digit = temp % 10\n",
    "        s += digit ** 3\n",
    "        temp //= 10\n",
    "    if s == n:\n",
    "        print(\"Armstrong\")\n",
    "    else:\n",
    "        print(\"Not Armstrong\")\n",
    "n = int(input(\"Enter a 3-digit number: \"))\n",
    "is_armstrong(n)"
   ]
  },
  {
   "cell_type": "markdown",
   "id": "bb487e65",
   "metadata": {},
   "source": [
    "# swap variables"
   ]
  },
  {
   "cell_type": "code",
   "execution_count": 14,
   "id": "ab10ee3c",
   "metadata": {},
   "outputs": [
    {
     "name": "stdout",
     "output_type": "stream",
     "text": [
      "a = 7\n",
      "b = 3\n"
     ]
    }
   ],
   "source": [
    "def swap(a, b):\n",
    "    a = a + b\n",
    "    b = a - b\n",
    "    a = a - b\n",
    "    print(\"a =\", a)\n",
    "    print(\"b =\", b)\n",
    "    a = int(input(\"Enter value of a: \"))\n",
    "    b = int(input(\"Enter value of b: \"))\n",
    "swap(a, b)\n"
   ]
  },
  {
   "cell_type": "markdown",
   "id": "9303a242",
   "metadata": {},
   "source": [
    "# title case"
   ]
  },
  {
   "cell_type": "code",
   "execution_count": 18,
   "id": "a0f24409",
   "metadata": {},
   "outputs": [],
   "source": [
    "def to_title_case(sentence):\n",
    "    print(sentence.title())\n",
    "    s = input(\"Enter a sentence: \")\n",
    "    to_title_case(s)"
   ]
  },
  {
   "cell_type": "markdown",
   "id": "aee5aabf",
   "metadata": {},
   "source": [
    "# substring count"
   ]
  },
  {
   "cell_type": "code",
   "execution_count": 19,
   "id": "d244b3a3",
   "metadata": {},
   "outputs": [
    {
     "name": "stdout",
     "output_type": "stream",
     "text": [
      "0\n"
     ]
    }
   ],
   "source": [
    "def count_overlapping(text, pattern):\n",
    "    count = 0\n",
    "    for i in range(len(text) - len(pattern) + 1):\n",
    "        if text[i:i+len(pattern)] == pattern:\n",
    "            count += 1\n",
    "    print(count)\n",
    "\n",
    "\n",
    "# Example usage\n",
    "text = input(\"Enter text: \")\n",
    "pattern = input(\"Enter pattern: \")\n",
    "\n",
    "count_overlapping(text, pattern)"
   ]
  },
  {
   "cell_type": "markdown",
   "id": "e056ead6",
   "metadata": {},
   "source": [
    "# swap pair"
   ]
  },
  {
   "cell_type": "code",
   "execution_count": 20,
   "id": "becf55b7",
   "metadata": {},
   "outputs": [
    {
     "name": "stdout",
     "output_type": "stream",
     "text": [
      "a = 10\n",
      "b = 5\n"
     ]
    }
   ],
   "source": [
    "def swap_pair(a, b):\n",
    "    a, b = b, a\n",
    "    print(\"a =\", a)\n",
    "    print(\"b =\", b)\n",
    "\n",
    "\n",
    "# Example usage\n",
    "a = input(\"Enter first value: \")\n",
    "b = input(\"Enter second value: \")\n",
    "\n",
    "swap_pair(a, b)"
   ]
  },
  {
   "cell_type": "markdown",
   "id": "defb45ab",
   "metadata": {},
   "source": [
    "# union"
   ]
  },
  {
   "cell_type": "code",
   "execution_count": 25,
   "id": "207a4431",
   "metadata": {},
   "outputs": [
    {
     "name": "stdout",
     "output_type": "stream",
     "text": [
      "[1, 2]\n"
     ]
    }
   ],
   "source": [
    "def list_union(list1, list2):\n",
    "    union_list = list(set(list1) | set(list2))\n",
    "    print(union_list)\n",
    "list1 = list(map(int, input(\"Enter first list (space-separated): \").split()))\n",
    "list2 = list(map(int, input(\"Enter second list (space-separated): \").split()))\n",
    "list_union(list1, list2)\n"
   ]
  },
  {
   "cell_type": "markdown",
   "id": "966b291c",
   "metadata": {},
   "source": [
    "# intersection"
   ]
  },
  {
   "cell_type": "code",
   "execution_count": 28,
   "id": "2d03e1d7",
   "metadata": {},
   "outputs": [
    {
     "name": "stdout",
     "output_type": "stream",
     "text": [
      "[]\n"
     ]
    }
   ],
   "source": [
    "def list_intersection(list1, list2):\n",
    "    intersection = list(set(list1) & set(list2))\n",
    "    print(intersection)\n",
    "\n",
    "\n",
    "# Example usage\n",
    "list1 = list(map(int, input(\"Enter first list (space-separated): \").split()))\n",
    "list2 = list(map(int, input(\"Enter second list (space-separated): \").split()))\n",
    "\n",
    "list_intersection(list1, list2)"
   ]
  },
  {
   "cell_type": "markdown",
   "id": "d7b08b49",
   "metadata": {},
   "source": [
    "# merged sorted lists"
   ]
  },
  {
   "cell_type": "code",
   "execution_count": 30,
   "id": "db2467f9",
   "metadata": {},
   "outputs": [
    {
     "name": "stdout",
     "output_type": "stream",
     "text": [
      "[1, 2]\n"
     ]
    }
   ],
   "source": [
    "def merge_sorted(list1, list2):\n",
    "    merged = []\n",
    "    i = j = 0\n",
    "\n",
    "    # Merge lists\n",
    "    while i < len(list1) and j < len(list2):\n",
    "        if list1[i] < list2[j]:\n",
    "            merged.append(list1[i])\n",
    "            i += 1\n",
    "        else:\n",
    "            merged.append(list2[j])\n",
    "            j += 1\n",
    "\n",
    "    # Append remaining elements\n",
    "    merged.extend(list1[i:])\n",
    "    merged.extend(list2[j:])\n",
    "\n",
    "    print(merged)\n",
    "list1 = list(map(int, input(\"Enter first sorted list: \").split()))\n",
    "list2 = list(map(int, input(\"Enter second sorted list: \").split()))\n",
    "\n",
    "merge_sorted(list1, list2)\n",
    "\n"
   ]
  },
  {
   "cell_type": "markdown",
   "id": "944d863e",
   "metadata": {},
   "source": [
    "# sort list"
   ]
  },
  {
   "cell_type": "code",
   "execution_count": 31,
   "id": "d8002411",
   "metadata": {},
   "outputs": [
    {
     "name": "stdout",
     "output_type": "stream",
     "text": [
      "[5]\n"
     ]
    }
   ],
   "source": [
    "def sort_list(lst):\n",
    "    sorted_lst = sorted(lst)  # returns a new sorted list\n",
    "    print(sorted_lst)\n",
    "\n",
    "\n",
    "# Example usage\n",
    "lst = list(map(int, input(\"Enter list of numbers: \").split()))\n",
    "sort_list(lst)"
   ]
  },
  {
   "cell_type": "markdown",
   "id": "f47df04f",
   "metadata": {},
   "source": [
    "# max and min"
   ]
  },
  {
   "cell_type": "code",
   "execution_count": 33,
   "id": "1d89a235",
   "metadata": {},
   "outputs": [
    {
     "name": "stdout",
     "output_type": "stream",
     "text": [
      "Max: 56\n",
      "Min: 56\n"
     ]
    }
   ],
   "source": [
    "def max_and_min(lst):\n",
    "    print(\"Max:\", max(lst))\n",
    "    print(\"Min:\", min(lst))\n",
    "\n",
    "\n",
    "# Example usage\n",
    "lst = list(map(int, input(\"Enter list of numbers: \").split()))\n",
    "max_and_min(lst)\n"
   ]
  },
  {
   "cell_type": "markdown",
   "id": "e7ceaa47",
   "metadata": {},
   "source": [
    "# remove duplicates"
   ]
  },
  {
   "cell_type": "code",
   "execution_count": 34,
   "id": "27dda9eb",
   "metadata": {},
   "outputs": [
    {
     "name": "stdout",
     "output_type": "stream",
     "text": [
      "[3]\n"
     ]
    }
   ],
   "source": [
    "def remove_duplicates(lst):\n",
    "    unique_elements = list(set(lst))\n",
    "    print(unique_elements)\n",
    "\n",
    "\n",
    "# Example usage\n",
    "lst = list(map(int, input(\"Enter list of elements: \").split()))\n",
    "remove_duplicates(lst)"
   ]
  },
  {
   "cell_type": "markdown",
   "id": "0b520790",
   "metadata": {},
   "source": [
    "# unique list"
   ]
  },
  {
   "cell_type": "code",
   "execution_count": 35,
   "id": "f3df5679",
   "metadata": {},
   "outputs": [
    {
     "name": "stdout",
     "output_type": "stream",
     "text": [
      "[1]\n"
     ]
    }
   ],
   "source": [
    "def unique_list(lst):\n",
    "    seen = set()\n",
    "    unique = []\n",
    "    for item in lst:\n",
    "        if item not in seen:\n",
    "            seen.add(item)\n",
    "            unique.append(item)\n",
    "    print(unique)\n",
    "\n",
    "\n",
    "# Example usage\n",
    "lst = list(map(int, input(\"Enter list of elements: \").split()))\n",
    "unique_list(lst)"
   ]
  }
 ],
 "metadata": {
  "kernelspec": {
   "display_name": "Python 3",
   "language": "python",
   "name": "python3"
  },
  "language_info": {
   "codemirror_mode": {
    "name": "ipython",
    "version": 3
   },
   "file_extension": ".py",
   "mimetype": "text/x-python",
   "name": "python",
   "nbconvert_exporter": "python",
   "pygments_lexer": "ipython3",
   "version": "3.13.6"
  }
 },
 "nbformat": 4,
 "nbformat_minor": 5
}
