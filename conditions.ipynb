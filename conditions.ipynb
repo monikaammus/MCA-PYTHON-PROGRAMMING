{
 "cells": [
  {
   "cell_type": "markdown",
   "id": "4e01054a",
   "metadata": {},
   "source": [
    "# conditions \n",
    "4 types of conditional statements \n",
    "if \n",
    "if else\n",
    "if -elif\n",
    "match case"
   ]
  },
  {
   "cell_type": "code",
   "execution_count": 1,
   "id": "b07a9303",
   "metadata": {},
   "outputs": [
    {
     "name": "stdout",
     "output_type": "stream",
     "text": [
      "value => 200\n"
     ]
    }
   ],
   "source": [
    "data = int(input(\"enter data value\"))\n",
    "print(f\"value => {data}\")"
   ]
  },
  {
   "cell_type": "code",
   "execution_count": 4,
   "id": "f60d7d44",
   "metadata": {},
   "outputs": [
    {
     "name": "stdout",
     "output_type": "stream",
     "text": [
      "you see a apple seller\n",
      "you dont purchase apples\n"
     ]
    }
   ],
   "source": [
    "print('you see a apple seller')\n",
    "q = input('do you like apples ?')\n",
    "\n",
    "if q == 'yes' :\n",
    "    print('purchase 2kg of apples')\n",
    "if q == 'no':\n",
    "    print('you dont purchase apples')    "
   ]
  },
  {
   "cell_type": "code",
   "execution_count": 6,
   "id": "726997f8",
   "metadata": {},
   "outputs": [
    {
     "name": "stdout",
     "output_type": "stream",
     "text": [
      "you see an apple seller\n",
      "you dont buy apple\n"
     ]
    }
   ],
   "source": [
    "print(\"you see an apple seller\")\n",
    "ans = input(\"Do you like apples \")\n",
    "if ans == \"yes\":\n",
    "    print(\"buy 2 kg apples\")\n",
    "if ans == \"no\":\n",
    "    print(\"you dont buy apple\")    "
   ]
  },
  {
   "cell_type": "code",
   "execution_count": null,
   "id": "819dbdbf",
   "metadata": {},
   "outputs": [],
   "source": [
    "salary = 52000\n",
    "if salary > 50000:\n",
    "    da= .15\n",
    "    total = salary + salary * da \n",
    "    print(f\"total salary is {total}\")"
   ]
  },
  {
   "cell_type": "code",
   "execution_count": 8,
   "id": "516ec765",
   "metadata": {},
   "outputs": [
    {
     "name": "stdout",
     "output_type": "stream",
     "text": [
      "total salary is 66700.0\n"
     ]
    }
   ],
   "source": [
    "\n",
    "salary = 58000\n",
    "da=0\n",
    "if salary > 50000:\n",
    "    da=.15\n",
    "total = salary +salary *da\n",
    "print(f\"total salary is {total}\")"
   ]
  },
  {
   "cell_type": "code",
   "execution_count": 4,
   "id": "1e9fba2c",
   "metadata": {},
   "outputs": [
    {
     "name": "stdout",
     "output_type": "stream",
     "text": [
      "total salary is 42000\n"
     ]
    }
   ],
   "source": [
    "#solutin 2 - use if else\n",
    "salary = 42000\n",
    "if salary > 50000:\n",
    "    da=.15\n",
    "    total = salary + salary * da\n",
    "else:\n",
    "    total = salary\n",
    "print(f\"total salary is {total}\")    \n"
   ]
  },
  {
   "cell_type": "code",
   "execution_count": 16,
   "id": "b57f7f63",
   "metadata": {},
   "outputs": [
    {
     "name": "stdout",
     "output_type": "stream",
     "text": [
      "20\n"
     ]
    }
   ],
   "source": [
    "x=int(input(\"enter a number :\"))\n",
    "y=int(input(\"enter second number:\"))\n",
    "if x > y:\n",
    "    ans = x-y \n",
    "else:\n",
    "    ans = y-x \n",
    "print(ans)   "
   ]
  },
  {
   "cell_type": "code",
   "execution_count": 15,
   "id": "307bcfce",
   "metadata": {},
   "outputs": [
    {
     "name": "stdout",
     "output_type": "stream",
     "text": [
      "long movie name: geeta govindam\n",
      "the end\n"
     ]
    }
   ],
   "source": [
    "name = input(\"enter your favourite movie\")\n",
    "if len(name) > 10:\n",
    "    print(f\"long movie name: {name}\")\n",
    "else:\n",
    "    print(f\"short movie name: {name}\")\n",
    "print(\"the end\")        "
   ]
  },
  {
   "cell_type": "code",
   "execution_count": null,
   "id": "91c60175",
   "metadata": {},
   "outputs": [],
   "source": []
  }
 ],
 "metadata": {
  "kernelspec": {
   "display_name": "Python 3",
   "language": "python",
   "name": "python3"
  },
  "language_info": {
   "codemirror_mode": {
    "name": "ipython",
    "version": 3
   },
   "file_extension": ".py",
   "mimetype": "text/x-python",
   "name": "python",
   "nbconvert_exporter": "python",
   "pygments_lexer": "ipython3",
   "version": "3.13.6"
  }
 },
 "nbformat": 4,
 "nbformat_minor": 5
}
