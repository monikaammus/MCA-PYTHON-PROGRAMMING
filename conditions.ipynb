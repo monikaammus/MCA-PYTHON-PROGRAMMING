{
 "cells": [
  {
   "cell_type": "markdown",
   "id": "4e01054a",
   "metadata": {},
   "source": [
    "# conditions \n",
    "4 types of conditional statements \n",
    "if \n",
    "if else\n",
    "if -elif\n",
    "match case"
   ]
  },
  {
   "cell_type": "code",
   "execution_count": 1,
   "id": "b07a9303",
   "metadata": {},
   "outputs": [
    {
     "name": "stdout",
     "output_type": "stream",
     "text": [
      "value => 200\n"
     ]
    }
   ],
   "source": [
    "data = int(input(\"enter data value\"))\n",
    "print(f\"value => {data}\")"
   ]
  },
  {
   "cell_type": "code",
   "execution_count": 4,
   "id": "f60d7d44",
   "metadata": {},
   "outputs": [
    {
     "name": "stdout",
     "output_type": "stream",
     "text": [
      "you see a apple seller\n",
      "you dont purchase apples\n"
     ]
    }
   ],
   "source": [
    "print('you see a apple seller')\n",
    "q = input('do you like apples ?')\n",
    "\n",
    "if q == 'yes' :\n",
    "    print('purchase 2kg of apples')\n",
    "if q == 'no':\n",
    "    print('you dont purchase apples')    "
   ]
  },
  {
   "cell_type": "code",
   "execution_count": 6,
   "id": "726997f8",
   "metadata": {},
   "outputs": [
    {
     "name": "stdout",
     "output_type": "stream",
     "text": [
      "you see an apple seller\n",
      "you dont buy apple\n"
     ]
    }
   ],
   "source": [
    "print(\"you see an apple seller\")\n",
    "ans = input(\"Do you like apples \")\n",
    "if ans == \"yes\":\n",
    "    print(\"buy 2 kg apples\")\n",
    "if ans == \"no\":\n",
    "    print(\"you dont buy apple\")    "
   ]
  },
  {
   "cell_type": "code",
   "execution_count": null,
   "id": "819dbdbf",
   "metadata": {},
   "outputs": [],
   "source": [
    "salary = 52000\n",
    "if salary > 50000:\n",
    "    da= .15\n",
    "    total = salary + salary * da \n",
    "    print(f\"total salary is {total}\")"
   ]
  },
  {
   "cell_type": "code",
   "execution_count": 8,
   "id": "516ec765",
   "metadata": {},
   "outputs": [
    {
     "name": "stdout",
     "output_type": "stream",
     "text": [
      "total salary is 66700.0\n"
     ]
    }
   ],
   "source": [
    "\n",
    "salary = 58000\n",
    "da=0\n",
    "if salary > 50000:\n",
    "    da=.15\n",
    "total = salary +salary *da\n",
    "print(f\"total salary is {total}\")"
   ]
  },
  {
   "cell_type": "code",
   "execution_count": 4,
   "id": "1e9fba2c",
   "metadata": {},
   "outputs": [
    {
     "name": "stdout",
     "output_type": "stream",
     "text": [
      "total salary is 42000\n"
     ]
    }
   ],
   "source": [
    "#solutin 2 - use if else\n",
    "salary = 42000\n",
    "if salary > 50000:\n",
    "    da=.15\n",
    "    total = salary + salary * da\n",
    "else:\n",
    "    total = salary\n",
    "print(f\"total salary is {total}\")    \n"
   ]
  },
  {
   "cell_type": "code",
   "execution_count": 16,
   "id": "b57f7f63",
   "metadata": {},
   "outputs": [
    {
     "name": "stdout",
     "output_type": "stream",
     "text": [
      "20\n"
     ]
    }
   ],
   "source": [
    "x=int(input(\"enter a number :\"))\n",
    "y=int(input(\"enter second number:\"))\n",
    "if x > y:\n",
    "    ans = x-y \n",
    "else:\n",
    "    ans = y-x \n",
    "print(ans)   "
   ]
  },
  {
   "cell_type": "code",
   "execution_count": 15,
   "id": "307bcfce",
   "metadata": {},
   "outputs": [
    {
     "name": "stdout",
     "output_type": "stream",
     "text": [
      "long movie name: geeta govindam\n",
      "the end\n"
     ]
    }
   ],
   "source": [
    "name = input(\"enter your favourite movie\")\n",
    "if len(name) > 10:\n",
    "    print(f\"long movie name: {name}\")\n",
    "else:\n",
    "    print(f\"short movie name: {name}\")\n",
    "print(\"the end\")        "
   ]
  },
  {
   "cell_type": "markdown",
   "id": "8fd15304",
   "metadata": {},
   "source": [
    "Handling multiple conditions using if-elif"
   ]
  },
  {
   "cell_type": "code",
   "execution_count": 2,
   "id": "c4e71509",
   "metadata": {},
   "outputs": [
    {
     "name": "stdout",
     "output_type": "stream",
     "text": [
      "what is the capital of India?\n",
      "your are correct\n"
     ]
    }
   ],
   "source": [
    "print(\"what is the capital of India?\")\n",
    "answer = input(\"Answer\")\n",
    "if answer == \"Delhi\":\n",
    "    print(\"your are correct\")\n",
    "if answer == \"New Delhi\":\n",
    "    print(\"you are very correct\")\n",
    "if answer == \"I dont know\":\n",
    "    print(\"u must be sleeping under a rock\")\n",
    "if answer == \"shimla\":\n",
    "    print(\"you must be from Britain\")            "
   ]
  },
  {
   "cell_type": "code",
   "execution_count": null,
   "id": "5aa0750f",
   "metadata": {},
   "outputs": [
    {
     "name": "stdout",
     "output_type": "stream",
     "text": [
      "your grade:D\n"
     ]
    }
   ],
   "source": [
    "marks = int(input(\"enter your total marks in 10th:\"))\n",
    "if marks >90:\n",
    "    print(\"your grade:A\")\n",
    "if  marks >75:\n",
    "    print(\"your grade:B\")\n",
    "if  marks >60:\n",
    "    print(\"your grade:c\")\n",
    "if  marks >40:\n",
    "    print(\"your grade:D\")\n",
    "if  marks <40:\n",
    "    print(\"you failed💀\")               "
   ]
  },
  {
   "cell_type": "code",
   "execution_count": 8,
   "id": "e41be8a0",
   "metadata": {},
   "outputs": [
    {
     "name": "stdout",
     "output_type": "stream",
     "text": [
      "friends salary =>35000\n",
      "friends salary =>28000.0\n"
     ]
    }
   ],
   "source": [
    "# SALARY CALCULATOR\n",
    "salary = int (input(\"enter your friend salary\"))\n",
    "if salary > 10000:\n",
    "    total = salary - salary* .2\n",
    "elif salary > 80000: \n",
    "    total = salary - salary* .1\n",
    "elif salary > 50000:\n",
    "    total = salary - salary* .05\n",
    "else:\n",
    "    total = salary + 10000\n",
    "print(f'friends salary =>{salary}')\n",
    "print(f'friends salary =>{total}')\n"
   ]
  },
  {
   "cell_type": "markdown",
   "id": "47289f30",
   "metadata": {},
   "source": [
    "# match case "
   ]
  },
  {
   "cell_type": "code",
   "execution_count": 2,
   "id": "0acb5d11",
   "metadata": {},
   "outputs": [
    {
     "name": "stdout",
     "output_type": "stream",
     "text": [
      "Its not an option\n"
     ]
    }
   ],
   "source": [
    "day = input(\"what is the day today?\")\n",
    "match day:\n",
    "    case\"monday\":print(\"today is monday!boring\")\n",
    "    case\"tuesday\":print(\"holiday\")\n",
    "    case\"friday\":print(\"waiting for the weeekend\")\n",
    "    case\"saturday\":print(\"the best day of the week\")\n",
    "    case default:print(\"Its not an option\")"
   ]
  },
  {
   "cell_type": "code",
   "execution_count": 4,
   "id": "b51f2070",
   "metadata": {},
   "outputs": [
    {
     "name": "stdout",
     "output_type": "stream",
     "text": [
      "Tell me some movies\n",
      "Avengers,Deadpool,Fast and furious\n"
     ]
    }
   ],
   "source": [
    "print(\"Tell me some movies\")\n",
    "genre= input(\"what genre do you like\")\n",
    "match genre:\n",
    "    case \"action\":\n",
    "        print(\"Avengers,Deadpool,Fast and furious\")\n",
    "    case \"horror\":\n",
    "        print(\"IT,NUN,STREE\")\n",
    "    case \"fantasy\":\n",
    "        print(\"lord of the ring series,Harry potter series\")\n",
    "    case \"sci-fi\" \"comedy\":\n",
    "        print(\"Adam project,nimona,Intersteller\")    \n",
    "    case default:\n",
    "        print(\"you should not watch any movies\")            "
   ]
  },
  {
   "cell_type": "markdown",
   "id": "8a4c9ba8",
   "metadata": {},
   "source": [
    "# nested if \n",
    "if cond\n",
    "    if cond\n",
    "       if cond\n",
    "          statement\n",
    "        else:\n",
    "           statement\n",
    "    else:\n",
    "      statement\n",
    "else:\n",
    "   statement             "
   ]
  },
  {
   "cell_type": "markdown",
   "id": "44d073e6",
   "metadata": {},
   "source": []
  },
  {
   "cell_type": "code",
   "execution_count": 8,
   "id": "7a7f9c0c",
   "metadata": {},
   "outputs": [
    {
     "name": "stdout",
     "output_type": "stream",
     "text": [
      "the bear destroyed you\n"
     ]
    }
   ],
   "source": [
    "ans = input(\"you can see a bear,would like to fight it y/n\")\n",
    "if ans ==\"n\":\n",
    "    print(\"you escaped and find a loan\")\n",
    "    ans2= input(\"you want to find it y/n\")\n",
    "    if ans2 == \"n\":\n",
    "        print(\"you escaped again,and find a car\")\n",
    "        ans3 =input(\"you want to drive it y/n\")\n",
    "        if ans3 =='y':\n",
    "            print(\"you esacped the area\")\n",
    "        else:\n",
    "            print(\"the bear and lion catch and kill u\")\n",
    "    else:\n",
    "        print(\"you failed miserably and died \")\n",
    "else:\n",
    "    print(\"the bear destroyed you\")                   "
   ]
  },
  {
   "cell_type": "code",
   "execution_count": 11,
   "id": "c81192a9",
   "metadata": {},
   "outputs": [
    {
     "name": "stdout",
     "output_type": "stream",
     "text": [
      "the total is 28\n"
     ]
    }
   ],
   "source": [
    "a,b,c = 10,5,23\n",
    "if a > b:\n",
    "    if a > c:\n",
    "        total = a + b+ c\n",
    "        if total > 100:\n",
    "            print(f\"the total is big value ={total}\")\n",
    "        else:\n",
    "            print(f\"the total is small value ={total}\")\n",
    "    else:\n",
    "        total = c + b\n",
    "        print(f\"the total is {total}\")\n",
    "else:\n",
    "    print(\"the total was not calculated\")            "
   ]
  }
 ],
 "metadata": {
  "kernelspec": {
   "display_name": "Python 3",
   "language": "python",
   "name": "python3"
  },
  "language_info": {
   "codemirror_mode": {
    "name": "ipython",
    "version": 3
   },
   "file_extension": ".py",
   "mimetype": "text/x-python",
   "name": "python",
   "nbconvert_exporter": "python",
   "pygments_lexer": "ipython3",
   "version": "3.13.6"
  }
 },
 "nbformat": 4,
 "nbformat_minor": 5
}
