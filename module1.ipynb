{
 "cells": [
  {
   "cell_type": "code",
   "execution_count": 15,
   "id": "bbdff655",
   "metadata": {},
   "outputs": [
    {
     "name": "stdout",
     "output_type": "stream",
     "text": [
      "a = 35\n",
      "b = 20\n"
     ]
    }
   ],
   "source": [
    "\n",
    "\n",
    "a=20\n",
    "b=35\n",
    "print(\"a =\", b)\n",
    "print(\"b =\", a)"
   ]
  },
  {
   "cell_type": "markdown",
   "id": "9930e4a9",
   "metadata": {},
   "source": []
  },
  {
   "cell_type": "code",
   "execution_count": 3,
   "id": "bb195048",
   "metadata": {},
   "outputs": [
    {
     "name": "stdout",
     "output_type": "stream",
     "text": [
      "Result: Invalid Operator\n"
     ]
    }
   ],
   "source": [
    "# take input\n",
    "num1 = float(input(\"Enter first number: \"))\n",
    "num2 = float(input(\"Enter second number: \"))\n",
    "op = input(\"Enter operator (+, -, *, /): \")\n",
    "operations = {\n",
    "    \"+\": num1 + num2,\n",
    "    \"-\": num1 - num2,\n",
    "    \"*\": num1 * num2,\n",
    "    \"/\": num1 / num2 if num2 != 0 else \"Error: Division by zero\"\n",
    "}\n",
    "print(\"Result:\", operations.get(op, \"Invalid Operator\"))\n",
    "\n",
    "\n"
   ]
  },
  {
   "cell_type": "code",
   "execution_count": 5,
   "id": "558845d2",
   "metadata": {},
   "outputs": [
    {
     "name": "stdout",
     "output_type": "stream",
     "text": [
      "Integer value: 54\n",
      "Float value: 54.0\n"
     ]
    }
   ],
   "source": [
    "num_str = input(\"Enter a number: \")\n",
    "\n",
    "# convert to integer\n",
    "num_int = int(num_str)\n",
    "\n",
    "# convert to float\n",
    "num_float = float(num_str)\n",
    "\n",
    "# print values and their types\n",
    "print(\"Integer value:\", num_int)\n",
    "print(\"Float value:\", num_float)"
   ]
  },
  {
   "cell_type": "code",
   "execution_count": 7,
   "id": "cee3472d",
   "metadata": {},
   "outputs": [
    {
     "name": "stdout",
     "output_type": "stream",
     "text": [
      "Root 1: (-0.5217391304347825+0.9026321518272475j)\n",
      "Root 2: (-0.5217391304347827-0.9026321518272475j)\n"
     ]
    }
   ],
   "source": [
    "a = float(input(\"Enter a: \"))\n",
    "b = float(input(\"Enter b: \"))\n",
    "c = float(input(\"Enter c: \"))\n",
    "\n",
    "# discriminant\n",
    "d = b**2 - 4*a*c\n",
    "\n",
    "# square root (works for negative too using complex)\n",
    "sqrt_d = complex(d) ** 0.5\n",
    "\n",
    "# roots\n",
    "root1 = (-b + sqrt_d) / (2*a)\n",
    "root2 = (-b - sqrt_d) / (2*a)\n",
    "\n",
    "# output\n",
    "print(\"Root 1:\", root1)\n",
    "print(\"Root 2:\", root2)"
   ]
  },
  {
   "cell_type": "markdown",
   "id": "66829cff",
   "metadata": {},
   "source": [
    "Using input() and print()"
   ]
  },
  {
   "cell_type": "code",
   "execution_count": 1,
   "id": "5f014331",
   "metadata": {},
   "outputs": [
    {
     "name": "stdout",
     "output_type": "stream",
     "text": [
      "Hello, monika\n",
      "You are from chittoor\n",
      "You are 20 years old.\n",
      "Your rate is 15.0\n"
     ]
    }
   ],
   "source": [
    "name = input(\"Enter your name: \")\n",
    "print(\"Hello,\", name)\n",
    "city = input(\"Enter your city: \")\n",
    "print(\"You are from\", city)\n",
    "age = int(input(\"Enter your age: \"))\n",
    "print(\"You are\", age, \"years old.\")\n",
    "rate = float(input(\"Enter your rate: \"))\n",
    "print(\"Your rate is\", rate)"
   ]
  },
  {
   "cell_type": "code",
   "execution_count": 3,
   "id": "e19687d4",
   "metadata": {},
   "outputs": [
    {
     "name": "stdout",
     "output_type": "stream",
     "text": [
      "Welcome to Python!\n",
      "Sum: 8\n",
      "Hello World !\n",
      "Name: manisha\n",
      "Name: Alice Age: 22 City: New York\n"
     ]
    }
   ],
   "source": [
    "print(\"Welcome to Python!\")\n",
    "print(\"Sum:\", 5 + 3)\n",
    "print(\"Hello\", \"World\", \"!\")\n",
    "name = \"manisha\"\n",
    "print(\"Name:\", name)\n",
    "name, age, city = \"Alice\", 22, \"New York\"\n",
    "print(\"Name:\", name, \"Age:\", age, \"City:\", city)"
   ]
  },
  {
   "cell_type": "markdown",
   "id": "82a4f78e",
   "metadata": {},
   "source": [
    "fomatted strings"
   ]
  },
  {
   "cell_type": "code",
   "execution_count": 5,
   "id": "737a46b9",
   "metadata": {},
   "outputs": [
    {
     "name": "stdout",
     "output_type": "stream",
     "text": [
      "uma shankar is 22 years old.\n"
     ]
    }
   ],
   "source": [
    "name = \"uma shankar\"\n",
    "age = 22\n",
    "print(f\"{name} is {age} years old.\")"
   ]
  },
  {
   "cell_type": "markdown",
   "id": "e6741e05",
   "metadata": {},
   "source": []
  },
  {
   "cell_type": "code",
   "execution_count": 6,
   "id": "6264c8fe",
   "metadata": {},
   "outputs": [
    {
     "name": "stdout",
     "output_type": "stream",
     "text": [
      "Bob scored 95 marks.\n",
      "Charlie is 30 years old.\n"
     ]
    }
   ],
   "source": [
    "print(\"{} scored {} marks.\".format(\"Bob\", 95))\n",
    "print(\"{1} is {0} years old.\".format(30, \"Charlie\"))"
   ]
  },
  {
   "cell_type": "markdown",
   "id": "b08db78d",
   "metadata": {},
   "source": [
    "THE TEN DATATYPES"
   ]
  },
  {
   "cell_type": "code",
   "execution_count": 8,
   "id": "1c1a2208",
   "metadata": {},
   "outputs": [
    {
     "name": "stdout",
     "output_type": "stream",
     "text": [
      "<class 'int'>\n"
     ]
    }
   ],
   "source": [
    "x = 10\n",
    "print(type(x))"
   ]
  },
  {
   "cell_type": "code",
   "execution_count": 9,
   "id": "880b8b86",
   "metadata": {},
   "outputs": [
    {
     "name": "stdout",
     "output_type": "stream",
     "text": [
      "<class 'float'>\n"
     ]
    }
   ],
   "source": [
    "y = 3.5\n",
    "print(type(y))"
   ]
  },
  {
   "cell_type": "code",
   "execution_count": 10,
   "id": "ccfca220",
   "metadata": {},
   "outputs": [
    {
     "name": "stdout",
     "output_type": "stream",
     "text": [
      "<class 'complex'>\n"
     ]
    }
   ],
   "source": [
    "z = 1 + 2j\n",
    "print(type(z))"
   ]
  },
  {
   "cell_type": "code",
   "execution_count": 11,
   "id": "d70811ae",
   "metadata": {},
   "outputs": [
    {
     "name": "stdout",
     "output_type": "stream",
     "text": [
      "<class 'NoneType'>\n"
     ]
    }
   ],
   "source": [
    "n = None\n",
    "print(type(n))"
   ]
  },
  {
   "cell_type": "code",
   "execution_count": 12,
   "id": "8e67edef",
   "metadata": {},
   "outputs": [
    {
     "name": "stdout",
     "output_type": "stream",
     "text": [
      "<class 'str'>\n"
     ]
    }
   ],
   "source": [
    "s = \"Python\"\n",
    "print(type(s))  "
   ]
  },
  {
   "cell_type": "code",
   "execution_count": 13,
   "id": "322bd356",
   "metadata": {},
   "outputs": [
    {
     "name": "stdout",
     "output_type": "stream",
     "text": [
      "<class 'bool'>\n"
     ]
    }
   ],
   "source": [
    "flag = True\n",
    "print(type(flag))"
   ]
  },
  {
   "cell_type": "code",
   "execution_count": 14,
   "id": "b9a1636b",
   "metadata": {},
   "outputs": [
    {
     "name": "stdout",
     "output_type": "stream",
     "text": [
      "<class 'list'>\n"
     ]
    }
   ],
   "source": [
    "fruits = [\"apple\", \"banana\", \"cherry\"]\n",
    "print(type(fruits))  "
   ]
  },
  {
   "cell_type": "code",
   "execution_count": 15,
   "id": "ce769c93",
   "metadata": {},
   "outputs": [
    {
     "name": "stdout",
     "output_type": "stream",
     "text": [
      "<class 'tuple'>\n"
     ]
    }
   ],
   "source": [
    "point = (3, 5)\n",
    "print(type(point)) "
   ]
  },
  {
   "cell_type": "code",
   "execution_count": 16,
   "id": "13988b83",
   "metadata": {},
   "outputs": [
    {
     "name": "stdout",
     "output_type": "stream",
     "text": [
      "<class 'set'>\n"
     ]
    }
   ],
   "source": [
    "fruits = {\"apple\", \"banana\", \"cherry\"}\n",
    "print(type(fruits))"
   ]
  },
  {
   "cell_type": "code",
   "execution_count": 17,
   "id": "7666d47b",
   "metadata": {},
   "outputs": [
    {
     "name": "stdout",
     "output_type": "stream",
     "text": [
      "<class 'dict'>\n"
     ]
    }
   ],
   "source": [
    "student = {\"name\": \"Alice\", \"age\": 22}\n",
    "print(type(student))"
   ]
  },
  {
   "cell_type": "markdown",
   "id": "ea9e194f",
   "metadata": {},
   "source": [
    "OTHER IMPORTANT DATATYPES"
   ]
  },
  {
   "cell_type": "code",
   "execution_count": 18,
   "id": "e29e8597",
   "metadata": {},
   "outputs": [
    {
     "name": "stdout",
     "output_type": "stream",
     "text": [
      "<class 'bytes'>\n"
     ]
    }
   ],
   "source": [
    "b = b\"Hello\"\n",
    "print(type(b))"
   ]
  },
  {
   "cell_type": "code",
   "execution_count": 19,
   "id": "8faef19f",
   "metadata": {},
   "outputs": [
    {
     "name": "stdout",
     "output_type": "stream",
     "text": [
      "<class 'frozenset'>\n"
     ]
    }
   ],
   "source": [
    "fs = frozenset([1, 2, 3])\n",
    "print(type(fs))"
   ]
  },
  {
   "cell_type": "code",
   "execution_count": 20,
   "id": "71e61e8a",
   "metadata": {},
   "outputs": [
    {
     "name": "stdout",
     "output_type": "stream",
     "text": [
      "<class 'collections.OrderedDict'>\n"
     ]
    }
   ],
   "source": [
    "from collections import OrderedDict\n",
    "od = OrderedDict()\n",
    "od[\"apple\"] = 1\n",
    "od[\"banana\"] = 2\n",
    "print(type(od))"
   ]
  },
  {
   "cell_type": "code",
   "execution_count": 21,
   "id": "0f000d4a",
   "metadata": {},
   "outputs": [
    {
     "name": "stdout",
     "output_type": "stream",
     "text": [
      "defaultdict(<class 'int'>, {'apple': 1})\n"
     ]
    }
   ],
   "source": [
    "from collections import defaultdict\n",
    "dd = defaultdict(int)\n",
    "dd[\"apple\"] += 1\n",
    "print(dd)"
   ]
  },
  {
   "cell_type": "code",
   "execution_count": 22,
   "id": "8375fde3",
   "metadata": {},
   "outputs": [
    {
     "name": "stdout",
     "output_type": "stream",
     "text": [
      "Counter({'apple': 2, 'banana': 1})\n"
     ]
    }
   ],
   "source": [
    "from collections import Counter\n",
    "c = Counter([\"apple\", \"banana\", \"apple\"])\n",
    "print(c)  "
   ]
  },
  {
   "cell_type": "code",
   "execution_count": 23,
   "id": "497d1e81",
   "metadata": {},
   "outputs": [
    {
     "name": "stdout",
     "output_type": "stream",
     "text": [
      "deque([2, 1])\n"
     ]
    }
   ],
   "source": [
    "from collections import deque\n",
    "d = deque()\n",
    "d.append(1)\n",
    "d.appendleft(2)\n",
    "print(d)"
   ]
  },
  {
   "cell_type": "code",
   "execution_count": 24,
   "id": "667bdc42",
   "metadata": {},
   "outputs": [
    {
     "name": "stdout",
     "output_type": "stream",
     "text": [
      "{'apple': 1}\n"
     ]
    }
   ],
   "source": [
    "from collections import UserDict\n",
    "class MyDict(UserDict):\n",
    "    def __setitem__(self, key, value):\n",
    "        super().__setitem__(key, value)\n",
    "d = MyDict()\n",
    "d[\"apple\"] = 1\n",
    "print(d)  "
   ]
  },
  {
   "cell_type": "code",
   "execution_count": 25,
   "id": "901ba69f",
   "metadata": {},
   "outputs": [
    {
     "name": "stdout",
     "output_type": "stream",
     "text": [
      "[1]\n"
     ]
    }
   ],
   "source": [
    "from collections import UserList\n",
    "class MyList(UserList):\n",
    "    def append(self, item):\n",
    "        super().append(item)\n",
    "l = MyList()\n",
    "l.append(1)\n",
    "print(l)  "
   ]
  },
  {
   "cell_type": "markdown",
   "id": "faba34b0",
   "metadata": {},
   "source": [
    "Dynamic Typing & Type Conversions"
   ]
  },
  {
   "cell_type": "code",
   "execution_count": 26,
   "id": "b0ed5599",
   "metadata": {},
   "outputs": [
    {
     "name": "stdout",
     "output_type": "stream",
     "text": [
      "<class 'str'>\n"
     ]
    }
   ],
   "source": [
    "x = 10      # x is int\n",
    "x = \"ten\"   # now x is str\n",
    "print(type(x))  # <class 'str'>\n"
   ]
  },
  {
   "cell_type": "code",
   "execution_count": 27,
   "id": "24219c3e",
   "metadata": {},
   "outputs": [
    {
     "name": "stdout",
     "output_type": "stream",
     "text": [
      "7.0\n",
      "<class 'float'>\n"
     ]
    }
   ],
   "source": [
    "a = 5       # int\n",
    "b = 2.0     # float\n",
    "c = a + b   # int + float -> float\n",
    "print(c)    # 7.0\n",
    "print(type(c))  # <class 'float'>\n"
   ]
  },
  {
   "cell_type": "code",
   "execution_count": 28,
   "id": "96c25bc1",
   "metadata": {},
   "outputs": [
    {
     "name": "stdout",
     "output_type": "stream",
     "text": [
      "7\n"
     ]
    }
   ],
   "source": [
    "a = \"5\"\n",
    "b = \"2\"\n",
    "c = int(a) + int(b)  # convert strings to int\n",
    "print(c)  # 7\n"
   ]
  },
  {
   "cell_type": "code",
   "execution_count": 29,
   "id": "5b4c1df7",
   "metadata": {},
   "outputs": [
    {
     "name": "stdout",
     "output_type": "stream",
     "text": [
      "3\n"
     ]
    }
   ],
   "source": [
    "x = 3.7\n",
    "y = int(x)  # y is 3 (decimal part is truncated)\n",
    "print(y)"
   ]
  },
  {
   "cell_type": "code",
   "execution_count": 31,
   "id": "8aa1abd4",
   "metadata": {},
   "outputs": [
    {
     "name": "stdout",
     "output_type": "stream",
     "text": [
      "7\n"
     ]
    }
   ],
   "source": [
    "a = 5\n",
    "b = 2\n",
    "print(a + b)  # TypeError: can only concatenate str (not \"int\") to str\n"
   ]
  },
  {
   "cell_type": "code",
   "execution_count": 36,
   "id": "eae0c43f",
   "metadata": {},
   "outputs": [
    {
     "name": "stdout",
     "output_type": "stream",
     "text": [
      "7\n",
      "7\n"
     ]
    }
   ],
   "source": [
    "print(int(a) + b)  # 7\n",
    "print(a+int(b))  # 52\n"
   ]
  },
  {
   "cell_type": "code",
   "execution_count": 40,
   "id": "48c4f984",
   "metadata": {},
   "outputs": [],
   "source": [
    "s = \"hello\"\n",
    "n = int()  # ValueError: invalid literal for int() with base 10: 'hello'\n"
   ]
  },
  {
   "cell_type": "code",
   "execution_count": 41,
   "id": "86aa3c7d",
   "metadata": {},
   "outputs": [
    {
     "name": "stdout",
     "output_type": "stream",
     "text": [
      "Cannot convert to int!\n"
     ]
    }
   ],
   "source": [
    "s = \"abc\"\n",
    "try:\n",
    "        n = int(s)\n",
    "except ValueError:\n",
    "        print(\"Cannot convert to int!\")\n"
   ]
  },
  {
   "cell_type": "markdown",
   "id": "4a1e38aa",
   "metadata": {},
   "source": [
    "operators types in python\n",
    "\n",
    "ARITHMETIC OPERATORS"
   ]
  },
  {
   "cell_type": "code",
   "execution_count": 42,
   "id": "af829954",
   "metadata": {},
   "outputs": [
    {
     "name": "stdout",
     "output_type": "stream",
     "text": [
      "14\n",
      "1.8\n",
      "1\n",
      "59049\n"
     ]
    }
   ],
   "source": [
    "a = 9\n",
    "b = 5\n",
    "print(a + b)  \n",
    "print(a / b)  \n",
    "print(a // b) \n",
    "print(a ** b)"
   ]
  },
  {
   "cell_type": "markdown",
   "id": "70023d11",
   "metadata": {},
   "source": [
    "RELATIONAL OPERATOR"
   ]
  },
  {
   "cell_type": "code",
   "execution_count": 43,
   "id": "82be9089",
   "metadata": {},
   "outputs": [
    {
     "name": "stdout",
     "output_type": "stream",
     "text": [
      "True\n",
      "False\n"
     ]
    }
   ],
   "source": [
    "print(5 > 2)   \n",
    "print(5 == 2)  \n"
   ]
  },
  {
   "cell_type": "markdown",
   "id": "17298334",
   "metadata": {},
   "source": [
    "Logical Operators"
   ]
  },
  {
   "cell_type": "code",
   "execution_count": 45,
   "id": "191854a7",
   "metadata": {},
   "outputs": [
    {
     "name": "stdout",
     "output_type": "stream",
     "text": [
      "True\n",
      "False\n"
     ]
    }
   ],
   "source": [
    "x = 5\n",
    "print(x > 2 and x < 10)  \n",
    "print(not(x == 5))       "
   ]
  },
  {
   "cell_type": "markdown",
   "id": "3b293f24",
   "metadata": {},
   "source": [
    "BITWISE OPERATOR"
   ]
  },
  {
   "cell_type": "code",
   "execution_count": 46,
   "id": "a49b90cb",
   "metadata": {},
   "outputs": [
    {
     "name": "stdout",
     "output_type": "stream",
     "text": [
      "1\n",
      "7\n",
      "6\n",
      "-6\n",
      "10\n",
      "2\n"
     ]
    }
   ],
   "source": [
    "a = 5  # 0101\n",
    "b = 3  # 0011\n",
    "print(a & b)  # 1\n",
    "print(a | b)  # 7\n",
    "print(a ^ b)  # 6\n",
    "print(~a)     # -6\n",
    "print(a << 1) # 10\n",
    "print(a >> 1)"
   ]
  },
  {
   "cell_type": "markdown",
   "id": "873170fa",
   "metadata": {},
   "source": [
    "ASSIGNMENT OPERATOR"
   ]
  },
  {
   "cell_type": "code",
   "execution_count": 47,
   "id": "bf6b6319",
   "metadata": {},
   "outputs": [
    {
     "name": "stdout",
     "output_type": "stream",
     "text": [
      "15\n"
     ]
    }
   ],
   "source": [
    "x = 10\n",
    "x += 5  # x = x + 5\n",
    "print(x)  # 15\n"
   ]
  },
  {
   "cell_type": "markdown",
   "id": "0fe2fbaa",
   "metadata": {},
   "source": [
    "MEMBERSHIP OPERATOR"
   ]
  },
  {
   "cell_type": "code",
   "execution_count": 48,
   "id": "041e9b95",
   "metadata": {},
   "outputs": [
    {
     "name": "stdout",
     "output_type": "stream",
     "text": [
      "True\n",
      "True\n"
     ]
    }
   ],
   "source": [
    "nums = [1, 2, 3]\n",
    "print(2 in nums)      \n",
    "print(4 not in nums) "
   ]
  },
  {
   "cell_type": "markdown",
   "id": "1048d3ef",
   "metadata": {},
   "source": [
    "IDENTITY OPERATOR"
   ]
  },
  {
   "cell_type": "code",
   "execution_count": 49,
   "id": "d088c6bf",
   "metadata": {},
   "outputs": [
    {
     "name": "stdout",
     "output_type": "stream",
     "text": [
      "True\n",
      "False\n",
      "True\n"
     ]
    }
   ],
   "source": [
    "a = [1, 2]\n",
    "b = a\n",
    "c = [1, 2]\n",
    "print(a is b)      # True\n",
    "print(a is c)      # False\n",
    "print(a == c) "
   ]
  },
  {
   "cell_type": "markdown",
   "id": "3378b4bb",
   "metadata": {},
   "source": [
    "Operator Precedence Table in Python"
   ]
  },
  {
   "cell_type": "code",
   "execution_count": 50,
   "id": "e2830946",
   "metadata": {},
   "outputs": [],
   "source": [
    "result = 2 + 3 * 4      # Multiplication has higher precedence: 2 + (3 * 4) = 14\n",
    "result = (2 + 3) * 4    # Parentheses change the order: (2 + 3) * 4 = 20\n",
    "result = 2 ** 3 ** 2    # Exponentiation is right-to-left: 2 ** (3 ** 2) = 512\n",
    "result = 10 - 4 + 2  "
   ]
  },
  {
   "cell_type": "markdown",
   "id": "ba539a56",
   "metadata": {},
   "source": [
    "COMMENTS IN PYTHON"
   ]
  },
  {
   "cell_type": "markdown",
   "id": "dbc52fab",
   "metadata": {},
   "source": [
    "Single-line Comments"
   ]
  },
  {
   "cell_type": "code",
   "execution_count": 51,
   "id": "38d8458b",
   "metadata": {},
   "outputs": [
    {
     "name": "stdout",
     "output_type": "stream",
     "text": [
      "Hello\n"
     ]
    }
   ],
   "source": [
    "print(\"Hello\")"
   ]
  },
  {
   "cell_type": "markdown",
   "id": "5fbfa2ed",
   "metadata": {},
   "source": [
    "Multi-line Comments"
   ]
  },
  {
   "cell_type": "code",
   "execution_count": 52,
   "id": "7fe8d9a6",
   "metadata": {},
   "outputs": [
    {
     "data": {
      "text/plain": [
       "'\\nThis is also a\\nmulti-line comment\\n'"
      ]
     },
     "execution_count": 52,
     "metadata": {},
     "output_type": "execute_result"
    }
   ],
   "source": [
    "# This is a\n",
    "# multi-line comment\n",
    "\n",
    "'''\n",
    "This is also a\n",
    "multi-line comment\n",
    "'''\n"
   ]
  },
  {
   "cell_type": "markdown",
   "id": "c7418e53",
   "metadata": {},
   "source": [
    "Docstrings"
   ]
  },
  {
   "cell_type": "code",
   "execution_count": 53,
   "id": "7d203415",
   "metadata": {},
   "outputs": [],
   "source": [
    "def add(a, b):\n",
    "    \"\"\"\n",
    "    Adds two numbers.\n",
    "    \"\"\"\n",
    "    return a + b"
   ]
  },
  {
   "cell_type": "markdown",
   "id": "e4492178",
   "metadata": {},
   "source": [
    "Aggregation:\n",
    "\n",
    "SUM \n",
    "COUNT\n",
    "MIN\n",
    "MAX\n",
    "AVG\n",
    "MEDIAN"
   ]
  },
  {
   "cell_type": "markdown",
   "id": "b1f17e81",
   "metadata": {},
   "source": [
    "Data structures are four types\n",
    "\n",
    "1.list\n",
    "2.tuple\n",
    "3.set\n",
    "4.dict"
   ]
  },
  {
   "cell_type": "markdown",
   "id": "2778f7ae",
   "metadata": {},
   "source": [
    "1.LIST:\n",
    "\n",
    "      mutable\n",
    "      Indexed\n",
    "      Heterogenous\n",
    "      Duplicated allowed\n",
    "\n",
    "      represented by list[],and list()\n",
    "\n",
    "\n",
    "      x=[1,2,3]\n",
    "      c=['a','b','c']\n",
    "      a=[1,'a',2,true,\"hello\"]\n",
    "      b=[1,1,1,1]\n",
    "\n",
    "      Type casting:\n",
    "      int()\n",
    "      str()\n",
    "      bool()\n",
    "      float()\n",
    "      list()\n",
    "      set()\n",
    "      tuple()\n",
    "      dict()"
   ]
  },
  {
   "cell_type": "markdown",
   "id": "e21c7c09",
   "metadata": {},
   "source": [
    "1.creation:\n",
    "x=[]                  #empty\n",
    "x=list()              #empty\n",
    "y=[1,2,3,]            #direct intialization\n",
    "\n",
    "z=[]\n",
    "z.append('apple\")     #adding single value\n",
    "z append(\"cherry\")\n",
    "z.append(\"avacado\")"
   ]
  },
  {
   "cell_type": "code",
   "execution_count": 1,
   "id": "474d4eed",
   "metadata": {},
   "outputs": [
    {
     "name": "stdout",
     "output_type": "stream",
     "text": [
      "[1, 2, 3] [4, 5, 6] [1, 2, 3, 4, 5, 6]\n"
     ]
    }
   ],
   "source": [
    "x=[1,2,3]\n",
    "y=[4,5,6]\n",
    "z=x+y\n",
    "print(x,y,z)"
   ]
  },
  {
   "cell_type": "code",
   "execution_count": null,
   "id": "51db7336",
   "metadata": {},
   "outputs": [
    {
     "name": "stdout",
     "output_type": "stream",
     "text": [
      "[1, 1, 1, 1, 1, 1, 1, 1, 1, 1]\n",
      "[1, 2, 1, 2, 1, 2, 1, 2, 1, 2]\n",
      "[1, 1, 1, 1, 1, 1, 1, 1, 1, 1, 1, 1, 1, 1, 1, 1, 1, 1, 1, 1]\n"
     ]
    }
   ],
   "source": [
    "# list of duplicates\n",
    "a=[1]*10 #cloning\n",
    "print(a)\n",
    "b=[1,2]*5\n",
    "c=a*2\n",
    "print(b)\n",
    "print(c)"
   ]
  },
  {
   "cell_type": "code",
   "execution_count": 4,
   "id": "0ff7323b",
   "metadata": {},
   "outputs": [
    {
     "name": "stdout",
     "output_type": "stream",
     "text": [
      "[1, 1, 1, 1, 1, 1, 1, 1, 1, 1]\n",
      "1\n",
      "1\n",
      "1\n",
      "1\n",
      "1\n",
      "1\n",
      "1\n",
      "1\n",
      "1\n",
      "1\n",
      "1\n",
      "1 1\n"
     ]
    }
   ],
   "source": [
    "print(a)  #raw output\n",
    "# dispalying single item at a time very loop\n",
    "for item in a:\n",
    "    print(item)\n",
    "#single element using index\n",
    "print(a[0])\n",
    "print(a[3],a[5])\n",
    "\n"
   ]
  },
  {
   "cell_type": "code",
   "execution_count": null,
   "id": "d7299362",
   "metadata": {},
   "outputs": [],
   "source": []
  }
 ],
 "metadata": {
  "kernelspec": {
   "display_name": "Python 3",
   "language": "python",
   "name": "python3"
  },
  "language_info": {
   "codemirror_mode": {
    "name": "ipython",
    "version": 3
   },
   "file_extension": ".py",
   "mimetype": "text/x-python",
   "name": "python",
   "nbconvert_exporter": "python",
   "pygments_lexer": "ipython3",
   "version": "3.13.6"
  }
 },
 "nbformat": 4,
 "nbformat_minor": 5
}
