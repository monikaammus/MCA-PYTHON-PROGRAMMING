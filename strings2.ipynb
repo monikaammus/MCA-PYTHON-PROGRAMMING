{
 "cells": [
  {
   "cell_type": "markdown",
   "id": "e1152775",
   "metadata": {},
   "source": [
    "# strings utility methods"
   ]
  },
  {
   "cell_type": "code",
   "execution_count": 2,
   "id": "2aab3dfe",
   "metadata": {},
   "outputs": [
    {
     "name": "stdout",
     "output_type": "stream",
     "text": [
      "once upon a time twice upon a time\n",
      "oncl upon a timl\n"
     ]
    }
   ],
   "source": [
    "# replace\n",
    "s=\"once upon a time\"\n",
    "s2=s.replace('once','twice')\n",
    "print(s,s2)\n",
    "s3=s.replace('e','l')\n",
    "print(s3)\n"
   ]
  },
  {
   "cell_type": "code",
   "execution_count": 7,
   "id": "64de2f15",
   "metadata": {},
   "outputs": [
    {
     "name": "stdout",
     "output_type": "stream",
     "text": [
      "PY#t#h#o#n\n",
      "PYthon\n"
     ]
    }
   ],
   "source": [
    "# replace for removing a content\n",
    "data='PY#t#h#o#n'\n",
    "cleaned_data=data.replace('#',\"\")\n",
    "print(data,cleaned_data,sep='\\n')"
   ]
  },
  {
   "cell_type": "markdown",
   "id": "d9c44a20",
   "metadata": {},
   "source": [
    "#find/Index"
   ]
  },
  {
   "cell_type": "code",
   "execution_count": 13,
   "id": "9b03692b",
   "metadata": {},
   "outputs": [
    {
     "name": "stdout",
     "output_type": "stream",
     "text": [
      "7\n",
      "-1\n",
      "2\n",
      "-1\n",
      "-1\n"
     ]
    }
   ],
   "source": [
    "m=\"alpine mountain range\"\n",
    "print(m.find('mountain'))\n",
    "print(m.find('lion'))\n",
    "print(m.find('pine'))\n",
    "print(m.find('1'))\n",
    "print(m.find('1',4))"
   ]
  },
  {
   "cell_type": "code",
   "execution_count": 17,
   "id": "411daf89",
   "metadata": {},
   "outputs": [
    {
     "name": "stdout",
     "output_type": "stream",
     "text": [
      "life before death,\n",
      "         courage before despair,\n",
      "         journey before destination\n",
      "['life', 'before', 'death,', 'courage', 'before', 'despair,', 'journey', 'before', 'destination']\n",
      "sentence\n"
     ]
    }
   ],
   "source": [
    "quote='''life before death,\n",
    "         courage before despair,\n",
    "         journey before destination'''\n",
    "words=quote.split()    # str->list\n",
    "print(quote)\n",
    "print(words)\n",
    "sentences=quote.split(',')\n",
    "print(\"sentence\")"
   ]
  },
  {
   "cell_type": "code",
   "execution_count": 18,
   "id": "6bd6c865",
   "metadata": {},
   "outputs": [
    {
     "name": "stdout",
     "output_type": "stream",
     "text": [
      "['MBU', 'sree sainath nagar', 'tirupathi', 'AP', '517102']\n",
      "MBU,sree sainath nagar,tirupathi,AP,517102\n"
     ]
    }
   ],
   "source": [
    "address=['MBU','sree sainath nagar','tirupathi','AP','517102']\n",
    "address_str=\",\".join(address)  #list->str\n",
    "print(address,address_str,sep='\\n')\n",
    "address2=\"_\".join(address)\n",
    "address3=\"\\n\".join(address)\n",
    "address4=\"what\".join(address)"
   ]
  },
  {
   "cell_type": "code",
   "execution_count": 1,
   "id": "5859f404",
   "metadata": {},
   "outputs": [
    {
     "name": "stdout",
     "output_type": "stream",
     "text": [
      "odd\n"
     ]
    }
   ],
   "source": [
    "#Function&modules\n",
    "n=input('enter value')\n",
    "if int(n)%2==0:\n",
    "    print('even')\n",
    "else:\n",
    "    print('odd')"
   ]
  },
  {
   "cell_type": "markdown",
   "id": "4578af21",
   "metadata": {},
   "source": [
    "functions are divided into 2 types:\n",
    " user defined\n",
    " pre defined function:\n",
    "                 1.print()\n",
    "                 2.input()\n",
    "                 3.str()\n",
    "                 4.len()\n",
    "based on function i/o,4 types of function\n",
    "1.logic(closed function)\n",
    "2.parameterized function\n",
    "3.function returning value\n",
    "4.parameterized+value returning function"
   ]
  },
  {
   "cell_type": "code",
   "execution_count": 1,
   "id": "c5a6b125",
   "metadata": {},
   "outputs": [],
   "source": [
    "def total (a,b,c):\n",
    "  ans=a+b+c\n",
    "  print(f'total = {ans}')"
   ]
  },
  {
   "cell_type": "code",
   "execution_count": 2,
   "id": "2df90948",
   "metadata": {},
   "outputs": [
    {
     "name": "stdout",
     "output_type": "stream",
     "text": [
      "total = 60\n"
     ]
    }
   ],
   "source": [
    "total(10,20,30)"
   ]
  },
  {
   "cell_type": "code",
   "execution_count": 3,
   "id": "e0588df0",
   "metadata": {},
   "outputs": [
    {
     "name": "stdout",
     "output_type": "stream",
     "text": [
      "total = 29\n"
     ]
    }
   ],
   "source": [
    "total(1,15,13)"
   ]
  },
  {
   "cell_type": "code",
   "execution_count": 4,
   "id": "7261b1c5",
   "metadata": {},
   "outputs": [],
   "source": [
    "def mul(a,b):\n",
    "    print(a*b)"
   ]
  },
  {
   "cell_type": "code",
   "execution_count": 5,
   "id": "5ccac711",
   "metadata": {},
   "outputs": [
    {
     "name": "stdout",
     "output_type": "stream",
     "text": [
      "6\n"
     ]
    }
   ],
   "source": [
    "mul(2,3)"
   ]
  },
  {
   "cell_type": "code",
   "execution_count": 6,
   "id": "0e784afe",
   "metadata": {},
   "outputs": [
    {
     "name": "stdout",
     "output_type": "stream",
     "text": [
      "2625\n"
     ]
    }
   ],
   "source": [
    "mul(15,175)"
   ]
  },
  {
   "cell_type": "code",
   "execution_count": 7,
   "id": "147d3d61",
   "metadata": {},
   "outputs": [
    {
     "name": "stdout",
     "output_type": "stream",
     "text": [
      "75\n"
     ]
    }
   ],
   "source": [
    "mul(5,15)"
   ]
  },
  {
   "cell_type": "markdown",
   "id": "0772ee02",
   "metadata": {},
   "source": [
    "def hyp(p,b):ans=maths.sqrt(p2+b2)return ans hyp(10,5)"
   ]
  },
  {
   "cell_type": "code",
   "execution_count": 10,
   "id": "987fbcba",
   "metadata": {},
   "outputs": [
    {
     "data": {
      "text/plain": [
       "False"
      ]
     },
     "execution_count": 10,
     "metadata": {},
     "output_type": "execute_result"
    }
   ],
   "source": [
    "def is_even(num):\n",
    "     if num%2==0:\n",
    "        return True\n",
    "     else:\n",
    "        return False\n",
    "is_even(25)"
   ]
  },
  {
   "cell_type": "code",
   "execution_count": 11,
   "id": "bf5dec9c",
   "metadata": {},
   "outputs": [
    {
     "name": "stdout",
     "output_type": "stream",
     "text": [
      "good job\n"
     ]
    }
   ],
   "source": [
    "x = int(input(\"enter a num\"))\n",
    "if is_even(x):\n",
    "    print(\"good job\")\n",
    "else:\n",
    "    print(\"you are strict\")"
   ]
  },
  {
   "cell_type": "markdown",
   "id": "6a89421f",
   "metadata": {},
   "source": [
    "# required parameter "
   ]
  },
  {
   "cell_type": "code",
   "execution_count": 13,
   "id": "ab1a5786",
   "metadata": {},
   "outputs": [
    {
     "name": "stdout",
     "output_type": "stream",
     "text": [
      "50\n"
     ]
    }
   ],
   "source": [
    "def area(I,b):\n",
    "    return I*b\n",
    "ans= area(10,5)\n",
    "print(ans)\n"
   ]
  },
  {
   "cell_type": "markdown",
   "id": "b1ed824b",
   "metadata": {},
   "source": [
    "# named parameter calls"
   ]
  },
  {
   "cell_type": "code",
   "execution_count": 14,
   "id": "02f8039b",
   "metadata": {},
   "outputs": [
    {
     "name": "stdout",
     "output_type": "stream",
     "text": [
      "65\n",
      "1650.0\n"
     ]
    }
   ],
   "source": [
    "res=area(I=5,b=13)\n",
    "print(res)\n",
    "def si(p,r,t):\n",
    "    return p*r*t/100\n",
    "intrest=si(p=10000,r=3.3,t=5)\n",
    "print(intrest)"
   ]
  },
  {
   "cell_type": "markdown",
   "id": "347d389a",
   "metadata": {},
   "source": [
    "# default parameter"
   ]
  },
  {
   "cell_type": "code",
   "execution_count": 16,
   "id": "f2640453",
   "metadata": {},
   "outputs": [
    {
     "name": "stdout",
     "output_type": "stream",
     "text": [
      "1000\n",
      "100000\n"
     ]
    }
   ],
   "source": [
    "def power(n,e=2):\n",
    "    return n**e\n",
    "print(pow(10,3))\n",
    "print(pow(10,5))"
   ]
  },
  {
   "cell_type": "code",
   "execution_count": null,
   "id": "06aa09a0",
   "metadata": {},
   "outputs": [
    {
     "data": {
      "text/plain": [
       "9"
      ]
     },
     "execution_count": 21,
     "metadata": {},
     "output_type": "execute_result"
    }
   ],
   "source": [
    "def adder(a,b=0,c=0,d=0):\n",
    "    return a+b+c+d\n",
    "adder(10)"
   ]
  },
  {
   "cell_type": "code",
   "execution_count": 22,
   "id": "28a07cee",
   "metadata": {},
   "outputs": [
    {
     "data": {
      "text/plain": [
       "9"
      ]
     },
     "execution_count": 22,
     "metadata": {},
     "output_type": "execute_result"
    }
   ],
   "source": [
    "def adder(a,b=0,c=0,d=0):\n",
    "    return a+b+c+d\n",
    "adder(5,4)"
   ]
  },
  {
   "cell_type": "code",
   "execution_count": 23,
   "id": "d41c78a6",
   "metadata": {},
   "outputs": [
    {
     "data": {
      "text/plain": [
       "10"
      ]
     },
     "execution_count": 23,
     "metadata": {},
     "output_type": "execute_result"
    }
   ],
   "source": [
    "def adder(a,b=0,c=0,d=0):\n",
    "    return a+b+c+d\n",
    "adder(2,3,5)"
   ]
  },
  {
   "cell_type": "code",
   "execution_count": 24,
   "id": "dfade1dc",
   "metadata": {},
   "outputs": [
    {
     "data": {
      "text/plain": [
       "22"
      ]
     },
     "execution_count": 24,
     "metadata": {},
     "output_type": "execute_result"
    }
   ],
   "source": [
    "def adder(a,b=0,c=0,d=0):\n",
    "    return a+b+c+d\n",
    "adder(a=10,c=10,d=2)"
   ]
  },
  {
   "cell_type": "code",
   "execution_count": 25,
   "id": "219c3e2a",
   "metadata": {},
   "outputs": [
    {
     "data": {
      "text/plain": [
       "14"
      ]
     },
     "execution_count": 25,
     "metadata": {},
     "output_type": "execute_result"
    }
   ],
   "source": [
    "def adder(a,b=0,c=0,d=0):\n",
    "    return a+b+c+d\n",
    "adder(5,4,3,2)"
   ]
  },
  {
   "cell_type": "code",
   "execution_count": 28,
   "id": "c9504f48",
   "metadata": {},
   "outputs": [],
   "source": [
    "def h1():\n",
    "    print(\"hola\")\n",
    "    h1()\n",
    "    def ctof(val):\n",
    "        f=(val*9/5)+32\n",
    "        return f\n",
    "    \n"
   ]
  },
  {
   "cell_type": "code",
   "execution_count": 2,
   "id": "a4c25702",
   "metadata": {},
   "outputs": [],
   "source": [
    "# definition\n",
    "\n",
    "def greeting():\n",
    "    print(\"🌟\"*5)\n",
    "    print(\"good morning\")\n",
    "    print(\"🌟\"*5)\n",
    "    greeting()"
   ]
  },
  {
   "cell_type": "code",
   "execution_count": 6,
   "id": "ca5c84ca",
   "metadata": {},
   "outputs": [
    {
     "name": "stdout",
     "output_type": "stream",
     "text": [
      "✌️\n",
      "👑\n",
      "✌️\n",
      "👑\n",
      "👌\n"
     ]
    }
   ],
   "source": [
    "def dice_roll():\n",
    "    import random\n",
    "    out={1:'👍',2:'✌️',3:'👌',4:'✋',5:'👑'}\n",
    "    value=random.randint(1,5)\n",
    "    return out.get(value)\n",
    "print(dice_roll())\n",
    "print(dice_roll())\n",
    "print(dice_roll())\n",
    "print(dice_roll())\n",
    "print(dice_roll())"
   ]
  },
  {
   "cell_type": "code",
   "execution_count": 11,
   "id": "2278c756",
   "metadata": {},
   "outputs": [
    {
     "name": "stdout",
     "output_type": "stream",
     "text": [
      "False\n",
      "True\n",
      "True\n",
      "False\n"
     ]
    }
   ],
   "source": [
    "def is_valid_password(pwd):\n",
    "    if len(pwd) < 8: return False\n",
    "    if not pwd.isalnum():return False\n",
    "    return True\n",
    "print(is_valid_password(\"hello\"))\n",
    "print(is_valid_password(\"helloworld\"))\n",
    "print(is_valid_password(\"helloworld10\"))\n",
    "print(is_valid_password(\"3120@1233\"))"
   ]
  },
  {
   "cell_type": "code",
   "execution_count": 10,
   "id": "06fa02eb",
   "metadata": {},
   "outputs": [
    {
     "name": "stdout",
     "output_type": "stream",
     "text": [
      "area = 180\n"
     ]
    }
   ],
   "source": [
    "def area(length: int,breadth:int)-> int:\n",
    "    return length * breadth\n",
    "\n",
    "l = 12\n",
    "b = 15\n",
    "a= area(l,b)\n",
    "print(f'area = {a}')"
   ]
  },
  {
   "cell_type": "code",
   "execution_count": 15,
   "id": "94b478ca",
   "metadata": {},
   "outputs": [
    {
     "name": "stdout",
     "output_type": "stream",
     "text": [
      "hello\n",
      "hi\n"
     ]
    }
   ],
   "source": [
    "def cleanText(data,to_remove=\"@$%\"):\n",
    "    newdata= data\n",
    "    for char in to_remove:\n",
    "        newdata= newdata.replace(char,'')\n",
    "    return newdata  \n",
    "\n",
    "cText= cleanText(\"he#ll#o@\",to_remove='##@')\n",
    "print(cText)\n",
    "cText2=cleanText(\"h@!()#!)@i\",to_remove='@!#()')\n",
    "print(cText2)  "
   ]
  },
  {
   "cell_type": "code",
   "execution_count": 18,
   "id": "0fbe9009",
   "metadata": {},
   "outputs": [
    {
     "data": {
      "text/plain": [
       "26"
      ]
     },
     "execution_count": 18,
     "metadata": {},
     "output_type": "execute_result"
    }
   ],
   "source": [
    "def add100(a,b,c,d,e,f,g,h,i,j,k,l,m,n,o,p,q,r,s,t,u,v,w,x,y,z):\n",
    "    return a+b+c+d+e+f+g+h+i+j+k+l+m+n+o+p+q+r+s+t+u+v+w+x+y+z\n",
    "add100(1,1,1,1,1,1,1,1,1,1,1,1,1,1,1,1,1,1,1,1,1,1,1,1,1,1)"
   ]
  },
  {
   "cell_type": "markdown",
   "id": "ce24e3cf",
   "metadata": {},
   "source": []
  }
 ],
 "metadata": {
  "kernelspec": {
   "display_name": "Python 3",
   "language": "python",
   "name": "python3"
  },
  "language_info": {
   "codemirror_mode": {
    "name": "ipython",
    "version": 3
   },
   "file_extension": ".py",
   "mimetype": "text/x-python",
   "name": "python",
   "nbconvert_exporter": "python",
   "pygments_lexer": "ipython3",
   "version": "3.13.6"
  }
 },
 "nbformat": 4,
 "nbformat_minor": 5
}
