{
 "cells": [
  {
   "cell_type": "markdown",
   "id": "e1152775",
   "metadata": {},
   "source": [
    "# strings utility methods"
   ]
  },
  {
   "cell_type": "code",
   "execution_count": 2,
   "id": "2aab3dfe",
   "metadata": {},
   "outputs": [
    {
     "name": "stdout",
     "output_type": "stream",
     "text": [
      "once upon a time twice upon a time\n",
      "oncl upon a timl\n"
     ]
    }
   ],
   "source": [
    "# replace\n",
    "s=\"once upon a time\"\n",
    "s2=s.replace('once','twice')\n",
    "print(s,s2)\n",
    "s3=s.replace('e','l')\n",
    "print(s3)\n"
   ]
  },
  {
   "cell_type": "code",
   "execution_count": 7,
   "id": "64de2f15",
   "metadata": {},
   "outputs": [
    {
     "name": "stdout",
     "output_type": "stream",
     "text": [
      "PY#t#h#o#n\n",
      "PYthon\n"
     ]
    }
   ],
   "source": [
    "# replace for removing a content\n",
    "data='PY#t#h#o#n'\n",
    "cleaned_data=data.replace('#',\"\")\n",
    "print(data,cleaned_data,sep='\\n')"
   ]
  },
  {
   "cell_type": "markdown",
   "id": "d9c44a20",
   "metadata": {},
   "source": [
    "#find/Index"
   ]
  },
  {
   "cell_type": "code",
   "execution_count": 13,
   "id": "9b03692b",
   "metadata": {},
   "outputs": [
    {
     "name": "stdout",
     "output_type": "stream",
     "text": [
      "7\n",
      "-1\n",
      "2\n",
      "-1\n",
      "-1\n"
     ]
    }
   ],
   "source": [
    "m=\"alpine mountain range\"\n",
    "print(m.find('mountain'))\n",
    "print(m.find('lion'))\n",
    "print(m.find('pine'))\n",
    "print(m.find('1'))\n",
    "print(m.find('1',4))"
   ]
  },
  {
   "cell_type": "code",
   "execution_count": 17,
   "id": "411daf89",
   "metadata": {},
   "outputs": [
    {
     "name": "stdout",
     "output_type": "stream",
     "text": [
      "life before death,\n",
      "         courage before despair,\n",
      "         journey before destination\n",
      "['life', 'before', 'death,', 'courage', 'before', 'despair,', 'journey', 'before', 'destination']\n",
      "sentence\n"
     ]
    }
   ],
   "source": [
    "quote='''life before death,\n",
    "         courage before despair,\n",
    "         journey before destination'''\n",
    "words=quote.split()    # str->list\n",
    "print(quote)\n",
    "print(words)\n",
    "sentences=quote.split(',')\n",
    "print(\"sentence\")"
   ]
  },
  {
   "cell_type": "code",
   "execution_count": 18,
   "id": "6bd6c865",
   "metadata": {},
   "outputs": [
    {
     "name": "stdout",
     "output_type": "stream",
     "text": [
      "['MBU', 'sree sainath nagar', 'tirupathi', 'AP', '517102']\n",
      "MBU,sree sainath nagar,tirupathi,AP,517102\n"
     ]
    }
   ],
   "source": [
    "address=['MBU','sree sainath nagar','tirupathi','AP','517102']\n",
    "address_str=\",\".join(address)  #list->str\n",
    "print(address,address_str,sep='\\n')\n",
    "address2=\"_\".join(address)\n",
    "address3=\"\\n\".join(address)\n",
    "address4=\"what\".join(address)"
   ]
  }
 ],
 "metadata": {
  "kernelspec": {
   "display_name": "Python 3",
   "language": "python",
   "name": "python3"
  },
  "language_info": {
   "codemirror_mode": {
    "name": "ipython",
    "version": 3
   },
   "file_extension": ".py",
   "mimetype": "text/x-python",
   "name": "python",
   "nbconvert_exporter": "python",
   "pygments_lexer": "ipython3",
   "version": "3.13.6"
  }
 },
 "nbformat": 4,
 "nbformat_minor": 5
}
