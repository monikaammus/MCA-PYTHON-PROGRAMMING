{
 "cells": [
  {
   "cell_type": "code",
   "execution_count": 1,
   "id": "0582b096",
   "metadata": {},
   "outputs": [],
   "source": [
    "name=\"monika\"\n",
    "city=\"chittoor\""
   ]
  },
  {
   "cell_type": "code",
   "execution_count": 2,
   "id": "efeb3ebe",
   "metadata": {},
   "outputs": [
    {
     "data": {
      "text/plain": [
       "'monika'"
      ]
     },
     "execution_count": 2,
     "metadata": {},
     "output_type": "execute_result"
    }
   ],
   "source": [
    "name"
   ]
  },
  {
   "cell_type": "code",
   "execution_count": 6,
   "id": "b73cbcbd",
   "metadata": {},
   "outputs": [],
   "source": [
    "name= input()"
   ]
  },
  {
   "cell_type": "code",
   "execution_count": 7,
   "id": "5174e5f7",
   "metadata": {},
   "outputs": [
    {
     "ename": "NameError",
     "evalue": "name 'pythogaras' is not defined",
     "output_type": "error",
     "traceback": [
      "\u001b[31m---------------------------------------------------------------------------\u001b[39m",
      "\u001b[31mNameError\u001b[39m                                 Traceback (most recent call last)",
      "\u001b[36mCell\u001b[39m\u001b[36m \u001b[39m\u001b[32mIn[7]\u001b[39m\u001b[32m, line 1\u001b[39m\n\u001b[32m----> \u001b[39m\u001b[32m1\u001b[39m \u001b[43mpythogaras\u001b[49m()\n",
      "\u001b[31mNameError\u001b[39m: name 'pythogaras' is not defined"
     ]
    }
   ],
   "source": [
    "pythogaras()"
   ]
  },
  {
   "cell_type": "code",
   "execution_count": 8,
   "id": "58c02a97",
   "metadata": {},
   "outputs": [
    {
     "ename": "TypeError",
     "evalue": "sum() takes at least 1 positional argument (0 given)",
     "output_type": "error",
     "traceback": [
      "\u001b[31m---------------------------------------------------------------------------\u001b[39m",
      "\u001b[31mTypeError\u001b[39m                                 Traceback (most recent call last)",
      "\u001b[36mCell\u001b[39m\u001b[36m \u001b[39m\u001b[32mIn[8]\u001b[39m\u001b[32m, line 1\u001b[39m\n\u001b[32m----> \u001b[39m\u001b[32m1\u001b[39m \u001b[38;5;28;43msum\u001b[39;49m\u001b[43m(\u001b[49m\u001b[43m)\u001b[49m\n",
      "\u001b[31mTypeError\u001b[39m: sum() takes at least 1 positional argument (0 given)"
     ]
    }
   ],
   "source": [
    "sum()"
   ]
  },
  {
   "cell_type": "code",
   "execution_count": 10,
   "id": "97789cf6",
   "metadata": {},
   "outputs": [],
   "source": [
    "name = input()"
   ]
  },
  {
   "cell_type": "code",
   "execution_count": 11,
   "id": "529347b5",
   "metadata": {},
   "outputs": [
    {
     "ename": "TypeError",
     "evalue": "len() takes exactly one argument (0 given)",
     "output_type": "error",
     "traceback": [
      "\u001b[31m---------------------------------------------------------------------------\u001b[39m",
      "\u001b[31mTypeError\u001b[39m                                 Traceback (most recent call last)",
      "\u001b[36mCell\u001b[39m\u001b[36m \u001b[39m\u001b[32mIn[11]\u001b[39m\u001b[32m, line 1\u001b[39m\n\u001b[32m----> \u001b[39m\u001b[32m1\u001b[39m \u001b[38;5;28;43mlen\u001b[39;49m\u001b[43m(\u001b[49m\u001b[43m)\u001b[49m\n",
      "\u001b[31mTypeError\u001b[39m: len() takes exactly one argument (0 given)"
     ]
    }
   ],
   "source": [
    "len()"
   ]
  },
  {
   "cell_type": "code",
   "execution_count": 12,
   "id": "1a93c4f9",
   "metadata": {},
   "outputs": [
    {
     "name": "stdout",
     "output_type": "stream",
     "text": [
      "monika,chittoor,pallur monika,chittoor,palluru monika,palluru ,chittoor\n"
     ]
    }
   ],
   "source": [
    "name = input()\n",
    "city = input()\n",
    "address= input()\n",
    "print(name,city,address)"
   ]
  },
  {
   "cell_type": "code",
   "execution_count": 14,
   "id": "ba0bb860",
   "metadata": {},
   "outputs": [
    {
     "name": "stdout",
     "output_type": "stream",
     "text": [
      "manisha,chennai,chittoor  \n"
     ]
    }
   ],
   "source": [
    "name = input(\"enter name =>\")\n",
    "city = input(\"enter city =>\")\n",
    "address = input(\"enter address =>\")\n",
    "print(name,city,address)"
   ]
  },
  {
   "cell_type": "code",
   "execution_count": 15,
   "id": "cbeed41e",
   "metadata": {},
   "outputs": [
    {
     "name": "stdout",
     "output_type": "stream",
     "text": [
      "10 20 30\n"
     ]
    }
   ],
   "source": [
    "a=10\n",
    "b=20\n",
    "c=a+b\n",
    "print(a,b,c)"
   ]
  },
  {
   "cell_type": "code",
   "execution_count": 16,
   "id": "97c1d57f",
   "metadata": {},
   "outputs": [
    {
     "name": "stdout",
     "output_type": "stream",
     "text": [
      "25,50  25,50\n"
     ]
    }
   ],
   "source": [
    "#dynamic\n",
    "a=input(\"Enter A:\")\n",
    "b=input(\"Enter B:\")\n",
    "c=a+b\n",
    "print(a,b,c)"
   ]
  },
  {
   "cell_type": "code",
   "execution_count": 17,
   "id": "40a0c507",
   "metadata": {},
   "outputs": [
    {
     "data": {
      "text/plain": [
       "75"
      ]
     },
     "execution_count": 17,
     "metadata": {},
     "output_type": "execute_result"
    }
   ],
   "source": [
    "25+50"
   ]
  },
  {
   "cell_type": "code",
   "execution_count": 19,
   "id": "e94029d2",
   "metadata": {},
   "outputs": [
    {
     "name": "stdout",
     "output_type": "stream",
     "text": [
      "16.0\n",
      "32.0\n",
      "100.48\n",
      "803.84\n"
     ]
    }
   ],
   "source": [
    "radius=float(input(\"enter radius of the circle\"))\n",
    "diameter=radius*2\n",
    "circumference=2*3.14*radius\n",
    "area=3.14*radius**2\n",
    "\n",
    "print(radius)\n",
    "print(diameter)\n",
    "print(circumference)\n",
    "print(area)\n",
    "\n"
   ]
  },
  {
   "cell_type": "code",
   "execution_count": 26,
   "id": "be3f3137",
   "metadata": {},
   "outputs": [
    {
     "name": "stdout",
     "output_type": "stream",
     "text": [
      "500\n",
      "5\n",
      "6.0\n",
      "150.0\n"
     ]
    }
   ],
   "source": [
    "#simple interest\n",
    "p =int(input(\"enter principal amount\")) \n",
    "t =int(input(\"enter time period in years\"))\n",
    "r =float(input(\"enter rate of intrest \"))\n",
    "si = p*t*r/100\n",
    "print(p)\n",
    "print(t)\n",
    "print(r)\n",
    "print(si)\n"
   ]
  },
  {
   "cell_type": "code",
   "execution_count": 27,
   "id": "29f81df9",
   "metadata": {},
   "outputs": [
    {
     "name": "stdout",
     "output_type": "stream",
     "text": [
      "127044.40000000001\n"
     ]
    }
   ],
   "source": [
    "pi =3.14\n",
    "r =float(input(\"enter radius of cylinder\"))\n",
    "h =float(input(\"enter height of cylinder\")) \n",
    "v = pi*r**2*h #volume of cylinder\n",
    "print(v)"
   ]
  },
  {
   "cell_type": "markdown",
   "id": "5fc4d2e9",
   "metadata": {},
   "source": [
    "formatting the output"
   ]
  },
  {
   "cell_type": "code",
   "execution_count": 29,
   "id": "51ebdb82",
   "metadata": {},
   "outputs": [
    {
     "name": "stdout",
     "output_type": "stream",
     "text": [
      "This is an example\n",
      "one two three\n",
      "1 2 3 4 5\n",
      "25\n",
      "papaya banana\n",
      "hate you\n"
     ]
    }
   ],
   "source": [
    "print(\"This is an example\")        # displaying a message\n",
    "print(\"one\",\"two\",\"three\")          # display multiple data value\n",
    "print(\"1\",\"2\",\"3\",\"4\",\"5\")           # display multiple data and expression\n",
    "print(10 * 2 + 5)                     # display result of expression\n",
    "print(\"papaya\",\"banana\")     # display multiple data with seprator\n",
    "print(\"hate you\")"
   ]
  },
  {
   "cell_type": "code",
   "execution_count": 1,
   "id": "e49b5bb9",
   "metadata": {},
   "outputs": [
    {
     "name": "stdout",
     "output_type": "stream",
     "text": [
      "Happy Birthday to my heart \n",
      "Be happy forever and ever\n",
      "you can achieve and everything\n"
     ]
    }
   ],
   "source": [
    "print(\"Happy Birthday to my heart \")\n",
    "print(\"Be happy forever and ever\")\n",
    "print(\"you can achieve and everything\")"
   ]
  },
  {
   "cell_type": "code",
   "execution_count": 2,
   "id": "9f96217c",
   "metadata": {},
   "outputs": [
    {
     "name": "stdout",
     "output_type": "stream",
     "text": [
      "5 16 22 23\n"
     ]
    }
   ],
   "source": [
    "print(\"5\",\"16\",\"22\",\"23\")"
   ]
  },
  {
   "cell_type": "code",
   "execution_count": 4,
   "id": "a9cab3f2",
   "metadata": {},
   "outputs": [
    {
     "name": "stdout",
     "output_type": "stream",
     "text": [
      "1 2 3 4 5\n",
      "1234\n",
      "1,2,3,4,5,6\n",
      "1\n",
      "2\n",
      "3\n",
      "4\n",
      "5\n",
      "1hello world\n",
      "2hello world\n",
      "3hello world\n",
      "4hello world\n",
      "5hello world\n",
      "6\n"
     ]
    }
   ],
   "source": [
    "print(1,2,3,4,5)\n",
    "print(1,2,3,4, sep=\"\")\n",
    "print(1,2,3,4,5,6, sep=',')\n",
    "print(1,2,3,4,5,sep=\"\\n\")\n",
    "print(1,2,3,4,5,6, sep=\"hello world\\n\")"
   ]
  },
  {
   "cell_type": "code",
   "execution_count": 14,
   "id": "444f6917",
   "metadata": {},
   "outputs": [
    {
     "name": "stdout",
     "output_type": "stream",
     "text": [
      "130\n",
      "answer = 130\n",
      "answer: 130\n",
      "answer 130\n",
      "100 + 30 => 130\n",
      "answer 130\n",
      "100 + 30 = 130\n"
     ]
    }
   ],
   "source": [
    "a=100\n",
    "b=30\n",
    "c=a+b\n",
    "print(c)\n",
    "print(\"answer = \"+str(c))\n",
    "print(\"answer:\",c)\n",
    "print(\"answer %d\"%c)                        # not the best way\n",
    "print(\"%d + %d => %d\"%(a,b,c))             #it is very complicated\n",
    "print(\"answer {}\".format(c))                # old way\n",
    "print(\"{} + {} = {}\".format(a,b,c))         # old way\n"
   ]
  },
  {
   "cell_type": "code",
   "execution_count": 15,
   "id": "1af81a7c",
   "metadata": {},
   "outputs": [],
   "source": [
    "# final actual way of format output using f-strings"
   ]
  },
  {
   "cell_type": "code",
   "execution_count": 16,
   "id": "8094ccbf",
   "metadata": {},
   "outputs": [
    {
     "name": "stdout",
     "output_type": "stream",
     "text": [
      "answer 130\n",
      "100 + 30 = 130\n"
     ]
    }
   ],
   "source": [
    "a=100\n",
    "b=30\n",
    "c=a+b\n",
    "print(f\"answer {c}\")\n",
    "print(f\"{a} + {b} = {c}\")    #f-string/formattable"
   ]
  },
  {
   "cell_type": "code",
   "execution_count": 17,
   "id": "b77e409e",
   "metadata": {},
   "outputs": [
    {
     "name": "stdout",
     "output_type": "stream",
     "text": [
      "we get 130,when we add 100 and 30\n"
     ]
    }
   ],
   "source": [
    "print(f'we get {c},when we add {a} and {b}')"
   ]
  },
  {
   "cell_type": "code",
   "execution_count": 22,
   "id": "e2c4c786",
   "metadata": {},
   "outputs": [
    {
     "name": "stdout",
     "output_type": "stream",
     "text": [
      " my name is moni,I work as a software in Infosys.\n"
     ]
    }
   ],
   "source": [
    "name = \"moni\"\n",
    "job = \"software\"\n",
    "company = \"Infosys\"\n",
    "print(f\" my name is {name},I work as a {job} in {company}.\")"
   ]
  },
  {
   "cell_type": "code",
   "execution_count": null,
   "id": "a4d1de46",
   "metadata": {},
   "outputs": [],
   "source": []
  },
  {
   "cell_type": "code",
   "execution_count": 23,
   "id": "de4925fd",
   "metadata": {},
   "outputs": [
    {
     "name": "stdout",
     "output_type": "stream",
     "text": [
      "calculation of hypotenuse\n",
      "perpendicular => 20\n",
      "base => 10\n",
      "based on pythagoras theorem :\n",
      "hypotenuse => 22.360679774997898\n"
     ]
    }
   ],
   "source": [
    "p=20\n",
    "b=10\n",
    "h = (p**2 + b**2)**.5\n",
    "print(\"calculation of hypotenuse\")\n",
    "print(f\"perpendicular => {p}\")\n",
    "print(f'base => {b}')\n",
    "print(\"based on pythagoras theorem :\")\n",
    "print(f\"hypotenuse => {h}\")"
   ]
  }
 ],
 "metadata": {
  "kernelspec": {
   "display_name": "Python 3",
   "language": "python",
   "name": "python3"
  },
  "language_info": {
   "codemirror_mode": {
    "name": "ipython",
    "version": 3
   },
   "file_extension": ".py",
   "mimetype": "text/x-python",
   "name": "python",
   "nbconvert_exporter": "python",
   "pygments_lexer": "ipython3",
   "version": "3.13.6"
  }
 },
 "nbformat": 4,
 "nbformat_minor": 5
}
