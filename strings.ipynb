{
 "cells": [
  {
   "cell_type": "markdown",
   "id": "20d62733",
   "metadata": {},
   "source": [
    "#string\n",
    "python datatype\n",
    "In python,to store any kind of textual information we use string there is no other type to store text."
   ]
  },
  {
   "cell_type": "code",
   "execution_count": null,
   "id": "25f7b017",
   "metadata": {},
   "outputs": [],
   "source": [
    "#string execution \n",
    "a='apple'\n",
    "b=\"banana\"\n",
    "c=\"' This is a chocolate cake \"'\n",
    "print(a[0])\n",
    "a[0]='c'\n",
    "strings are immutable"
   ]
  },
  {
   "cell_type": "code",
   "execution_count": 1,
   "id": "0e48fa9e",
   "metadata": {},
   "outputs": [
    {
     "name": "stdout",
     "output_type": "stream",
     "text": [
      "10 <class 'str'>\n",
      "['apple', 'banana'] <class 'str'>\n"
     ]
    }
   ],
   "source": [
    "#type casting\n",
    "x=str(10)\n",
    "y=str([\"apple\",\"banana\"])\n",
    "print(x,type(x))\n",
    "print(y,type(y))"
   ]
  },
  {
   "cell_type": "code",
   "execution_count": 4,
   "id": "ec52e2a4",
   "metadata": {},
   "outputs": [
    {
     "name": "stdout",
     "output_type": "stream",
     "text": [
      "the point is,I am not disappointed\n"
     ]
    }
   ],
   "source": [
    "#slicing and indensing\n",
    "x='disappointed'\n",
    "y=x[5:10]\n",
    "print(f\"the {y} is,I am not {x}\")"
   ]
  },
  {
   "cell_type": "code",
   "execution_count": 7,
   "id": "5a132032",
   "metadata": {},
   "outputs": [],
   "source": [
    "poem =   '''twinkle twinkle little star \n",
    "            how I wonder what you are\n",
    "            up above the world so high\n",
    "            like a diamond in the sky'''\n",
    "y=poem[0:19]\n",
    "y=poem[23:43]\n"
   ]
  },
  {
   "cell_type": "markdown",
   "id": "35a12973",
   "metadata": {},
   "source": []
  }
 ],
 "metadata": {
  "kernelspec": {
   "display_name": "Python 3",
   "language": "python",
   "name": "python3"
  },
  "language_info": {
   "codemirror_mode": {
    "name": "ipython",
    "version": 3
   },
   "file_extension": ".py",
   "mimetype": "text/x-python",
   "name": "python",
   "nbconvert_exporter": "python",
   "pygments_lexer": "ipython3",
   "version": "3.13.6"
  }
 },
 "nbformat": 4,
 "nbformat_minor": 5
}
