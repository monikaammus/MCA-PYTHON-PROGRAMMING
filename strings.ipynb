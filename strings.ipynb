{
 "cells": [
  {
   "cell_type": "markdown",
   "id": "20d62733",
   "metadata": {},
   "source": [
    "#string\n",
    "python datatype\n",
    "In python,to store any kind of textual information we use string there is no other type to store text."
   ]
  },
  {
   "cell_type": "code",
   "execution_count": null,
   "id": "25f7b017",
   "metadata": {},
   "outputs": [],
   "source": [
    "#string execution \n",
    "a='apple'\n",
    "b=\"banana\"\n",
    "c=\"' This is a chocolate cake \"'\n",
    "print(a[0])\n",
    "a[0]='c'\n",
    "strings are immutable"
   ]
  },
  {
   "cell_type": "code",
   "execution_count": null,
   "id": "0e48fa9e",
   "metadata": {},
   "outputs": [],
   "source": [
    "#type casting\n",
    "x=str(10)\n",
    "y=str([\"apple\",\"banana\"])\n",
    "print(x,type(x))\n",
    "print(y,type(y))"
   ]
  },
  {
   "cell_type": "code",
   "execution_count": null,
   "id": "ec52e2a4",
   "metadata": {},
   "outputs": [],
   "source": [
    "#slicing and indensing\n",
    "x='disappointed'\n",
    "y=x[5:10]\n",
    "print(f\"the {y} is,I am not {x}\")"
   ]
  },
  {
   "cell_type": "code",
   "execution_count": null,
   "id": "5a132032",
   "metadata": {},
   "outputs": [],
   "source": [
    "poem =   '''twinkle twinkle little star \n",
    "            how I wonder what you are\n",
    "            up above the world so high\n",
    "            like a diamond in the sky'''\n",
    "y=poem[0:19]\n",
    "y=poem[23:43]\n"
   ]
  },
  {
   "cell_type": "markdown",
   "id": "6149962b",
   "metadata": {},
   "source": [
    "STRING:\n",
    "ADJUSTING THE OUTPUT BASED ON REQUIREMENT IS CALLED THE STRING.\n"
   ]
  },
  {
   "cell_type": "code",
   "execution_count": null,
   "id": "4117624c",
   "metadata": {},
   "outputs": [],
   "source": [
    "s=\"maintain the silence in library\"\n",
    "supper=s.upper()\n",
    "print(s)\n",
    "print(supper)\n",
    "\n",
    "b=s.lower()\n",
    "c=s.capitalize()\n",
    "d=s.title()\n",
    "e=s.swapcase()\n",
    "g=s.casefold()\n",
    "print(b)\n",
    "print(c)\n",
    "print(d)\n",
    "print(e)\n",
    "print(g)"
   ]
  },
  {
   "cell_type": "code",
   "execution_count": null,
   "id": "073a45a8",
   "metadata": {},
   "outputs": [],
   "source": [
    "#title\n",
    "\n",
    "a=\"seven\"\n",
    "a1=a.ljust(10)\n",
    "print(a)\n",
    "print(a1)\n",
    "a2=a.ljust(10,'-')\n",
    "print(a2)\n"
   ]
  },
  {
   "cell_type": "code",
   "execution_count": null,
   "id": "aa325316",
   "metadata": {},
   "outputs": [],
   "source": [
    "a3=a.rjust(20)\n",
    "print(a3)\n",
    "a4=a.rjust(20,\"l\")\n",
    "print(a4)\n",
    "a5=a.center(13)\n",
    "print(a5)\n",
    "a6=a.center(13,\"*\")\n",
    "print(a6)\n"
   ]
  },
  {
   "cell_type": "code",
   "execution_count": null,
   "id": "8860c8f5",
   "metadata": {},
   "outputs": [],
   "source": [
    "#validations\n",
    "x=input()\n",
    "print(x.isalpha())\n",
    "print(x.isalnum())\n",
    "print(x.isdigit())\n",
    "print(x.isspace())"
   ]
  },
  {
   "cell_type": "code",
   "execution_count": null,
   "id": "338e8fcc",
   "metadata": {},
   "outputs": [],
   "source": [
    "a=input()\n",
    "a1=a.startswith(\"a\")\n",
    "a2=a.startswith(\"hello\")\n",
    "a3=a.startswith('b')\n",
    "print(a,a1,a2,a3,sep='\\n')"
   ]
  },
  {
   "cell_type": "code",
   "execution_count": null,
   "id": "cd849fa0",
   "metadata": {},
   "outputs": [],
   "source": []
  }
 ],
 "metadata": {
  "kernelspec": {
   "display_name": "Python 3",
   "language": "python",
   "name": "python3"
  },
  "language_info": {
   "codemirror_mode": {
    "name": "ipython",
    "version": 3
   },
   "file_extension": ".py",
   "mimetype": "text/x-python",
   "name": "python",
   "nbconvert_exporter": "python",
   "pygments_lexer": "ipython3",
   "version": "3.13.6"
  }
 },
 "nbformat": 4,
 "nbformat_minor": 5
}
