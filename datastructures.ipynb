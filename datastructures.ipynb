{
 "cells": [
  {
   "cell_type": "code",
   "execution_count": 1,
   "id": "747899ca",
   "metadata": {},
   "outputs": [
    {
     "name": "stdout",
     "output_type": "stream",
     "text": [
      "['THE WAY OF KING']\n"
     ]
    }
   ],
   "source": [
    "books=[]\n",
    "# adding one item at a time\n",
    "books.append(\"THE WAY OF KING\")\n",
    "print(books)\n",
    "books.append(\"THE FINAL EMPIRE\")\n",
    "books.append(\"SWEET HEART\")\n",
    "books.append(\"LEGION\")\n",
    "books.append(\"HARRY POTTER\")"
   ]
  },
  {
   "cell_type": "code",
   "execution_count": 2,
   "id": "a0448f65",
   "metadata": {},
   "outputs": [
    {
     "name": "stdout",
     "output_type": "stream",
     "text": [
      "['red', 'blue', 'blue', 'yellow', 'black']\n",
      "['purple', 'pink', 'yellow']\n"
     ]
    }
   ],
   "source": [
    "colors=['red','blue','blue']\n",
    "colors.extend(['yellow','black'])\n",
    "print(colors)\n",
    "colors2=[\"purple\",\"pink\",\"yellow\"]\n",
    "colors.extend(colors2)\n",
    "print(colors2)"
   ]
  },
  {
   "cell_type": "code",
   "execution_count": 3,
   "id": "0ceb18d2",
   "metadata": {},
   "outputs": [
    {
     "name": "stdout",
     "output_type": "stream",
     "text": [
      "[1]\n",
      "[1, 2]\n",
      "[1, 2, 3]\n",
      "[1, 2, 3, 4]\n",
      "[1, 2, 3, 4, 5]\n",
      "[1, 2, 3, 4, 5, 6]\n",
      "[1, 2, 3, 4, 5, 6, 7]\n",
      "[1, 2, 3, 4, 5, 6, 7, 8]\n",
      "[1, 2, 3, 4, 5, 6, 7, 8, 9]\n",
      "[1, 2, 3, 4, 5, 6, 7, 8, 9, 10]\n"
     ]
    }
   ],
   "source": [
    "a=[]\n",
    "for i in range(1,11):\n",
    "    a.append(i)\n",
    "    print(a)"
   ]
  },
  {
   "cell_type": "code",
   "execution_count": 16,
   "id": "b478a5a2",
   "metadata": {},
   "outputs": [
    {
     "name": "stdout",
     "output_type": "stream",
     "text": [
      "['I', 'D', 'SITA', 'BAHUBALI', 'NOTA']\n"
     ]
    }
   ],
   "source": [
    "movies=[]\n",
    "for i in range(5):\n",
    "    value=input(\"enter your five movies\")\n",
    "    movies.append(value)\n",
    "print(movies)    \n"
   ]
  },
  {
   "cell_type": "code",
   "execution_count": 18,
   "id": "30fd44b8",
   "metadata": {},
   "outputs": [
    {
     "name": "stdout",
     "output_type": "stream",
     "text": [
      "[1, 2, 5, 10]\n"
     ]
    }
   ],
   "source": [
    "x=[1,5,10]\n",
    "x.insert(1,2)\n",
    "print(x)"
   ]
  },
  {
   "cell_type": "markdown",
   "id": "c89e5bc5",
   "metadata": {},
   "source": [
    "list methods"
   ]
  },
  {
   "cell_type": "markdown",
   "id": "c6b77b52",
   "metadata": {},
   "source": [
    "# adding elements\n",
    "append() -> add one element to the end of the list\n",
    "insert() ->add one element to a specific position\n",
    "extend() ->append multiple items in a list\n",
    "\n",
    "# removing elements\n",
    "remove() -> remove the first occurrence of a value\n",
    "pop()    ->remove and return an element from an index\n",
    "clear()  ->remove the elements from the list    \n",
    "\n"
   ]
  },
  {
   "cell_type": "code",
   "execution_count": 1,
   "id": "8e8ed53f",
   "metadata": {},
   "outputs": [
    {
     "name": "stdout",
     "output_type": "stream",
     "text": [
      "size of book list 6\n"
     ]
    }
   ],
   "source": [
    "books=['hero of ages','wells of acsenion','warbreaker','nightblood','the final empire','the way of kinds']\n",
    "\n",
    "# len function check the size of iterable\n",
    "\n",
    "print(\"size of book list\",len(books))\n"
   ]
  },
  {
   "cell_type": "code",
   "execution_count": 2,
   "id": "544b0b66",
   "metadata": {},
   "outputs": [
    {
     "name": "stdout",
     "output_type": "stream",
     "text": [
      "['hero of ages', 'wells of acsenion', 'warbreaker', 'nightblood', 'the way of kinds']\n"
     ]
    }
   ],
   "source": [
    "books.remove(\"the final empire\")\n",
    "print(books)\n"
   ]
  },
  {
   "cell_type": "code",
   "execution_count": 4,
   "id": "582861d5",
   "metadata": {},
   "outputs": [
    {
     "name": "stdout",
     "output_type": "stream",
     "text": [
      "['hero of ages', 'wells of acsenion', 'warbreaker', 'the way of kinds']\n"
     ]
    }
   ],
   "source": [
    "#validation based removal\n",
    "if \"nightblood\" in books:\n",
    "    books.remove(\"nightblood\")\n",
    "print(books)"
   ]
  },
  {
   "cell_type": "code",
   "execution_count": 5,
   "id": "0ca6a2e4",
   "metadata": {},
   "outputs": [
    {
     "name": "stdout",
     "output_type": "stream",
     "text": [
      "['hero of ages', 'wells of acsenion', 'warbreaker', 'the way of kinds']\n"
     ]
    }
   ],
   "source": [
    "print(books)"
   ]
  },
  {
   "cell_type": "code",
   "execution_count": 7,
   "id": "2f764401",
   "metadata": {},
   "outputs": [
    {
     "data": {
      "text/plain": [
       "'the way of kinds'"
      ]
     },
     "execution_count": 7,
     "metadata": {},
     "output_type": "execute_result"
    }
   ],
   "source": [
    "books.pop(3)"
   ]
  },
  {
   "cell_type": "code",
   "execution_count": 8,
   "id": "5be239b4",
   "metadata": {},
   "outputs": [
    {
     "name": "stdout",
     "output_type": "stream",
     "text": [
      "['hero of ages', 'wells of acsenion', 'warbreaker']\n",
      "3\n"
     ]
    }
   ],
   "source": [
    "print(books)\n",
    "print(len(books))"
   ]
  },
  {
   "cell_type": "code",
   "execution_count": 9,
   "id": "48245a38",
   "metadata": {},
   "outputs": [
    {
     "data": {
      "text/plain": [
       "'warbreaker'"
      ]
     },
     "execution_count": 9,
     "metadata": {},
     "output_type": "execute_result"
    }
   ],
   "source": [
    "# pop() without any index will remove the last element\n",
    "books.pop()"
   ]
  },
  {
   "cell_type": "code",
   "execution_count": 10,
   "id": "d49617ec",
   "metadata": {},
   "outputs": [
    {
     "name": "stdout",
     "output_type": "stream",
     "text": [
      "[]\n"
     ]
    }
   ],
   "source": [
    "books.clear()\n",
    "print(books)"
   ]
  },
  {
   "cell_type": "code",
   "execution_count": 11,
   "id": "b91cacad",
   "metadata": {},
   "outputs": [],
   "source": [
    "languages =['c','python','kotlin','java','dart','go','c++','c#','HTML','java script','scala',\n",
    "            'rust','mojo','assembly']\n",
    "numbers=[12,56,23.67,13,23,12,56,23,56,12,34,34,56]\n",
    "\n",
    "data =[1,'apple',2,'avocado',3,'apricot']"
   ]
  },
  {
   "cell_type": "code",
   "execution_count": 12,
   "id": "daea8cd7",
   "metadata": {},
   "outputs": [
    {
     "data": {
      "text/plain": [
       "3"
      ]
     },
     "execution_count": 12,
     "metadata": {},
     "output_type": "execute_result"
    }
   ],
   "source": [
    "numbers.count(12)"
   ]
  },
  {
   "cell_type": "code",
   "execution_count": 14,
   "id": "1688bab0",
   "metadata": {},
   "outputs": [
    {
     "name": "stdout",
     "output_type": "stream",
     "text": [
      "2\n",
      "3\n",
      "2\n"
     ]
    }
   ],
   "source": [
    "print(numbers.count(23))\n",
    "print(numbers.count(12))\n",
    "print(numbers.count(34))"
   ]
  },
  {
   "cell_type": "code",
   "execution_count": 15,
   "id": "29ddf6ee",
   "metadata": {},
   "outputs": [
    {
     "data": {
      "text/plain": [
       "7"
      ]
     },
     "execution_count": 15,
     "metadata": {},
     "output_type": "execute_result"
    }
   ],
   "source": [
    "languages.index('c#')     #index of the list"
   ]
  },
  {
   "cell_type": "code",
   "execution_count": 17,
   "id": "eba5e664",
   "metadata": {},
   "outputs": [
    {
     "name": "stdout",
     "output_type": "stream",
     "text": [
      "0\n",
      "3\n",
      "1\n",
      "11\n"
     ]
    }
   ],
   "source": [
    "print(languages.index(\"c\"))\n",
    "print(languages.index(\"java\"))\n",
    "print(languages.index(\"python\"))\n",
    "print(languages.index(\"rust\"))\n"
   ]
  },
  {
   "cell_type": "code",
   "execution_count": 19,
   "id": "93d49594",
   "metadata": {},
   "outputs": [
    {
     "name": "stdout",
     "output_type": "stream",
     "text": [
      "original ['HTML', 'assembly', 'c', 'c#', 'c++', 'dart', 'go', 'java', 'java script', 'kotlin', 'mojo', 'python', 'rust', 'scala']\n",
      "sorted ['HTML', 'assembly', 'c', 'c#', 'c++', 'dart', 'go', 'java', 'java script', 'kotlin', 'mojo', 'python', 'rust', 'scala']\n",
      "sorted in reverse ['scala', 'rust', 'python', 'mojo', 'kotlin', 'java script', 'java', 'go', 'dart', 'c++', 'c#', 'c', 'assembly', 'HTML']\n"
     ]
    }
   ],
   "source": [
    "print(\"original\",languages)\n",
    "languages.sort() #sort inplace\n",
    "print(\"sorted\",languages)\n",
    "languages.sort(reverse=True)  # sort in reversion\n",
    "print(\"sorted in reverse\",languages)"
   ]
  },
  {
   "cell_type": "code",
   "execution_count": 20,
   "id": "a1b5fa82",
   "metadata": {},
   "outputs": [
    {
     "name": "stdout",
     "output_type": "stream",
     "text": [
      "original [1, 'apple', 2, 'avocado', 3, 'apricot']\n",
      "reversed ['apricot', 3, 'avocado', 2, 'apple', 1]\n"
     ]
    }
   ],
   "source": [
    "print(\"original\",data)\n",
    "data.reverse()\n",
    "print(\"reversed\",data)"
   ]
  },
  {
   "cell_type": "code",
   "execution_count": 1,
   "id": "a8dce3f0",
   "metadata": {},
   "outputs": [
    {
     "name": "stdout",
     "output_type": "stream",
     "text": [
      "[1, 2, 3, 4]\n",
      "[1, 2, 3, 4]\n",
      "[1, 2, 3, 4]\n",
      "[1, 2, 3, 4]\n",
      "[1, 2, 3, 4]\n",
      "[1, 2, 3, 4, 10, 20]\n"
     ]
    }
   ],
   "source": [
    "x=[1,2,3,4]\n",
    "y=x   #deep copy\n",
    "z=x.copy()   # swallow copy\n",
    "print(x,y,z, sep='\\n')\n",
    "x.append(10)\n",
    "y.pop()\n",
    "z.append(10)\n",
    "z.append(20)\n",
    "print(x,y,z,sep='\\n')\n",
    " "
   ]
  },
  {
   "cell_type": "markdown",
   "id": "0fc651f3",
   "metadata": {},
   "source": [
    " # slicing\n",
    " "
   ]
  },
  {
   "cell_type": "markdown",
   "id": "408c295a",
   "metadata": {},
   "source": [
    "    -9,-8,-7,-6,-5,-4,-3,-2,-1\n",
    "v= EDUCATION\n",
    "    0,1,2,3,4,5,6,7,8,\n",
    "\n",
    "    X[0]               X[5]\n",
    "    X[1]               X[6]\n",
    "    X[2]               X[7]\n",
    "\n",
    "  X[-1]        X[0:3]"
   ]
  },
  {
   "cell_type": "code",
   "execution_count": 2,
   "id": "81dae74c",
   "metadata": {},
   "outputs": [
    {
     "data": {
      "text/plain": [
       "[13, 15, 19]"
      ]
     },
     "execution_count": 2,
     "metadata": {},
     "output_type": "execute_result"
    }
   ],
   "source": [
    "X=[11,12,13,15,19]\n",
    "X[0:3]\n",
    "X[2:len(X)]"
   ]
  },
  {
   "cell_type": "code",
   "execution_count": 3,
   "id": "5aa49a2e",
   "metadata": {},
   "outputs": [
    {
     "data": {
      "text/plain": [
       "['C', 'A', 'T', 'I', 'O', 'N']"
      ]
     },
     "execution_count": 3,
     "metadata": {},
     "output_type": "execute_result"
    }
   ],
   "source": [
    "X=['E','D','U','C','A','T','I','O','N']\n",
    "X[3:6]\n",
    "X[3:len(X)]\n"
   ]
  },
  {
   "cell_type": "code",
   "execution_count": 6,
   "id": "b4e131db",
   "metadata": {},
   "outputs": [
    {
     "data": {
      "text/plain": [
       "'m s'"
      ]
     },
     "execution_count": 6,
     "metadata": {},
     "output_type": "execute_result"
    }
   ],
   "source": [
    "# SLICING SYNTAX     var[start:stop:step]\n",
    "name=\"william shakespeare\"\n",
    "len(name)\n",
    "name[6:9]\n",
    "\n",
    "\n"
   ]
  },
  {
   "cell_type": "markdown",
   "id": "0eab3488",
   "metadata": {},
   "source": [
    "# slicing facts\n",
    "If starting from 0 index,you can skip it\n",
    "X[0:4]  is same as X[:4]"
   ]
  },
  {
   "cell_type": "code",
   "execution_count": 11,
   "id": "702b84fc",
   "metadata": {},
   "outputs": [
    {
     "data": {
      "text/plain": [
       "'APPL'"
      ]
     },
     "execution_count": 11,
     "metadata": {},
     "output_type": "execute_result"
    }
   ],
   "source": [
    "X='APPLEPIE'\n",
    "len(X)\n",
    "X[0:4]"
   ]
  },
  {
   "cell_type": "code",
   "execution_count": null,
   "id": "9c4e59bc",
   "metadata": {},
   "outputs": [
    {
     "data": {
      "text/plain": [
       "'william'"
      ]
     },
     "execution_count": 12,
     "metadata": {},
     "output_type": "execute_result"
    }
   ],
   "source": [
    "name=\"william shakespeare\"\n",
    "len(name)\n",
    "name[:7]       #fname"
   ]
  },
  {
   "cell_type": "code",
   "execution_count": 13,
   "id": "06c24d40",
   "metadata": {},
   "outputs": [
    {
     "data": {
      "text/plain": [
       "'shakespeare'"
      ]
     },
     "execution_count": 13,
     "metadata": {},
     "output_type": "execute_result"
    }
   ],
   "source": [
    "name=\"william shakespeare\"\n",
    "len(name)\n",
    "name[8:]"
   ]
  },
  {
   "cell_type": "code",
   "execution_count": 16,
   "id": "09d2d762",
   "metadata": {},
   "outputs": [
    {
     "data": {
      "text/plain": [
       "'ma'"
      ]
     },
     "execution_count": 16,
     "metadata": {},
     "output_type": "execute_result"
    }
   ],
   "source": [
    "name=\"monika\"\n",
    "name[::5]"
   ]
  },
  {
   "cell_type": "code",
   "execution_count": 17,
   "id": "11a6e649",
   "metadata": {},
   "outputs": [
    {
     "data": {
      "text/plain": [
       "'mnsa'"
      ]
     },
     "execution_count": 17,
     "metadata": {},
     "output_type": "execute_result"
    }
   ],
   "source": [
    "name=\"manisha\"\n",
    "name[1::2]      #even\n",
    "name[::2]       #odd"
   ]
  },
  {
   "cell_type": "code",
   "execution_count": 7,
   "id": "7f9fb712",
   "metadata": {},
   "outputs": [
    {
     "data": {
      "text/plain": [
       "'vijay'"
      ]
     },
     "execution_count": 7,
     "metadata": {},
     "output_type": "execute_result"
    }
   ],
   "source": [
    "name=\"vijay devera konda\"\n",
    "name[:5]\n"
   ]
  },
  {
   "cell_type": "code",
   "execution_count": 8,
   "id": "17cc07de",
   "metadata": {},
   "outputs": [
    {
     "data": {
      "text/plain": [
       "'devera'"
      ]
     },
     "execution_count": 8,
     "metadata": {},
     "output_type": "execute_result"
    }
   ],
   "source": [
    "name=\"vijay devera konda\"\n",
    "name[6:12]"
   ]
  },
  {
   "cell_type": "code",
   "execution_count": 9,
   "id": "1dd2ac68",
   "metadata": {},
   "outputs": [
    {
     "data": {
      "text/plain": [
       "'konda'"
      ]
     },
     "execution_count": 9,
     "metadata": {},
     "output_type": "execute_result"
    }
   ],
   "source": [
    "name=\"vijay devera konda\"\n",
    "name[-5:]"
   ]
  },
  {
   "cell_type": "code",
   "execution_count": 14,
   "id": "ba58d013",
   "metadata": {},
   "outputs": [
    {
     "data": {
      "text/plain": [
       "'ia eeakna'"
      ]
     },
     "execution_count": 14,
     "metadata": {},
     "output_type": "execute_result"
    }
   ],
   "source": [
    "name=\"vijay devera konda\"\n",
    "name[::2]\n",
    "name[1::2]"
   ]
  },
  {
   "cell_type": "code",
   "execution_count": null,
   "id": "f7a6c523",
   "metadata": {},
   "outputs": [
    {
     "name": "stdout",
     "output_type": "stream",
     "text": [
      "13\n",
      "11\n",
      "9\n",
      "7\n",
      "6\n",
      "4\n",
      "3\n",
      "2\n",
      "1\n"
     ]
    }
   ],
   "source": [
    "# reaverse print element\n",
    "x=[1,2,3,4,6,7,9,11,13]\n",
    "for item in x[::-1]:\n",
    "    print(item)"
   ]
  },
  {
   "cell_type": "code",
   "execution_count": 13,
   "id": "6e6350c1",
   "metadata": {},
   "outputs": [],
   "source": [
    "# reaverse a list in place\n",
    "\n",
    "a=[1,2,3]\n",
    "a[:]   # get all element\n",
    "a[:]=a[::-1]"
   ]
  },
  {
   "cell_type": "code",
   "execution_count": 15,
   "id": "e1048189",
   "metadata": {},
   "outputs": [
    {
     "name": "stdout",
     "output_type": "stream",
     "text": [
      "[1, 2, 3, 4, 5] [3, 4, 5, 1, 2]\n"
     ]
    }
   ],
   "source": [
    "# rotate list\n",
    "x=[1,2,3,4,5]\n",
    "ans=x[2:]+x[:2]\n",
    "print(x,ans)"
   ]
  },
  {
   "cell_type": "code",
   "execution_count": 16,
   "id": "b19b4d10",
   "metadata": {},
   "outputs": [
    {
     "name": "stdout",
     "output_type": "stream",
     "text": [
      "[1, 3, 4, 5] [2, 6, 8, 10]\n"
     ]
    }
   ],
   "source": [
    "# comprehension\n",
    "\n",
    "x=[1,3,4,5]\n",
    "x2=[]\n",
    "for i in x:\n",
    "    s=i*2\n",
    "    x2.append(s)\n",
    "print(x,x2)    "
   ]
  },
  {
   "cell_type": "code",
   "execution_count": 17,
   "id": "4d3a0e33",
   "metadata": {},
   "outputs": [
    {
     "name": "stdout",
     "output_type": "stream",
     "text": [
      "[4, 8, 12, 16] [2, 4, 6, 8]\n"
     ]
    }
   ],
   "source": [
    "x=[4,8,12,16]\n",
    "x3=[]\n",
    "for i in x:\n",
    "    x3.append(i//2)\n",
    "print(x,x3)    "
   ]
  },
  {
   "cell_type": "code",
   "execution_count": null,
   "id": "99f9b70d",
   "metadata": {},
   "outputs": [
    {
     "name": "stdout",
     "output_type": "stream",
     "text": [
      "[1, 2, 3]\n",
      "[4, 5, 6]\n",
      "[5, 7, 9]\n"
     ]
    }
   ],
   "source": [
    "# zip footer\n",
    "\n",
    "x=[1,2,3]\n",
    "y=[4,5,6]\n",
    "xy=[]\n",
    "for i,j in zip(x,y):\n",
    "    xy.append(i+j)\n",
    "print(x,y,xy,sep=\"\\n\")    "
   ]
  },
  {
   "cell_type": "code",
   "execution_count": 20,
   "id": "394dfbdf",
   "metadata": {},
   "outputs": [
    {
     "name": "stdout",
     "output_type": "stream",
     "text": [
      "[2, 3, 4] [4, 9, 16]\n"
     ]
    }
   ],
   "source": [
    "z=[2,3,4]\n",
    "zsqr=[]\n",
    "for i in z:\n",
    "    zsqr.append(i**2)\n",
    "print(z,zsqr)    "
   ]
  },
  {
   "cell_type": "code",
   "execution_count": 21,
   "id": "3e714947",
   "metadata": {},
   "outputs": [
    {
     "name": "stdout",
     "output_type": "stream",
     "text": [
      "[2, 3, 4] [8, 27, 64]\n"
     ]
    }
   ],
   "source": [
    "z=[2,3,4]\n",
    "zsqr=[]\n",
    "for i in z:\n",
    "    zsqr.append(i**3)\n",
    "print(z,zsqr) "
   ]
  },
  {
   "cell_type": "code",
   "execution_count": 22,
   "id": "6c5b8af8",
   "metadata": {},
   "outputs": [
    {
     "name": "stdout",
     "output_type": "stream",
     "text": [
      "[1, 2, 3] [8]\n",
      "[1, 2, 3] [8]\n",
      "[1, 2, 3] [8]\n"
     ]
    }
   ],
   "source": [
    "y=[1,2,3]\n",
    "y2=[i*2]\n",
    "for i in y:\n",
    "    print(y,y2)\n"
   ]
  },
  {
   "cell_type": "markdown",
   "id": "286c44c7",
   "metadata": {},
   "source": [
    "# comprehension"
   ]
  },
  {
   "cell_type": "markdown",
   "id": "0015f590",
   "metadata": {},
   "source": [
    "three types of comprehension\n",
    "\n",
    "1.list comprehension\n",
    "2.dictionary comprehension \n",
    "3.risk comprehension"
   ]
  },
  {
   "cell_type": "markdown",
   "id": "94274620",
   "metadata": {},
   "source": [
    "syntax:\n",
    "simple newlist =[operation for loop]\n",
    "example :\n",
    "x2=i**2 for i in x\n",
    "y3=a**3 for a in y\n",
    "\n",
    "condition based\n",
    "new list=operation loop condition "
   ]
  },
  {
   "cell_type": "markdown",
   "id": "8a0a85d6",
   "metadata": {},
   "source": [
    "xeven =[i for i in x if i%2==0]\n",
    "songs=[file for file in data if file.endwith('.mp3')]"
   ]
  },
  {
   "cell_type": "code",
   "execution_count": 1,
   "id": "2afd6eae",
   "metadata": {},
   "outputs": [
    {
     "name": "stdout",
     "output_type": "stream",
     "text": [
      "(1, 2, 3)\n"
     ]
    }
   ],
   "source": [
    "# tuple\n",
    "my_tuple=(1,2,3)\n",
    "print(my_tuple)\n"
   ]
  },
  {
   "cell_type": "code",
   "execution_count": null,
   "id": "aec52105",
   "metadata": {},
   "outputs": [
    {
     "name": "stdout",
     "output_type": "stream",
     "text": [
      "(1, 'hello', 3.4)\n"
     ]
    }
   ],
   "source": [
    "#tuple with mixed datatypes\n",
    "my_tuple=(1,\"hello\",3.4)\n",
    "print(my_tuple)"
   ]
  },
  {
   "cell_type": "code",
   "execution_count": null,
   "id": "1607d062",
   "metadata": {},
   "outputs": [
    {
     "name": "stdout",
     "output_type": "stream",
     "text": [
      "('mouse', [8, 4, 6], (1, 2, 3))\n"
     ]
    }
   ],
   "source": [
    "# nested tuple\n",
    "my_tuple=(\"mouse\",[8,4,6],(1,2,3))\n",
    "print(my_tuple)"
   ]
  },
  {
   "cell_type": "code",
   "execution_count": null,
   "id": "42985679",
   "metadata": {},
   "outputs": [
    {
     "name": "stdout",
     "output_type": "stream",
     "text": [
      "(3, 4.6, 'apple')\n"
     ]
    }
   ],
   "source": [
    "# a tuple can also be created without using parathesis\n",
    "# this is known as tuple packing.\n",
    "my_tuple=3,4.6,\"apple\"\n",
    "print(my_tuple)"
   ]
  },
  {
   "cell_type": "code",
   "execution_count": null,
   "id": "13d1335c",
   "metadata": {},
   "outputs": [
    {
     "name": "stdout",
     "output_type": "stream",
     "text": [
      "c\n",
      "i\n"
     ]
    }
   ],
   "source": [
    "# accesing tuple elements using indexing\n",
    "my_tuple=('c','e','r','a','m','i','c')\n",
    "print(my_tuple[0])\n",
    "print(my_tuple[5])"
   ]
  },
  {
   "cell_type": "code",
   "execution_count": 7,
   "id": "5bec704d",
   "metadata": {},
   "outputs": [
    {
     "name": "stdout",
     "output_type": "stream",
     "text": [
      "e\n",
      "4\n"
     ]
    }
   ],
   "source": [
    "# nested tuple\n",
    "n_tuple=(\"mouse\",[8,4,6],(1,2,3))\n",
    "# nested index\n",
    "print(n_tuple[0][4])\n",
    "print(n_tuple[1][1])"
   ]
  },
  {
   "cell_type": "code",
   "execution_count": 9,
   "id": "501b6662",
   "metadata": {},
   "outputs": [
    {
     "name": "stdout",
     "output_type": "stream",
     "text": [
      "('x', 'c', 'a')\n"
     ]
    }
   ],
   "source": [
    "ua_tuple=('e','x','c','a','l','i','b','u','r')\n",
    "print(ua_tuple[1:4])"
   ]
  },
  {
   "cell_type": "code",
   "execution_count": 10,
   "id": "846f7599",
   "metadata": {},
   "outputs": [
    {
     "name": "stdout",
     "output_type": "stream",
     "text": [
      "('e', 'x', 'c', 'a', 'l', 'i', 'b')\n"
     ]
    }
   ],
   "source": [
    "ua_tuple=('e','x','c','a','l','i','b','u','r')\n",
    "print(ua_tuple[:7])"
   ]
  },
  {
   "cell_type": "code",
   "execution_count": 14,
   "id": "128d7504",
   "metadata": {},
   "outputs": [
    {
     "name": "stdout",
     "output_type": "stream",
     "text": [
      "('x', 'c', 'a', 'l')\n"
     ]
    }
   ],
   "source": [
    "ua_tuple=('e','x','c','a','l','i','b','u','r')\n",
    "print(ua_tuple[1:5])"
   ]
  },
  {
   "cell_type": "code",
   "execution_count": 15,
   "id": "144d5c0b",
   "metadata": {},
   "outputs": [
    {
     "name": "stdout",
     "output_type": "stream",
     "text": [
      "(1, 2, 3, 4, 5, 6)\n"
     ]
    }
   ],
   "source": [
    "print((1,2,3)+(4,5,6))"
   ]
  },
  {
   "cell_type": "code",
   "execution_count": 16,
   "id": "22909188",
   "metadata": {},
   "outputs": [
    {
     "name": "stdout",
     "output_type": "stream",
     "text": [
      "('repeat', 'repeat', 'repeat')\n"
     ]
    }
   ],
   "source": [
    "print((\"repeat\",) *3)"
   ]
  },
  {
   "cell_type": "code",
   "execution_count": 17,
   "id": "f22bf117",
   "metadata": {},
   "outputs": [
    {
     "name": "stdout",
     "output_type": "stream",
     "text": [
      "2\n",
      "4\n"
     ]
    }
   ],
   "source": [
    "ua_tuple=('p','a','p','a','y','a')\n",
    "print(ua_tuple.count('p'))\n",
    "print(ua_tuple.index('y'))"
   ]
  },
  {
   "cell_type": "markdown",
   "id": "eeb64aa2",
   "metadata": {},
   "source": [
    "# Dictionary"
   ]
  },
  {
   "cell_type": "markdown",
   "id": "b286e38d",
   "metadata": {},
   "source": [
    "two ways to store data in python\n",
    "\n",
    "1.list->indexed based\n",
    "2.dictionary->key value pair"
   ]
  },
  {
   "cell_type": "markdown",
   "id": "6746e08f",
   "metadata": {},
   "source": []
  },
  {
   "cell_type": "code",
   "execution_count": 2,
   "id": "30052556",
   "metadata": {},
   "outputs": [
    {
     "name": "stdout",
     "output_type": "stream",
     "text": [
      "{}\n",
      "<class 'dict'>\n",
      "{}\n",
      "<class 'dict'>\n"
     ]
    }
   ],
   "source": [
    "#creating a dictionary\n",
    "\n",
    "d={}       #empty dictionary\n",
    "print(d)\n",
    "print(type(d))\n",
    "\n",
    "d2=dict()    #empty dictionary\n",
    "print(d2)\n",
    "print(type(d2))"
   ]
  },
  {
   "cell_type": "code",
   "execution_count": 1,
   "id": "ab9c5d94",
   "metadata": {},
   "outputs": [
    {
     "name": "stdout",
     "output_type": "stream",
     "text": [
      "{'color': 'red', 'shape': 'square', 'size': '2 meter', 'material': 'plastic'}\n"
     ]
    }
   ],
   "source": [
    "d3={\n",
    "    'color':'red',\n",
    "    'shape':'square',\n",
    "    'size':'2 meter',\n",
    "    'material':'plastic'\n",
    "}\n",
    "print(d3)"
   ]
  },
  {
   "cell_type": "code",
   "execution_count": null,
   "id": "433ffefa",
   "metadata": {},
   "outputs": [
    {
     "name": "stdout",
     "output_type": "stream",
     "text": [
      "{'fact1': 'all keys in a dictionary should be unique', 'sep=\\nfact2': 'keys are immutable so only strings and tuples are allowed as keys', 'sep=\\nfact3': 'value of a key can be of any type ->str,number,list,dict'}\n"
     ]
    }
   ],
   "source": [
    "info={\n",
    "    'fact1':'all keys in a dictionary should be unique',\n",
    "    'fact2':'keys are immutable so only strings and tuples are allowed as keys',\n",
    "    'fact3':'value of a key can be of any type ->str,number,list,dict'\n",
    "}\n",
    "print(info)"
   ]
  },
  {
   "cell_type": "code",
   "execution_count": 6,
   "id": "401a17bb",
   "metadata": {},
   "outputs": [
    {
     "name": "stdout",
     "output_type": "stream",
     "text": [
      "{'name': 'mobile', 'price': 79999, 'features': {'camera': '48 mp', 'os': 18, 'ram': '8 gb'}, 'brand': 'apple', 'model': 'iphone 18', 'popular': True, 'value of money': False, 'colors': ['orange', 'black', 'blue', 'red']}\n"
     ]
    }
   ],
   "source": [
    "product={\n",
    "    'name':'mobile',\n",
    "    'price':79999,\n",
    "    'features':{'camera':'48 mp','os':18,'ram':'8 gb'},\n",
    "    'brand':'apple',\n",
    "    'model':'iphone 18',\n",
    "    'popular':True,\n",
    "    'value of money':False,\n",
    "    'colors':['orange','black','blue','red']\n",
    "}\n",
    "print(product)"
   ]
  },
  {
   "cell_type": "markdown",
   "id": "860dd54f",
   "metadata": {},
   "source": [
    "# GETTING A DATA FROM DICTIONARY"
   ]
  },
  {
   "cell_type": "code",
   "execution_count": 8,
   "id": "c5248dff",
   "metadata": {},
   "outputs": [
    {
     "data": {
      "text/plain": [
       "79999"
      ]
     },
     "execution_count": 8,
     "metadata": {},
     "output_type": "execute_result"
    }
   ],
   "source": [
    "product['price']"
   ]
  },
  {
   "cell_type": "code",
   "execution_count": 9,
   "id": "a2a2e736",
   "metadata": {},
   "outputs": [
    {
     "data": {
      "text/plain": [
       "'iphone 18'"
      ]
     },
     "execution_count": 9,
     "metadata": {},
     "output_type": "execute_result"
    }
   ],
   "source": [
    "product['model']"
   ]
  },
  {
   "cell_type": "code",
   "execution_count": 10,
   "id": "5aad0b6d",
   "metadata": {},
   "outputs": [
    {
     "data": {
      "text/plain": [
       "{'camera': '48 mp', 'os': 18, 'ram': '8 gb'}"
      ]
     },
     "execution_count": 10,
     "metadata": {},
     "output_type": "execute_result"
    }
   ],
   "source": [
    "product['features']"
   ]
  },
  {
   "cell_type": "code",
   "execution_count": 11,
   "id": "bb1f190c",
   "metadata": {},
   "outputs": [
    {
     "data": {
      "text/plain": [
       "['orange', 'black', 'blue', 'red']"
      ]
     },
     "execution_count": 11,
     "metadata": {},
     "output_type": "execute_result"
    }
   ],
   "source": [
    "product['colors']"
   ]
  },
  {
   "cell_type": "code",
   "execution_count": 12,
   "id": "48ed4ec8",
   "metadata": {},
   "outputs": [
    {
     "data": {
      "text/plain": [
       "dict_values(['mobile', 79999, {'camera': '48 mp', 'os': 18, 'ram': '8 gb'}, 'apple', 'iphone 18', True, False, ['orange', 'black', 'blue', 'red']])"
      ]
     },
     "execution_count": 12,
     "metadata": {},
     "output_type": "execute_result"
    }
   ],
   "source": [
    "product.values()  # all the values from dict"
   ]
  },
  {
   "cell_type": "code",
   "execution_count": null,
   "id": "242c9d4e",
   "metadata": {},
   "outputs": [
    {
     "data": {
      "text/plain": [
       "dict_keys(['name', 'price', 'features', 'brand', 'model', 'popular', 'value of money', 'colors'])"
      ]
     },
     "execution_count": 13,
     "metadata": {},
     "output_type": "execute_result"
    }
   ],
   "source": [
    "product.keys()   # all the keys from dict"
   ]
  },
  {
   "cell_type": "code",
   "execution_count": 14,
   "id": "87185446",
   "metadata": {},
   "outputs": [
    {
     "data": {
      "text/plain": [
       "dict_items([('name', 'mobile'), ('price', 79999), ('features', {'camera': '48 mp', 'os': 18, 'ram': '8 gb'}), ('brand', 'apple'), ('model', 'iphone 18'), ('popular', True), ('value of money', False), ('colors', ['orange', 'black', 'blue', 'red'])])"
      ]
     },
     "execution_count": 14,
     "metadata": {},
     "output_type": "execute_result"
    }
   ],
   "source": [
    "product.items()"
   ]
  },
  {
   "cell_type": "code",
   "execution_count": 15,
   "id": "e82c04df",
   "metadata": {},
   "outputs": [
    {
     "name": "stdout",
     "output_type": "stream",
     "text": [
      "iphone 18\n",
      "{'camera': '48 mp', 'os': 18, 'ram': '8 gb'}\n",
      "79999\n",
      "None\n",
      "{'camera': '48 mp', 'os': 18, 'ram': '8 gb'}\n"
     ]
    }
   ],
   "source": [
    "print(product.get('model'))\n",
    "print(product.get('features'))\n",
    "print(product.get('price'))\n",
    "print(product.get('discount'))\n",
    "print(product.get('features'))"
   ]
  },
  {
   "cell_type": "code",
   "execution_count": 17,
   "id": "03013987",
   "metadata": {},
   "outputs": [
    {
     "name": "stdout",
     "output_type": "stream",
     "text": [
      "{'name': 'william shakesphere '}\n",
      "{'name': 'william shakesphere ', 'books': ['julias ceaser', 'merchant of venice']}\n",
      "{'name': 'william shakesphere ', 'books': ['julias ceaser', 'merchant of venice'], 'born': 'april 1564', 'died': 'april 1616', 'overview': 'A English playwright,poet and actor.\\n\"Regarded as the greatest writer in english.'}\n"
     ]
    }
   ],
   "source": [
    "d['name']=\"william shakesphere \"\n",
    "print(d)\n",
    "d['books']=['julias ceaser','merchant of venice']\n",
    "print(d)\n",
    "d['born']=\"april 1564\"\n",
    "d['died']='april 1616'\n",
    "d['overview']='''A English playwright,poet and actor.\n",
    "\"Regarded as the greatest writer in english.'''\n",
    "print(d)\n"
   ]
  },
  {
   "cell_type": "markdown",
   "id": "fe781df6",
   "metadata": {},
   "source": [
    "a simple contact book using temp storage(dictionary)"
   ]
  },
  {
   "cell_type": "code",
   "execution_count": 19,
   "id": "ec837f40",
   "metadata": {},
   "outputs": [
    {
     "name": "stdout",
     "output_type": "stream",
     "text": [
      "contact book\n",
      "search contact\n",
      " 🔎 contact found\n",
      "emergency 🤙 108\n",
      "👋 BYE\n"
     ]
    }
   ],
   "source": [
    "contact={\n",
    "    'emergency':108\n",
    "}\n",
    "print(\"contact book\")\n",
    "while True:\n",
    "    print(\"search contact\")\n",
    "    name=input(\"Name 🤞\")\n",
    "    if name in contact:\n",
    "        print(\" 🔎 contact found\")\n",
    "        print(name,'🤙',contact.get(name))\n",
    "    else:\n",
    "        print(\"💀 contact not found\")\n",
    "        ch=input(\"do you want to add it? Y/n:\")\n",
    "        if ch =='Y'or ch=='y':\n",
    "            num=input(f\"enter {name}'s number:\")\n",
    "            contact[name]=num\n",
    "            print(\"✅ success ! contact added\")\n",
    "        else:\n",
    "            print(\"okay 🤥\") \n",
    "    quit = input(\"do you want to continue? Y/n\")\n",
    "    if quit !='Y' or quit !='y':\n",
    "        print(\"👋 BYE\") \n",
    "        break    \n",
    "    # the end          \n",
    "\n"
   ]
  }
 ],
 "metadata": {
  "kernelspec": {
   "display_name": "Python 3",
   "language": "python",
   "name": "python3"
  },
  "language_info": {
   "codemirror_mode": {
    "name": "ipython",
    "version": 3
   },
   "file_extension": ".py",
   "mimetype": "text/x-python",
   "name": "python",
   "nbconvert_exporter": "python",
   "pygments_lexer": "ipython3",
   "version": "3.13.6"
  }
 },
 "nbformat": 4,
 "nbformat_minor": 5
}
