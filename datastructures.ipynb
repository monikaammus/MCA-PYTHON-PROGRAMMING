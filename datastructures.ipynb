{
 "cells": [
  {
   "cell_type": "code",
   "execution_count": 1,
   "id": "747899ca",
   "metadata": {},
   "outputs": [
    {
     "name": "stdout",
     "output_type": "stream",
     "text": [
      "['THE WAY OF KING']\n"
     ]
    }
   ],
   "source": [
    "books=[]\n",
    "# adding one item at a time\n",
    "books.append(\"THE WAY OF KING\")\n",
    "print(books)\n",
    "books.append(\"THE FINAL EMPIRE\")\n",
    "books.append(\"SWEET HEART\")\n",
    "books.append(\"LEGION\")\n",
    "books.append(\"HARRY POTTER\")"
   ]
  },
  {
   "cell_type": "code",
   "execution_count": 2,
   "id": "a0448f65",
   "metadata": {},
   "outputs": [
    {
     "name": "stdout",
     "output_type": "stream",
     "text": [
      "['red', 'blue', 'blue', 'yellow', 'black']\n",
      "['purple', 'pink', 'yellow']\n"
     ]
    }
   ],
   "source": [
    "colors=['red','blue','blue']\n",
    "colors.extend(['yellow','black'])\n",
    "print(colors)\n",
    "colors2=[\"purple\",\"pink\",\"yellow\"]\n",
    "colors.extend(colors2)\n",
    "print(colors2)"
   ]
  },
  {
   "cell_type": "code",
   "execution_count": 3,
   "id": "0ceb18d2",
   "metadata": {},
   "outputs": [
    {
     "name": "stdout",
     "output_type": "stream",
     "text": [
      "[1]\n",
      "[1, 2]\n",
      "[1, 2, 3]\n",
      "[1, 2, 3, 4]\n",
      "[1, 2, 3, 4, 5]\n",
      "[1, 2, 3, 4, 5, 6]\n",
      "[1, 2, 3, 4, 5, 6, 7]\n",
      "[1, 2, 3, 4, 5, 6, 7, 8]\n",
      "[1, 2, 3, 4, 5, 6, 7, 8, 9]\n",
      "[1, 2, 3, 4, 5, 6, 7, 8, 9, 10]\n"
     ]
    }
   ],
   "source": [
    "a=[]\n",
    "for i in range(1,11):\n",
    "    a.append(i)\n",
    "    print(a)"
   ]
  },
  {
   "cell_type": "code",
   "execution_count": 16,
   "id": "b478a5a2",
   "metadata": {},
   "outputs": [
    {
     "name": "stdout",
     "output_type": "stream",
     "text": [
      "['I', 'D', 'SITA', 'BAHUBALI', 'NOTA']\n"
     ]
    }
   ],
   "source": [
    "movies=[]\n",
    "for i in range(5):\n",
    "    value=input(\"enter your five movies\")\n",
    "    movies.append(value)\n",
    "print(movies)    \n"
   ]
  },
  {
   "cell_type": "code",
   "execution_count": 18,
   "id": "30fd44b8",
   "metadata": {},
   "outputs": [
    {
     "name": "stdout",
     "output_type": "stream",
     "text": [
      "[1, 2, 5, 10]\n"
     ]
    }
   ],
   "source": [
    "x=[1,5,10]\n",
    "x.insert(1,2)\n",
    "print(x)"
   ]
  },
  {
   "cell_type": "markdown",
   "id": "c89e5bc5",
   "metadata": {},
   "source": [
    "list methods"
   ]
  },
  {
   "cell_type": "markdown",
   "id": "c6b77b52",
   "metadata": {},
   "source": [
    "# adding elements\n",
    "append() -> add one element to the end of the list\n",
    "insert() ->add one element to a specific position\n",
    "extend() ->append multiple items in a list\n",
    "\n",
    "# removing elements\n",
    "remove() -> remove the first occurrence of a value\n",
    "pop()    ->remove and return an element from an index\n",
    "clear()  ->remove the elements from the list    \n",
    "\n"
   ]
  },
  {
   "cell_type": "code",
   "execution_count": 1,
   "id": "8e8ed53f",
   "metadata": {},
   "outputs": [
    {
     "name": "stdout",
     "output_type": "stream",
     "text": [
      "size of book list 6\n"
     ]
    }
   ],
   "source": [
    "books=['hero of ages','wells of acsenion','warbreaker','nightblood','the final empire','the way of kinds']\n",
    "\n",
    "# len function check the size of iterable\n",
    "\n",
    "print(\"size of book list\",len(books))\n"
   ]
  },
  {
   "cell_type": "code",
   "execution_count": 2,
   "id": "544b0b66",
   "metadata": {},
   "outputs": [
    {
     "name": "stdout",
     "output_type": "stream",
     "text": [
      "['hero of ages', 'wells of acsenion', 'warbreaker', 'nightblood', 'the way of kinds']\n"
     ]
    }
   ],
   "source": [
    "books.remove(\"the final empire\")\n",
    "print(books)\n"
   ]
  },
  {
   "cell_type": "code",
   "execution_count": 4,
   "id": "582861d5",
   "metadata": {},
   "outputs": [
    {
     "name": "stdout",
     "output_type": "stream",
     "text": [
      "['hero of ages', 'wells of acsenion', 'warbreaker', 'the way of kinds']\n"
     ]
    }
   ],
   "source": [
    "#validation based removal\n",
    "if \"nightblood\" in books:\n",
    "    books.remove(\"nightblood\")\n",
    "print(books)"
   ]
  },
  {
   "cell_type": "code",
   "execution_count": 5,
   "id": "0ca6a2e4",
   "metadata": {},
   "outputs": [
    {
     "name": "stdout",
     "output_type": "stream",
     "text": [
      "['hero of ages', 'wells of acsenion', 'warbreaker', 'the way of kinds']\n"
     ]
    }
   ],
   "source": [
    "print(books)"
   ]
  },
  {
   "cell_type": "code",
   "execution_count": 7,
   "id": "2f764401",
   "metadata": {},
   "outputs": [
    {
     "data": {
      "text/plain": [
       "'the way of kinds'"
      ]
     },
     "execution_count": 7,
     "metadata": {},
     "output_type": "execute_result"
    }
   ],
   "source": [
    "books.pop(3)"
   ]
  },
  {
   "cell_type": "code",
   "execution_count": 8,
   "id": "5be239b4",
   "metadata": {},
   "outputs": [
    {
     "name": "stdout",
     "output_type": "stream",
     "text": [
      "['hero of ages', 'wells of acsenion', 'warbreaker']\n",
      "3\n"
     ]
    }
   ],
   "source": [
    "print(books)\n",
    "print(len(books))"
   ]
  },
  {
   "cell_type": "code",
   "execution_count": 9,
   "id": "48245a38",
   "metadata": {},
   "outputs": [
    {
     "data": {
      "text/plain": [
       "'warbreaker'"
      ]
     },
     "execution_count": 9,
     "metadata": {},
     "output_type": "execute_result"
    }
   ],
   "source": [
    "# pop() without any index will remove the last element\n",
    "books.pop()"
   ]
  },
  {
   "cell_type": "code",
   "execution_count": 10,
   "id": "d49617ec",
   "metadata": {},
   "outputs": [
    {
     "name": "stdout",
     "output_type": "stream",
     "text": [
      "[]\n"
     ]
    }
   ],
   "source": [
    "books.clear()\n",
    "print(books)"
   ]
  },
  {
   "cell_type": "code",
   "execution_count": 11,
   "id": "b91cacad",
   "metadata": {},
   "outputs": [],
   "source": [
    "languages =['c','python','kotlin','java','dart','go','c++','c#','HTML','java script','scala',\n",
    "            'rust','mojo','assembly']\n",
    "numbers=[12,56,23.67,13,23,12,56,23,56,12,34,34,56]\n",
    "\n",
    "data =[1,'apple',2,'avocado',3,'apricot']"
   ]
  },
  {
   "cell_type": "code",
   "execution_count": 12,
   "id": "daea8cd7",
   "metadata": {},
   "outputs": [
    {
     "data": {
      "text/plain": [
       "3"
      ]
     },
     "execution_count": 12,
     "metadata": {},
     "output_type": "execute_result"
    }
   ],
   "source": [
    "numbers.count(12)"
   ]
  },
  {
   "cell_type": "code",
   "execution_count": 14,
   "id": "1688bab0",
   "metadata": {},
   "outputs": [
    {
     "name": "stdout",
     "output_type": "stream",
     "text": [
      "2\n",
      "3\n",
      "2\n"
     ]
    }
   ],
   "source": [
    "print(numbers.count(23))\n",
    "print(numbers.count(12))\n",
    "print(numbers.count(34))"
   ]
  },
  {
   "cell_type": "code",
   "execution_count": 15,
   "id": "29ddf6ee",
   "metadata": {},
   "outputs": [
    {
     "data": {
      "text/plain": [
       "7"
      ]
     },
     "execution_count": 15,
     "metadata": {},
     "output_type": "execute_result"
    }
   ],
   "source": [
    "languages.index('c#')     #index of the list"
   ]
  },
  {
   "cell_type": "code",
   "execution_count": 17,
   "id": "eba5e664",
   "metadata": {},
   "outputs": [
    {
     "name": "stdout",
     "output_type": "stream",
     "text": [
      "0\n",
      "3\n",
      "1\n",
      "11\n"
     ]
    }
   ],
   "source": [
    "print(languages.index(\"c\"))\n",
    "print(languages.index(\"java\"))\n",
    "print(languages.index(\"python\"))\n",
    "print(languages.index(\"rust\"))\n"
   ]
  },
  {
   "cell_type": "code",
   "execution_count": 19,
   "id": "93d49594",
   "metadata": {},
   "outputs": [
    {
     "name": "stdout",
     "output_type": "stream",
     "text": [
      "original ['HTML', 'assembly', 'c', 'c#', 'c++', 'dart', 'go', 'java', 'java script', 'kotlin', 'mojo', 'python', 'rust', 'scala']\n",
      "sorted ['HTML', 'assembly', 'c', 'c#', 'c++', 'dart', 'go', 'java', 'java script', 'kotlin', 'mojo', 'python', 'rust', 'scala']\n",
      "sorted in reverse ['scala', 'rust', 'python', 'mojo', 'kotlin', 'java script', 'java', 'go', 'dart', 'c++', 'c#', 'c', 'assembly', 'HTML']\n"
     ]
    }
   ],
   "source": [
    "print(\"original\",languages)\n",
    "languages.sort() #sort inplace\n",
    "print(\"sorted\",languages)\n",
    "languages.sort(reverse=True)  # sort in reversion\n",
    "print(\"sorted in reverse\",languages)"
   ]
  },
  {
   "cell_type": "code",
   "execution_count": 20,
   "id": "a1b5fa82",
   "metadata": {},
   "outputs": [
    {
     "name": "stdout",
     "output_type": "stream",
     "text": [
      "original [1, 'apple', 2, 'avocado', 3, 'apricot']\n",
      "reversed ['apricot', 3, 'avocado', 2, 'apple', 1]\n"
     ]
    }
   ],
   "source": [
    "print(\"original\",data)\n",
    "data.reverse()\n",
    "print(\"reversed\",data)"
   ]
  },
  {
   "cell_type": "code",
   "execution_count": 1,
   "id": "a8dce3f0",
   "metadata": {},
   "outputs": [
    {
     "name": "stdout",
     "output_type": "stream",
     "text": [
      "[1, 2, 3, 4]\n",
      "[1, 2, 3, 4]\n",
      "[1, 2, 3, 4]\n",
      "[1, 2, 3, 4]\n",
      "[1, 2, 3, 4]\n",
      "[1, 2, 3, 4, 10, 20]\n"
     ]
    }
   ],
   "source": [
    "x=[1,2,3,4]\n",
    "y=x   #deep copy\n",
    "z=x.copy()   # swallow copy\n",
    "print(x,y,z, sep='\\n')\n",
    "x.append(10)\n",
    "y.pop()\n",
    "z.append(10)\n",
    "z.append(20)\n",
    "print(x,y,z,sep='\\n')\n",
    " "
   ]
  },
  {
   "cell_type": "markdown",
   "id": "0fc651f3",
   "metadata": {},
   "source": [
    " # slicing\n",
    " "
   ]
  },
  {
   "cell_type": "markdown",
   "id": "408c295a",
   "metadata": {},
   "source": [
    "    -9,-8,-7,-6,-5,-4,-3,-2,-1\n",
    "v= EDUCATION\n",
    "    0,1,2,3,4,5,6,7,8,\n",
    "\n",
    "    X[0]               X[5]\n",
    "    X[1]               X[6]\n",
    "    X[2]               X[7]\n",
    "\n",
    "  X[-1]        X[0:3]"
   ]
  },
  {
   "cell_type": "code",
   "execution_count": 2,
   "id": "81dae74c",
   "metadata": {},
   "outputs": [
    {
     "data": {
      "text/plain": [
       "[13, 15, 19]"
      ]
     },
     "execution_count": 2,
     "metadata": {},
     "output_type": "execute_result"
    }
   ],
   "source": [
    "X=[11,12,13,15,19]\n",
    "X[0:3]\n",
    "X[2:len(X)]"
   ]
  },
  {
   "cell_type": "code",
   "execution_count": 3,
   "id": "5aa49a2e",
   "metadata": {},
   "outputs": [
    {
     "data": {
      "text/plain": [
       "['C', 'A', 'T', 'I', 'O', 'N']"
      ]
     },
     "execution_count": 3,
     "metadata": {},
     "output_type": "execute_result"
    }
   ],
   "source": [
    "X=['E','D','U','C','A','T','I','O','N']\n",
    "X[3:6]\n",
    "X[3:len(X)]\n"
   ]
  },
  {
   "cell_type": "code",
   "execution_count": 6,
   "id": "b4e131db",
   "metadata": {},
   "outputs": [
    {
     "data": {
      "text/plain": [
       "'m s'"
      ]
     },
     "execution_count": 6,
     "metadata": {},
     "output_type": "execute_result"
    }
   ],
   "source": [
    "# SLICING SYNTAX     var[start:stop:step]\n",
    "name=\"william shakespeare\"\n",
    "len(name)\n",
    "name[6:9]\n",
    "\n",
    "\n"
   ]
  },
  {
   "cell_type": "markdown",
   "id": "0eab3488",
   "metadata": {},
   "source": [
    "# slicing facts\n",
    "If starting from 0 index,you can skip it\n",
    "X[0:4]  is same as X[:4]"
   ]
  },
  {
   "cell_type": "code",
   "execution_count": 11,
   "id": "702b84fc",
   "metadata": {},
   "outputs": [
    {
     "data": {
      "text/plain": [
       "'APPL'"
      ]
     },
     "execution_count": 11,
     "metadata": {},
     "output_type": "execute_result"
    }
   ],
   "source": [
    "X='APPLEPIE'\n",
    "len(X)\n",
    "X[0:4]"
   ]
  },
  {
   "cell_type": "code",
   "execution_count": null,
   "id": "9c4e59bc",
   "metadata": {},
   "outputs": [
    {
     "data": {
      "text/plain": [
       "'william'"
      ]
     },
     "execution_count": 12,
     "metadata": {},
     "output_type": "execute_result"
    }
   ],
   "source": [
    "name=\"william shakespeare\"\n",
    "len(name)\n",
    "name[:7]       #fname"
   ]
  },
  {
   "cell_type": "code",
   "execution_count": 13,
   "id": "06c24d40",
   "metadata": {},
   "outputs": [
    {
     "data": {
      "text/plain": [
       "'shakespeare'"
      ]
     },
     "execution_count": 13,
     "metadata": {},
     "output_type": "execute_result"
    }
   ],
   "source": [
    "name=\"william shakespeare\"\n",
    "len(name)\n",
    "name[8:]"
   ]
  },
  {
   "cell_type": "code",
   "execution_count": 16,
   "id": "09d2d762",
   "metadata": {},
   "outputs": [
    {
     "data": {
      "text/plain": [
       "'ma'"
      ]
     },
     "execution_count": 16,
     "metadata": {},
     "output_type": "execute_result"
    }
   ],
   "source": [
    "name=\"monika\"\n",
    "name[::5]"
   ]
  },
  {
   "cell_type": "code",
   "execution_count": 17,
   "id": "11a6e649",
   "metadata": {},
   "outputs": [
    {
     "data": {
      "text/plain": [
       "'mnsa'"
      ]
     },
     "execution_count": 17,
     "metadata": {},
     "output_type": "execute_result"
    }
   ],
   "source": [
    "name=\"manisha\"\n",
    "name[1::2]      #even\n",
    "name[::2]       #odd"
   ]
  },
  {
   "cell_type": "code",
   "execution_count": 7,
   "id": "7f9fb712",
   "metadata": {},
   "outputs": [
    {
     "data": {
      "text/plain": [
       "'vijay'"
      ]
     },
     "execution_count": 7,
     "metadata": {},
     "output_type": "execute_result"
    }
   ],
   "source": [
    "name=\"vijay devera konda\"\n",
    "name[:5]\n"
   ]
  },
  {
   "cell_type": "code",
   "execution_count": 8,
   "id": "17cc07de",
   "metadata": {},
   "outputs": [
    {
     "data": {
      "text/plain": [
       "'devera'"
      ]
     },
     "execution_count": 8,
     "metadata": {},
     "output_type": "execute_result"
    }
   ],
   "source": [
    "name=\"vijay devera konda\"\n",
    "name[6:12]"
   ]
  },
  {
   "cell_type": "code",
   "execution_count": 9,
   "id": "1dd2ac68",
   "metadata": {},
   "outputs": [
    {
     "data": {
      "text/plain": [
       "'konda'"
      ]
     },
     "execution_count": 9,
     "metadata": {},
     "output_type": "execute_result"
    }
   ],
   "source": [
    "name=\"vijay devera konda\"\n",
    "name[-5:]"
   ]
  },
  {
   "cell_type": "code",
   "execution_count": 14,
   "id": "ba58d013",
   "metadata": {},
   "outputs": [
    {
     "data": {
      "text/plain": [
       "'ia eeakna'"
      ]
     },
     "execution_count": 14,
     "metadata": {},
     "output_type": "execute_result"
    }
   ],
   "source": [
    "name=\"vijay devera konda\"\n",
    "name[::2]\n",
    "name[1::2]"
   ]
  },
  {
   "cell_type": "code",
   "execution_count": null,
   "id": "f7a6c523",
   "metadata": {},
   "outputs": [
    {
     "name": "stdout",
     "output_type": "stream",
     "text": [
      "13\n",
      "11\n",
      "9\n",
      "7\n",
      "6\n",
      "4\n",
      "3\n",
      "2\n",
      "1\n"
     ]
    }
   ],
   "source": [
    "# reaverse print element\n",
    "x=[1,2,3,4,6,7,9,11,13]\n",
    "for item in x[::-1]:\n",
    "    print(item)"
   ]
  },
  {
   "cell_type": "code",
   "execution_count": 13,
   "id": "6e6350c1",
   "metadata": {},
   "outputs": [],
   "source": [
    "# reaverse a list in place\n",
    "\n",
    "a=[1,2,3]\n",
    "a[:]   # get all element\n",
    "a[:]=a[::-1]"
   ]
  },
  {
   "cell_type": "code",
   "execution_count": 15,
   "id": "e1048189",
   "metadata": {},
   "outputs": [
    {
     "name": "stdout",
     "output_type": "stream",
     "text": [
      "[1, 2, 3, 4, 5] [3, 4, 5, 1, 2]\n"
     ]
    }
   ],
   "source": [
    "# rotate list\n",
    "x=[1,2,3,4,5]\n",
    "ans=x[2:]+x[:2]\n",
    "print(x,ans)"
   ]
  },
  {
   "cell_type": "code",
   "execution_count": 16,
   "id": "b19b4d10",
   "metadata": {},
   "outputs": [
    {
     "name": "stdout",
     "output_type": "stream",
     "text": [
      "[1, 3, 4, 5] [2, 6, 8, 10]\n"
     ]
    }
   ],
   "source": [
    "# comprehension\n",
    "\n",
    "x=[1,3,4,5]\n",
    "x2=[]\n",
    "for i in x:\n",
    "    s=i*2\n",
    "    x2.append(s)\n",
    "print(x,x2)    "
   ]
  },
  {
   "cell_type": "code",
   "execution_count": 17,
   "id": "4d3a0e33",
   "metadata": {},
   "outputs": [
    {
     "name": "stdout",
     "output_type": "stream",
     "text": [
      "[4, 8, 12, 16] [2, 4, 6, 8]\n"
     ]
    }
   ],
   "source": [
    "x=[4,8,12,16]\n",
    "x3=[]\n",
    "for i in x:\n",
    "    x3.append(i//2)\n",
    "print(x,x3)    "
   ]
  },
  {
   "cell_type": "code",
   "execution_count": null,
   "id": "99f9b70d",
   "metadata": {},
   "outputs": [
    {
     "name": "stdout",
     "output_type": "stream",
     "text": [
      "[1, 2, 3]\n",
      "[4, 5, 6]\n",
      "[5, 7, 9]\n"
     ]
    }
   ],
   "source": [
    "# zip footer\n",
    "\n",
    "x=[1,2,3]\n",
    "y=[4,5,6]\n",
    "xy=[]\n",
    "for i,j in zip(x,y):\n",
    "    xy.append(i+j)\n",
    "print(x,y,xy,sep=\"\\n\")    "
   ]
  },
  {
   "cell_type": "code",
   "execution_count": 20,
   "id": "394dfbdf",
   "metadata": {},
   "outputs": [
    {
     "name": "stdout",
     "output_type": "stream",
     "text": [
      "[2, 3, 4] [4, 9, 16]\n"
     ]
    }
   ],
   "source": [
    "z=[2,3,4]\n",
    "zsqr=[]\n",
    "for i in z:\n",
    "    zsqr.append(i**2)\n",
    "print(z,zsqr)    "
   ]
  },
  {
   "cell_type": "code",
   "execution_count": 21,
   "id": "3e714947",
   "metadata": {},
   "outputs": [
    {
     "name": "stdout",
     "output_type": "stream",
     "text": [
      "[2, 3, 4] [8, 27, 64]\n"
     ]
    }
   ],
   "source": [
    "z=[2,3,4]\n",
    "zsqr=[]\n",
    "for i in z:\n",
    "    zsqr.append(i**3)\n",
    "print(z,zsqr) "
   ]
  },
  {
   "cell_type": "code",
   "execution_count": 22,
   "id": "6c5b8af8",
   "metadata": {},
   "outputs": [
    {
     "name": "stdout",
     "output_type": "stream",
     "text": [
      "[1, 2, 3] [8]\n",
      "[1, 2, 3] [8]\n",
      "[1, 2, 3] [8]\n"
     ]
    }
   ],
   "source": [
    "y=[1,2,3]\n",
    "y2=[i*2]\n",
    "for i in y:\n",
    "    print(y,y2)\n"
   ]
  },
  {
   "cell_type": "markdown",
   "id": "286c44c7",
   "metadata": {},
   "source": [
    "# comprehension"
   ]
  },
  {
   "cell_type": "markdown",
   "id": "0015f590",
   "metadata": {},
   "source": [
    "three types of comprehension\n",
    "\n",
    "1.list comprehension\n",
    "2.dictionary comprehension \n",
    "3.risk comprehension"
   ]
  },
  {
   "cell_type": "markdown",
   "id": "94274620",
   "metadata": {},
   "source": [
    "syntax:\n",
    "simple newlist =[operation for loop]\n",
    "example :\n",
    "x2=i**2 for i in x\n",
    "y3=a**3 for a in y\n",
    "\n",
    "condition based\n",
    "new list=operation loop condition "
   ]
  },
  {
   "cell_type": "markdown",
   "id": "8a0a85d6",
   "metadata": {},
   "source": [
    "xeven =[i for i in x if i%2==0]\n",
    "songs=[file for file in data if file.endwith('.mp3')]"
   ]
  }
 ],
 "metadata": {
  "kernelspec": {
   "display_name": "Python 3",
   "language": "python",
   "name": "python3"
  },
  "language_info": {
   "codemirror_mode": {
    "name": "ipython",
    "version": 3
   },
   "file_extension": ".py",
   "mimetype": "text/x-python",
   "name": "python",
   "nbconvert_exporter": "python",
   "pygments_lexer": "ipython3",
   "version": "3.13.6"
  }
 },
 "nbformat": 4,
 "nbformat_minor": 5
}
