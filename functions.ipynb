{
 "cells": [
  {
   "cell_type": "code",
   "execution_count": 29,
   "id": "3bce388c",
   "metadata": {},
   "outputs": [
    {
     "name": "stdout",
     "output_type": "stream",
     "text": [
      "odd\n"
     ]
    }
   ],
   "source": [
    "#Function&modules\n",
    "n=input('enter value')\n",
    "if int(n)%2==0:\n",
    "    print('even')\n",
    "else:\n",
    "    print('odd')"
   ]
  },
  {
   "cell_type": "markdown",
   "id": "fc2019dd",
   "metadata": {},
   "source": [
    "functions are divided into 2 types:\n",
    " user defined\n",
    " pre defined function:\n",
    "                 1.print()\n",
    "                 2.input()\n",
    "                 3.str()\n",
    "                 4.len()\n",
    "based on function i/o,4 types of function\n",
    "1.logic(closed function)\n",
    "2.parameterized function\n",
    "3.function returning value\n",
    "4.parameterized+value returning function"
   ]
  },
  {
   "cell_type": "code",
   "execution_count": 1,
   "id": "0680a95c",
   "metadata": {},
   "outputs": [],
   "source": [
    "def total (a,b,c):\n",
    "  ans=a+b+c\n",
    "  print(f'total = {ans}')"
   ]
  },
  {
   "cell_type": "code",
   "execution_count": 2,
   "id": "90ce66bd",
   "metadata": {},
   "outputs": [
    {
     "name": "stdout",
     "output_type": "stream",
     "text": [
      "total = 60\n"
     ]
    }
   ],
   "source": [
    "total(10,20,30)"
   ]
  },
  {
   "cell_type": "code",
   "execution_count": 3,
   "id": "1fa72f89",
   "metadata": {},
   "outputs": [
    {
     "name": "stdout",
     "output_type": "stream",
     "text": [
      "total = 29\n"
     ]
    }
   ],
   "source": [
    "total(1,15,13)"
   ]
  },
  {
   "cell_type": "code",
   "execution_count": 4,
   "id": "2ec3d379",
   "metadata": {},
   "outputs": [],
   "source": [
    "def mul(a,b):\n",
    "    print(a*b)"
   ]
  },
  {
   "cell_type": "code",
   "execution_count": 5,
   "id": "04b184d0",
   "metadata": {},
   "outputs": [
    {
     "name": "stdout",
     "output_type": "stream",
     "text": [
      "6\n"
     ]
    }
   ],
   "source": [
    "mul(2,3)"
   ]
  },
  {
   "cell_type": "code",
   "execution_count": 6,
   "id": "382e8198",
   "metadata": {},
   "outputs": [
    {
     "name": "stdout",
     "output_type": "stream",
     "text": [
      "2625\n"
     ]
    }
   ],
   "source": [
    "mul(15,175)"
   ]
  },
  {
   "cell_type": "code",
   "execution_count": 7,
   "id": "9dfdbe5e",
   "metadata": {},
   "outputs": [
    {
     "name": "stdout",
     "output_type": "stream",
     "text": [
      "75\n"
     ]
    }
   ],
   "source": [
    "mul(5,15)"
   ]
  },
  {
   "cell_type": "markdown",
   "id": "2bc3974c",
   "metadata": {},
   "source": [
    "def hyp(p,b):ans=maths.sqrt(p2+b2)return ans hyp(10,5)"
   ]
  },
  {
   "cell_type": "code",
   "execution_count": 8,
   "id": "66de378c",
   "metadata": {},
   "outputs": [
    {
     "data": {
      "text/plain": [
       "False"
      ]
     },
     "execution_count": 8,
     "metadata": {},
     "output_type": "execute_result"
    }
   ],
   "source": [
    "def is_even(num):\n",
    "     if num%2==0:\n",
    "        return True\n",
    "     else:\n",
    "        return False\n",
    "is_even(25)"
   ]
  },
  {
   "cell_type": "code",
   "execution_count": 9,
   "id": "c82a1fd4",
   "metadata": {},
   "outputs": [
    {
     "name": "stdout",
     "output_type": "stream",
     "text": [
      "good job\n"
     ]
    }
   ],
   "source": [
    "x = int(input(\"enter a num\"))\n",
    "if is_even(x):\n",
    "    print(\"good job\")\n",
    "else:\n",
    "    print(\"you are strict\")"
   ]
  },
  {
   "cell_type": "markdown",
   "id": "cb5933cc",
   "metadata": {},
   "source": [
    "# required parameter "
   ]
  },
  {
   "cell_type": "code",
   "execution_count": 10,
   "id": "90ece32f",
   "metadata": {},
   "outputs": [
    {
     "name": "stdout",
     "output_type": "stream",
     "text": [
      "50\n"
     ]
    }
   ],
   "source": [
    "def area(I,b):\n",
    "    return I*b\n",
    "ans= area(10,5)\n",
    "print(ans)\n"
   ]
  },
  {
   "cell_type": "markdown",
   "id": "465c1acd",
   "metadata": {},
   "source": [
    "# named parameter calls"
   ]
  },
  {
   "cell_type": "code",
   "execution_count": 11,
   "id": "a3a9bc4f",
   "metadata": {},
   "outputs": [
    {
     "name": "stdout",
     "output_type": "stream",
     "text": [
      "65\n",
      "1650.0\n"
     ]
    }
   ],
   "source": [
    "res=area(I=5,b=13)\n",
    "print(res)\n",
    "def si(p,r,t):\n",
    "    return p*r*t/100\n",
    "intrest=si(p=10000,r=3.3,t=5)\n",
    "print(intrest)"
   ]
  },
  {
   "cell_type": "markdown",
   "id": "cfb55196",
   "metadata": {},
   "source": [
    "# default parameter"
   ]
  },
  {
   "cell_type": "code",
   "execution_count": 12,
   "id": "806dc237",
   "metadata": {},
   "outputs": [
    {
     "name": "stdout",
     "output_type": "stream",
     "text": [
      "1000\n",
      "100000\n"
     ]
    }
   ],
   "source": [
    "def power(n,e=2):\n",
    "    return n**e\n",
    "print(pow(10,3))\n",
    "print(pow(10,5))"
   ]
  },
  {
   "cell_type": "code",
   "execution_count": 13,
   "id": "426d7437",
   "metadata": {},
   "outputs": [
    {
     "data": {
      "text/plain": [
       "10"
      ]
     },
     "execution_count": 13,
     "metadata": {},
     "output_type": "execute_result"
    }
   ],
   "source": [
    "def adder(a,b=0,c=0,d=0):\n",
    "    return a+b+c+d\n",
    "adder(10)"
   ]
  },
  {
   "cell_type": "code",
   "execution_count": 14,
   "id": "4d6f40eb",
   "metadata": {},
   "outputs": [
    {
     "data": {
      "text/plain": [
       "9"
      ]
     },
     "execution_count": 14,
     "metadata": {},
     "output_type": "execute_result"
    }
   ],
   "source": [
    "def adder(a,b=0,c=0,d=0):\n",
    "    return a+b+c+d\n",
    "adder(5,4)"
   ]
  },
  {
   "cell_type": "code",
   "execution_count": 15,
   "id": "32d8c327",
   "metadata": {},
   "outputs": [
    {
     "data": {
      "text/plain": [
       "10"
      ]
     },
     "execution_count": 15,
     "metadata": {},
     "output_type": "execute_result"
    }
   ],
   "source": [
    "def adder(a,b=0,c=0,d=0):\n",
    "    return a+b+c+d\n",
    "adder(2,3,5)"
   ]
  },
  {
   "cell_type": "code",
   "execution_count": 16,
   "id": "5b2c562f",
   "metadata": {},
   "outputs": [
    {
     "data": {
      "text/plain": [
       "22"
      ]
     },
     "execution_count": 16,
     "metadata": {},
     "output_type": "execute_result"
    }
   ],
   "source": [
    "def adder(a,b=0,c=0,d=0):\n",
    "    return a+b+c+d\n",
    "adder(a=10,c=10,d=2)"
   ]
  },
  {
   "cell_type": "code",
   "execution_count": 17,
   "id": "e910599c",
   "metadata": {},
   "outputs": [
    {
     "data": {
      "text/plain": [
       "14"
      ]
     },
     "execution_count": 17,
     "metadata": {},
     "output_type": "execute_result"
    }
   ],
   "source": [
    "def adder(a,b=0,c=0,d=0):\n",
    "    return a+b+c+d\n",
    "adder(5,4,3,2)"
   ]
  },
  {
   "cell_type": "code",
   "execution_count": 23,
   "id": "99736d30",
   "metadata": {},
   "outputs": [],
   "source": [
    "def h1():\n",
    "    print(\"hola\")\n",
    "    h1()\n",
    "def ctof(val):\n",
    "    f=(val*9/5)+32\n",
    "    return f\n",
    "    \n"
   ]
  },
  {
   "cell_type": "code",
   "execution_count": 20,
   "id": "fb675ea4",
   "metadata": {},
   "outputs": [
    {
     "name": "stdout",
     "output_type": "stream",
     "text": [
      "🌟🌟🌟🌟🌟\n",
      "good morning\n",
      "🌟🌟🌟🌟🌟\n"
     ]
    }
   ],
   "source": [
    "# definition\n",
    "\n",
    "def greeting():\n",
    "     print(\"🌟\"*5)\n",
    "     print(\"good morning\")\n",
    "     print(\"🌟\"*5)\n",
    "greeting()"
   ]
  },
  {
   "cell_type": "code",
   "execution_count": 24,
   "id": "53ab0a60",
   "metadata": {},
   "outputs": [
    {
     "name": "stdout",
     "output_type": "stream",
     "text": [
      "👌\n",
      "👍\n",
      "👌\n",
      "👍\n",
      "👍\n"
     ]
    }
   ],
   "source": [
    "def dice_roll():\n",
    "    import random\n",
    "    out={1:'👍',2:'✌️',3:'👌',4:'✋',5:'👑'}\n",
    "    value=random.randint(1,5)\n",
    "    return out.get(value)\n",
    "print(dice_roll())\n",
    "print(dice_roll())\n",
    "print(dice_roll())\n",
    "print(dice_roll())\n",
    "print(dice_roll())"
   ]
  },
  {
   "cell_type": "code",
   "execution_count": 25,
   "id": "b112d85b",
   "metadata": {},
   "outputs": [
    {
     "name": "stdout",
     "output_type": "stream",
     "text": [
      "False\n",
      "True\n",
      "True\n",
      "False\n"
     ]
    }
   ],
   "source": [
    "def is_valid_password(pwd):\n",
    "    if len(pwd) < 8: return False\n",
    "    if not pwd.isalnum():return False\n",
    "    return True\n",
    "print(is_valid_password(\"hello\"))\n",
    "print(is_valid_password(\"helloworld\"))\n",
    "print(is_valid_password(\"helloworld10\"))\n",
    "print(is_valid_password(\"3120@1233\"))"
   ]
  },
  {
   "cell_type": "code",
   "execution_count": 26,
   "id": "161c9e36",
   "metadata": {},
   "outputs": [
    {
     "name": "stdout",
     "output_type": "stream",
     "text": [
      "area = 180\n"
     ]
    }
   ],
   "source": [
    "def area(length: int,breadth:int)-> int:\n",
    "    return length * breadth\n",
    "\n",
    "l = 12\n",
    "b = 15\n",
    "a= area(l,b)\n",
    "print(f'area = {a}')"
   ]
  },
  {
   "cell_type": "code",
   "execution_count": 27,
   "id": "bea02f73",
   "metadata": {},
   "outputs": [
    {
     "name": "stdout",
     "output_type": "stream",
     "text": [
      "hello\n",
      "hi\n"
     ]
    }
   ],
   "source": [
    "def cleanText(data,to_remove=\"@$%\"):\n",
    "    newdata= data\n",
    "    for char in to_remove:\n",
    "        newdata= newdata.replace(char,'')\n",
    "    return newdata  \n",
    "\n",
    "cText= cleanText(\"he#ll#o@\",to_remove='##@')\n",
    "print(cText)\n",
    "cText2=cleanText(\"h@!()#!)@i\",to_remove='@!#()')\n",
    "print(cText2)  "
   ]
  },
  {
   "cell_type": "code",
   "execution_count": 28,
   "id": "c110b172",
   "metadata": {},
   "outputs": [
    {
     "data": {
      "text/plain": [
       "26"
      ]
     },
     "execution_count": 28,
     "metadata": {},
     "output_type": "execute_result"
    }
   ],
   "source": [
    "def add100(a,b,c,d,e,f,g,h,i,j,k,l,m,n,o,p,q,r,s,t,u,v,w,x,y,z):\n",
    "    return a+b+c+d+e+f+g+h+i+j+k+l+m+n+o+p+q+r+s+t+u+v+w+x+y+z\n",
    "add100(1,1,1,1,1,1,1,1,1,1,1,1,1,1,1,1,1,1,1,1,1,1,1,1,1,1)"
   ]
  },
  {
   "cell_type": "markdown",
   "id": "f6521b0f",
   "metadata": {},
   "source": [
    "# variables arguments in python"
   ]
  },
  {
   "cell_type": "markdown",
   "id": "cddb3633",
   "metadata": {},
   "source": [
    "A  function can have variable arguments in python using* symbol before a paramter in the function definition.\n",
    "this allows the function to accept any number of positionala arguments as a tuple."
   ]
  },
  {
   "cell_type": "code",
   "execution_count": 1,
   "id": "3f7833e3",
   "metadata": {},
   "outputs": [
    {
     "name": "stdout",
     "output_type": "stream",
     "text": [
      "1\n",
      "24\n",
      "4838400\n"
     ]
    }
   ],
   "source": [
    "def multiplier(*numbers):\n",
    "    result =1\n",
    "    for value in numbers:\n",
    "        result*=value\n",
    "    return result\n",
    "\n",
    "print(multiplier())\n",
    "print(multiplier(2,3,4))\n",
    "print(multiplier(2,3,4,3,5,6,1,2,2,5,56,2))        \n"
   ]
  },
  {
   "cell_type": "code",
   "execution_count": 3,
   "id": "8f61a39d",
   "metadata": {},
   "outputs": [
    {
     "name": "stdout",
     "output_type": "stream",
     "text": [
      "24\n",
      "10\n",
      "wrong operator give ,please provide + or  *\n"
     ]
    }
   ],
   "source": [
    "def operate(*args,operator=\"*\"):\n",
    "    if operator =='*':\n",
    "        result =1\n",
    "        for num in args:\n",
    "            result*=num\n",
    "        return result\n",
    "    elif operator == '+':\n",
    "        result=0\n",
    "        for num in args:\n",
    "            result+=num\n",
    "        return result\n",
    "    else:\n",
    "        return \"wrong operator give ,please provide + or  *\"\n",
    "print(operate(1,2,3,4))\n",
    "print(operate(1,2,3,4,operator='+'))\n",
    "print(operate(1,2,3,4,operator='-'))\n",
    "    \n",
    "        \n"
   ]
  },
  {
   "cell_type": "markdown",
   "id": "7f9b7492",
   "metadata": {},
   "source": [
    "# anonymous functions in python "
   ]
  },
  {
   "cell_type": "markdown",
   "id": "45560eb5",
   "metadata": {},
   "source": [
    "anonymous functions also known as lamda functions "
   ]
  },
  {
   "cell_type": "code",
   "execution_count": 4,
   "id": "8b72f0e3",
   "metadata": {},
   "outputs": [
    {
     "name": "stdout",
     "output_type": "stream",
     "text": [
      "<function <lambda> at 0x000001F4D8034900>\n"
     ]
    }
   ],
   "source": [
    "f=lambda x:x*2 +10\n",
    "print(f)\n"
   ]
  },
  {
   "cell_type": "code",
   "execution_count": 5,
   "id": "9925428d",
   "metadata": {},
   "outputs": [
    {
     "name": "stdout",
     "output_type": "stream",
     "text": [
      "34\n",
      "20\n",
      "30\n"
     ]
    }
   ],
   "source": [
    "print(f(12))\n",
    "print(f(5))\n",
    "print(f(10))"
   ]
  },
  {
   "cell_type": "code",
   "execution_count": 6,
   "id": "d81749d2",
   "metadata": {},
   "outputs": [
    {
     "name": "stdout",
     "output_type": "stream",
     "text": [
      "14\n",
      "20\n",
      "24\n"
     ]
    }
   ],
   "source": [
    "print(f(2))\n",
    "print(f(5))\n",
    "print(f(7))\n"
   ]
  },
  {
   "cell_type": "markdown",
   "id": "e0f29fd1",
   "metadata": {},
   "source": [
    "# generators or lazy functions"
   ]
  },
  {
   "cell_type": "markdown",
   "id": "f02ee72b",
   "metadata": {},
   "source": [
    "special type of function that will not evaluate and return all values at once instead it wwill return one value at a time and only requested."
   ]
  },
  {
   "cell_type": "code",
   "execution_count": 7,
   "id": "cc02b149",
   "metadata": {},
   "outputs": [
    {
     "name": "stdout",
     "output_type": "stream",
     "text": [
      "1\n",
      "2\n",
      "3\n",
      "4\n",
      "5\n",
      "[1, 2, 3, 4, 5, 6, 7, 8, 9]\n"
     ]
    }
   ],
   "source": [
    "for i in range(1,6): print(i)\n",
    "print(list(range(1,10)))"
   ]
  },
  {
   "cell_type": "code",
   "execution_count": 9,
   "id": "c74a54e9",
   "metadata": {},
   "outputs": [
    {
     "name": "stdout",
     "output_type": "stream",
     "text": [
      "square 4\n",
      "[484, 1089, 3025]\n",
      "square 9\n",
      "[484, 1089, 3025]\n",
      "square 9\n",
      "[484, 1089, 3025]\n",
      "square 25\n",
      "[484, 1089, 3025]\n",
      "square 36\n",
      "[484, 1089, 3025]\n",
      "square 49\n",
      "[484, 1089, 3025]\n"
     ]
    }
   ],
   "source": [
    "def squared (data):\n",
    "    for i in data:\n",
    "        yield i**2\n",
    "\n",
    "for num in squared([2,3,3,5,6,7]):\n",
    "    print(\"square\",num)  \n",
    "\n",
    "    print(list(squared([22,33,55])))     "
   ]
  }
 ],
 "metadata": {
  "kernelspec": {
   "display_name": "Python 3",
   "language": "python",
   "name": "python3"
  },
  "language_info": {
   "codemirror_mode": {
    "name": "ipython",
    "version": 3
   },
   "file_extension": ".py",
   "mimetype": "text/x-python",
   "name": "python",
   "nbconvert_exporter": "python",
   "pygments_lexer": "ipython3",
   "version": "3.13.6"
  }
 },
 "nbformat": 4,
 "nbformat_minor": 5
}
