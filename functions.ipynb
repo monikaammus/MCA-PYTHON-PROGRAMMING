{
 "cells": [
  {
   "cell_type": "markdown",
   "id": "f6521b0f",
   "metadata": {},
   "source": [
    "# variables arguments in python"
   ]
  },
  {
   "cell_type": "markdown",
   "id": "cddb3633",
   "metadata": {},
   "source": [
    "A  function can have variable arguments in python using* symbol before a paramter in the function definition.\n",
    "this allows the function to accept any number of positionala arguments as a tuple."
   ]
  },
  {
   "cell_type": "code",
   "execution_count": 1,
   "id": "3f7833e3",
   "metadata": {},
   "outputs": [
    {
     "name": "stdout",
     "output_type": "stream",
     "text": [
      "1\n",
      "24\n",
      "4838400\n"
     ]
    }
   ],
   "source": [
    "def multiplier(*numbers):\n",
    "    result =1\n",
    "    for value in numbers:\n",
    "        result*=value\n",
    "    return result\n",
    "\n",
    "print(multiplier())\n",
    "print(multiplier(2,3,4))\n",
    "print(multiplier(2,3,4,3,5,6,1,2,2,5,56,2))        \n"
   ]
  },
  {
   "cell_type": "code",
   "execution_count": 3,
   "id": "8f61a39d",
   "metadata": {},
   "outputs": [
    {
     "name": "stdout",
     "output_type": "stream",
     "text": [
      "24\n",
      "10\n",
      "wrong operator give ,please provide + or  *\n"
     ]
    }
   ],
   "source": [
    "def operate(*args,operator=\"*\"):\n",
    "    if operator =='*':\n",
    "        result =1\n",
    "        for num in args:\n",
    "            result*=num\n",
    "        return result\n",
    "    elif operator == '+':\n",
    "        result=0\n",
    "        for num in args:\n",
    "            result+=num\n",
    "        return result\n",
    "    else:\n",
    "        return \"wrong operator give ,please provide + or  *\"\n",
    "print(operate(1,2,3,4))\n",
    "print(operate(1,2,3,4,operator='+'))\n",
    "print(operate(1,2,3,4,operator='-'))\n",
    "    \n",
    "        \n"
   ]
  },
  {
   "cell_type": "markdown",
   "id": "7f9b7492",
   "metadata": {},
   "source": [
    "# anonymous functions in python "
   ]
  },
  {
   "cell_type": "markdown",
   "id": "45560eb5",
   "metadata": {},
   "source": [
    "anonymous functions also known as lamda functions "
   ]
  },
  {
   "cell_type": "code",
   "execution_count": 4,
   "id": "8b72f0e3",
   "metadata": {},
   "outputs": [
    {
     "name": "stdout",
     "output_type": "stream",
     "text": [
      "<function <lambda> at 0x000001F4D8034900>\n"
     ]
    }
   ],
   "source": [
    "f=lambda x:x*2 +10\n",
    "print(f)\n"
   ]
  },
  {
   "cell_type": "code",
   "execution_count": 5,
   "id": "9925428d",
   "metadata": {},
   "outputs": [
    {
     "name": "stdout",
     "output_type": "stream",
     "text": [
      "34\n",
      "20\n",
      "30\n"
     ]
    }
   ],
   "source": [
    "print(f(12))\n",
    "print(f(5))\n",
    "print(f(10))"
   ]
  },
  {
   "cell_type": "code",
   "execution_count": 6,
   "id": "d81749d2",
   "metadata": {},
   "outputs": [
    {
     "name": "stdout",
     "output_type": "stream",
     "text": [
      "14\n",
      "20\n",
      "24\n"
     ]
    }
   ],
   "source": [
    "print(f(2))\n",
    "print(f(5))\n",
    "print(f(7))\n"
   ]
  },
  {
   "cell_type": "markdown",
   "id": "e0f29fd1",
   "metadata": {},
   "source": [
    "# generators or lazy functions"
   ]
  },
  {
   "cell_type": "markdown",
   "id": "f02ee72b",
   "metadata": {},
   "source": [
    "special type of function that will not evaluate and return all values at once instead it wwill return one value at a time and only requested."
   ]
  },
  {
   "cell_type": "code",
   "execution_count": 7,
   "id": "cc02b149",
   "metadata": {},
   "outputs": [
    {
     "name": "stdout",
     "output_type": "stream",
     "text": [
      "1\n",
      "2\n",
      "3\n",
      "4\n",
      "5\n",
      "[1, 2, 3, 4, 5, 6, 7, 8, 9]\n"
     ]
    }
   ],
   "source": [
    "for i in range(1,6): print(i)\n",
    "print(list(range(1,10)))"
   ]
  },
  {
   "cell_type": "code",
   "execution_count": 9,
   "id": "c74a54e9",
   "metadata": {},
   "outputs": [
    {
     "name": "stdout",
     "output_type": "stream",
     "text": [
      "square 4\n",
      "[484, 1089, 3025]\n",
      "square 9\n",
      "[484, 1089, 3025]\n",
      "square 9\n",
      "[484, 1089, 3025]\n",
      "square 25\n",
      "[484, 1089, 3025]\n",
      "square 36\n",
      "[484, 1089, 3025]\n",
      "square 49\n",
      "[484, 1089, 3025]\n"
     ]
    }
   ],
   "source": [
    "def squared (data):\n",
    "    for i in data:\n",
    "        yield i**2\n",
    "\n",
    "for num in squared([2,3,3,5,6,7]):\n",
    "    print(\"square\",num)  \n",
    "\n",
    "    print(list(squared([22,33,55])))     "
   ]
  },
  {
   "cell_type": "code",
   "execution_count": null,
   "id": "d23e4083",
   "metadata": {},
   "outputs": [],
   "source": []
  }
 ],
 "metadata": {
  "kernelspec": {
   "display_name": "Python 3",
   "language": "python",
   "name": "python3"
  },
  "language_info": {
   "codemirror_mode": {
    "name": "ipython",
    "version": 3
   },
   "file_extension": ".py",
   "mimetype": "text/x-python",
   "name": "python",
   "nbconvert_exporter": "python",
   "pygments_lexer": "ipython3",
   "version": "3.13.6"
  }
 },
 "nbformat": 4,
 "nbformat_minor": 5
}
