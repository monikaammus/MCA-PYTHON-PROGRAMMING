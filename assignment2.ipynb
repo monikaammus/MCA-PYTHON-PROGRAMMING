{
 "cells": [
  {
   "cell_type": "code",
   "execution_count": 1,
   "id": "1887f59d",
   "metadata": {},
   "outputs": [
    {
     "name": "stdout",
     "output_type": "stream",
     "text": [
      "[]\n",
      "[[]]\n"
     ]
    }
   ],
   "source": [
    "#nested list- list within a list\n",
    "x=[]\n",
    "x2=[[]]\n",
    "\n",
    "print(x)\n",
    "print(x2)"
   ]
  },
  {
   "cell_type": "code",
   "execution_count": 2,
   "id": "a616f2e9",
   "metadata": {},
   "outputs": [
    {
     "name": "stdout",
     "output_type": "stream",
     "text": [
      "[1, 2, 3]\n"
     ]
    }
   ],
   "source": [
    "x.append(1)\n",
    "x.append(2)\n",
    "x.append(3)\n",
    "print(x)"
   ]
  },
  {
   "cell_type": "code",
   "execution_count": 3,
   "id": "a4c1c978",
   "metadata": {},
   "outputs": [
    {
     "name": "stdout",
     "output_type": "stream",
     "text": [
      "[[], 1, [1, 2, 3], [4, 5, 6]]\n"
     ]
    }
   ],
   "source": [
    "x2.append(1)\n",
    "x2.append([1,2,3])\n",
    "x2.append([4,5,6])\n",
    "print(x2)"
   ]
  },
  {
   "cell_type": "code",
   "execution_count": 5,
   "id": "04db48c4",
   "metadata": {},
   "outputs": [
    {
     "name": "stdout",
     "output_type": "stream",
     "text": [
      "[['red', 'green', 'blue'], ['apple', 'guava', 'blueberry'], [150, 100, 300]]\n",
      "size of list 3\n",
      "size of list at index 0 is 3 -> ['red', 'green', 'blue']\n",
      "size of list at index 1 is 3 -> ['apple', 'guava', 'blueberry']\n",
      "size of list at index 2 is 3 -> [150, 100, 300]\n",
      "element 0 as list 0 is red\n",
      "element 2 as list 0 is blue\n",
      "element 0 as list 1 is apple\n",
      "element 1 as list 1 is guava\n"
     ]
    }
   ],
   "source": [
    "items=[\n",
    "    [\"red\",\"green\",\"blue\"],\n",
    "    [\"apple\",\"guava\",\"blueberry\"],\n",
    "    [150,100,300]]\n",
    "print(items)\n",
    "print(\"size of list\",len(items))\n",
    "print(\"size of list at index 0 is\",len(items[0]),\"->\",items[0])\n",
    "print(\"size of list at index 1 is\",len(items[1]),\"->\",items[1])\n",
    "print(\"size of list at index 2 is\",len(items[2]),\"->\",items[2]) \n",
    "print(\"element 0 as list 0 is\",items[0][0])\n",
    "print(\"element 2 as list 0 is\",items[0][2])\n",
    "print(\"element 0 as list 1 is\",items[1][0])\n",
    "print(\"element 1 as list 1 is\",items[1][1])"
   ]
  },
  {
   "cell_type": "code",
   "execution_count": 19,
   "id": "f01c3193",
   "metadata": {},
   "outputs": [
    {
     "name": "stdout",
     "output_type": "stream",
     "text": [
      "11\n",
      "12\n",
      "13\n",
      "14\n",
      "15\n"
     ]
    }
   ],
   "source": [
    "matrix=[11,12,13,14,15]\n",
    "for row in matrix:\n",
    "   print(row)"
   ]
  },
  {
   "cell_type": "code",
   "execution_count": 33,
   "id": "9fc4aedc",
   "metadata": {},
   "outputs": [],
   "source": [
    "#nested loop for nested list\n",
    "\n",
    "val=[\"54\",\"45\",\"14\"]\n",
    "for row in matrix:\n",
    "    for val in row:\n",
    "        print(val,end=\" \")"
   ]
  },
  {
   "cell_type": "code",
   "execution_count": null,
   "id": "4716cab4",
   "metadata": {},
   "outputs": [],
   "source": [
    "val=[1,2,3,4,5,6,7,8]\n",
    "for row in matrix:\n",
    "    for val in row:\n",
    "        print(val,end=\" \")\n",
    "    print()  #change line after each row"
   ]
  },
  {
   "cell_type": "code",
   "execution_count": 41,
   "id": "3005df4a",
   "metadata": {},
   "outputs": [
    {
     "name": "stdout",
     "output_type": "stream",
     "text": [
      "23\n"
     ]
    }
   ],
   "source": [
    "total=23                #sum of matrix\n",
    "for row in matrix:\n",
    "    for val in row:\n",
    "        total+=val\n",
    "print(total)"
   ]
  },
  {
   "cell_type": "code",
   "execution_count": 39,
   "id": "9683d552",
   "metadata": {},
   "outputs": [
    {
     "name": "stdout",
     "output_type": "stream",
     "text": [
      "1\n"
     ]
    }
   ],
   "source": [
    "total=1                     #product of matrix\n",
    "for row in matrix:\n",
    "    for val in row:\n",
    "        total *=val\n",
    "print(total)"
   ]
  },
  {
   "cell_type": "code",
   "execution_count": 43,
   "id": "608c0882",
   "metadata": {},
   "outputs": [
    {
     "name": "stdout",
     "output_type": "stream",
     "text": [
      "['54', '45', '14'] => 23\n"
     ]
    }
   ],
   "source": [
    "for row in matrix:                        #sum of matrix row\n",
    "    total=0\n",
    "    for value in row:\n",
    "        total += value\n",
    "print(row,'=>',total)"
   ]
  },
  {
   "cell_type": "code",
   "execution_count": null,
   "id": "543f3ebe",
   "metadata": {},
   "outputs": [],
   "source": [
    "\n",
    "for row in matrix:                        #average\n",
    "    total=0\n",
    "    for value in row:\n",
    "        total += value\n",
    "    avg=round(total/len(row),1)\n",
    "    print(row,\"->\",avg)"
   ]
  },
  {
   "cell_type": "code",
   "execution_count": 48,
   "id": "c5dd113b",
   "metadata": {},
   "outputs": [],
   "source": [
    "for row in matrix:                        #average\n",
    "    total=0\n",
    "    for value in row:\n",
    "        total += value/len(row)\n",
    "    print(row,\"->\",avg)"
   ]
  },
  {
   "cell_type": "code",
   "execution_count": 64,
   "id": "e3b06249",
   "metadata": {},
   "outputs": [
    {
     "name": "stdout",
     "output_type": "stream",
     "text": [
      "column0=>0\n"
     ]
    }
   ],
   "source": [
    "#column wise sum of matrix\n",
    "size=len(matrix)\n",
    "for c in range(size):\n",
    "    total=0\n",
    "    for r in range(len(matrix)):\n",
    "     total += matrix[r][c]\n",
    "print(f\"column{c}=>{total}\")"
   ]
  },
  {
   "cell_type": "code",
   "execution_count": 63,
   "id": "153766e5",
   "metadata": {},
   "outputs": [],
   "source": [
    "matrix=[]\n",
    "size=len(matrix)\n",
    "for c in range(size):\n",
    "    total=0\n",
    "    for r in range(len(matrix)):\n",
    "        total += matrix[r][c]/len(matrix)\n",
    "    print(f\"column{c}=>{total}\")"
   ]
  }
 ],
 "metadata": {
  "kernelspec": {
   "display_name": "Python 3",
   "language": "python",
   "name": "python3"
  },
  "language_info": {
   "codemirror_mode": {
    "name": "ipython",
    "version": 3
   },
   "file_extension": ".py",
   "mimetype": "text/x-python",
   "name": "python",
   "nbconvert_exporter": "python",
   "pygments_lexer": "ipython3",
   "version": "3.13.6"
  }
 },
 "nbformat": 4,
 "nbformat_minor": 5
}
