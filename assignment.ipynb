{
 "cells": [
  {
   "cell_type": "markdown",
   "id": "7212a663",
   "metadata": {},
   "source": [
    "# SWAPPING VARIABLES"
   ]
  },
  {
   "cell_type": "code",
   "execution_count": 1,
   "id": "4d827766",
   "metadata": {},
   "outputs": [
    {
     "name": "stdout",
     "output_type": "stream",
     "text": [
      "\n",
      "Before swapping\n",
      "a= 5\n",
      "b= 10\n",
      "\n",
      "After swapping\n",
      "a= 10\n",
      "b= 5\n"
     ]
    }
   ],
   "source": [
    "a=int(input(\"enter the value:\"))\n",
    "b=int(input(\"enter the value:\"))\n",
    "print(\"\\nBefore swapping\")\n",
    "print(\"a=\",a)\n",
    "print(\"b=\",b)\n",
    "temp=a\n",
    "a=b\n",
    "b=temp\n",
    "print(\"\\nAfter swapping\")\n",
    "print(\"a=\",a)\n",
    "print(\"b=\",b)"
   ]
  },
  {
   "cell_type": "markdown",
   "id": "725b1785",
   "metadata": {},
   "source": [
    "# SIMPLE CALCULATOR"
   ]
  },
  {
   "cell_type": "code",
   "execution_count": 4,
   "id": "252e9a99",
   "metadata": {},
   "outputs": [
    {
     "name": "stdout",
     "output_type": "stream",
     "text": [
      "result: 51015\n"
     ]
    }
   ],
   "source": [
    "num1=input(\"enter the first value:\")\n",
    "operator=input(\"enter the operator(+,-,*,/):\")\n",
    "num2=input(\"enter the second value:\")\n",
    "\n",
    "result=eval(num1+operator+num2)\n",
    "print(\"result:\",result)"
   ]
  },
  {
   "cell_type": "markdown",
   "id": "0e64e853",
   "metadata": {},
   "source": [
    "# TYPE CONVERSION"
   ]
  },
  {
   "cell_type": "code",
   "execution_count": 6,
   "id": "ad88c823",
   "metadata": {},
   "outputs": [
    {
     "name": "stdout",
     "output_type": "stream",
     "text": [
      "Integer value: 5, Type: <class 'int'>\n",
      "Float value: 5.0, Type: <class 'float'>\n"
     ]
    }
   ],
   "source": [
    "num_str = input(\"Enter a number: \")\n",
    "num_int = int(num_str)\n",
    "num_float = float(num_str)\n",
    "print(f\"Integer value: {num_int}, Type: {type(num_int)}\")\n",
    "print(f\"Float value: {num_float}, Type: {type(num_float)}\")"
   ]
  },
  {
   "cell_type": "markdown",
   "id": "af00c43d",
   "metadata": {},
   "source": [
    "# QUADRATIC EQUATION"
   ]
  },
  {
   "cell_type": "code",
   "execution_count": 7,
   "id": "5ee46da2",
   "metadata": {},
   "outputs": [
    {
     "name": "stdout",
     "output_type": "stream",
     "text": [
      "Root 1 = (-0.7499999999999999+1.1989578808281798j)\n",
      "Root 2 = (-0.7500000000000001-1.1989578808281798j)\n"
     ]
    }
   ],
   "source": [
    "a=float(input(\"enter a:\"))\n",
    "b=float(input(\"Enter b: \"))\n",
    "c=float(input(\"Enter c: \"))\n",
    "D=b**2-4*a*c\n",
    "D=complex(D,0)\n",
    "sqrt_D=D**0.5\n",
    "root1=(-b + sqrt_D) / (2*a)\n",
    "root2=(-b - sqrt_D) / (2*a)\n",
    "print(\"Root 1 =\", root1)\n",
    "print(\"Root 2 =\", root2)"
   ]
  },
  {
   "cell_type": "markdown",
   "id": "a0548525",
   "metadata": {},
   "source": [
    "# Custom Data Type Formatter"
   ]
  },
  {
   "cell_type": "code",
   "execution_count": 8,
   "id": "861ab476",
   "metadata": {},
   "outputs": [
    {
     "name": "stdout",
     "output_type": "stream",
     "text": [
      "Name:monika,age:20years,height:5.0cm\n"
     ]
    }
   ],
   "source": [
    "name=str(input(\"enter the name:\"))\n",
    "age=int(input(\"enter the age:\"))\n",
    "height=float(input(\"enter the value:\"))\n",
    "print(f\"Name:{name},age:{age}years,height:{height}cm\")"
   ]
  },
  {
   "cell_type": "markdown",
   "id": "37a7bbb5",
   "metadata": {},
   "source": [
    "# Complex Expression Evaluator"
   ]
  },
  {
   "cell_type": "code",
   "execution_count": 9,
   "id": "1a4070c3",
   "metadata": {},
   "outputs": [
    {
     "name": "stdout",
     "output_type": "stream",
     "text": [
      "Result = -100.0\n"
     ]
    }
   ],
   "source": [
    "num1 = float(input(\"Enter first number: \"))\n",
    "num2 = float(input(\"Enter second number: \"))\n",
    "num3 = float(input(\"Enter third number: \"))\n",
    "result = ((num1 + num2) * num3) / (num1 - num2)\n",
    "print(\"Result =\", round(result, 2))"
   ]
  },
  {
   "cell_type": "markdown",
   "id": "6cd32d9a",
   "metadata": {},
   "source": [
    "# Sum of Two Numbers"
   ]
  },
  {
   "cell_type": "code",
   "execution_count": 10,
   "id": "7d67cedb",
   "metadata": {},
   "outputs": [
    {
     "name": "stdout",
     "output_type": "stream",
     "text": [
      "the sum of num1 and num2 is: 11\n"
     ]
    }
   ],
   "source": [
    "num1=int(input(\"enter first number:\"))\n",
    "num2=int(input(\"enter second number\"))\n",
    "sum=num1+num2\n",
    "print(\"the sum of num1 and num2 is:\",sum)"
   ]
  },
  {
   "cell_type": "markdown",
   "id": "aa86e72e",
   "metadata": {},
   "source": [
    "# Uppercase String"
   ]
  },
  {
   "cell_type": "code",
   "execution_count": 11,
   "id": "2c2d5ba0",
   "metadata": {},
   "outputs": [
    {
     "name": "stdout",
     "output_type": "stream",
     "text": [
      "uppercase name is MONIKA\n"
     ]
    }
   ],
   "source": [
    "name=str(input(\"enter the name\"))\n",
    "uppercase=name.upper()\n",
    "print(\"uppercase name is\",uppercase)"
   ]
  },
  {
   "cell_type": "markdown",
   "id": "cafdb056",
   "metadata": {},
   "source": [
    "# Square of a Number"
   ]
  },
  {
   "cell_type": "code",
   "execution_count": 13,
   "id": "f70d9487",
   "metadata": {},
   "outputs": [
    {
     "name": "stdout",
     "output_type": "stream",
     "text": [
      "square of 95 is 9025\n"
     ]
    }
   ],
   "source": [
    "num=int(input(\"enter the number\"))\n",
    "squrt=num**2\n",
    "print(\"square of\",num,\"is\",squrt)"
   ]
  },
  {
   "cell_type": "markdown",
   "id": "7f46665b",
   "metadata": {},
   "source": [
    "# String Concatenation"
   ]
  },
  {
   "cell_type": "code",
   "execution_count": 16,
   "id": "5fc8d8b6",
   "metadata": {},
   "outputs": [
    {
     "name": "stdout",
     "output_type": "stream",
     "text": [
      "string1: heartly\n",
      "string2: welcome\n",
      "concatenation: heartlywelcome\n"
     ]
    }
   ],
   "source": [
    "a=str(input(\"enter the string:\"))\n",
    "b=str(input(\"enter the string:\"))\n",
    "c=a+b\n",
    "print(\"string1:\",a)\n",
    "print(\"string2:\",b)\n",
    "print(\"concatenation:\",c)"
   ]
  },
  {
   "cell_type": "markdown",
   "id": "5651c988",
   "metadata": {},
   "source": [
    "# Float to Integer Conversion"
   ]
  },
  {
   "cell_type": "code",
   "execution_count": 18,
   "id": "bbf7abb5",
   "metadata": {},
   "outputs": [
    {
     "name": "stdout",
     "output_type": "stream",
     "text": [
      "integer equivalent of 16.0 is 16\n"
     ]
    }
   ],
   "source": [
    "float_num=float(input(\"enter the number:\"))\n",
    "int_num=int(float_num)\n",
    "print(\"integer equivalent of\",float_num,\"is\",int_num)"
   ]
  },
  {
   "cell_type": "markdown",
   "id": "fa50927b",
   "metadata": {},
   "source": [
    "# Age Display"
   ]
  },
  {
   "cell_type": "code",
   "execution_count": 19,
   "id": "c6c52d4f",
   "metadata": {},
   "outputs": [
    {
     "name": "stdout",
     "output_type": "stream",
     "text": [
      "you are 20 years old\n"
     ]
    }
   ],
   "source": [
    "age=int(input(\"enter the age\"))\n",
    "print(f\"you are {age} years old\")"
   ]
  },
  {
   "cell_type": "markdown",
   "id": "6863b7d2",
   "metadata": {},
   "source": [
    "# Product of Two Numbers"
   ]
  },
  {
   "cell_type": "code",
   "execution_count": 20,
   "id": "aa7a3fbf",
   "metadata": {},
   "outputs": [
    {
     "name": "stdout",
     "output_type": "stream",
     "text": [
      "product of 4 and 9 is 36\n"
     ]
    }
   ],
   "source": [
    "num1=int(input(\"enter the first number:\"))\n",
    "num2=int(input(\"enter the second number:\"))\n",
    "product=num1*num2\n",
    "print(f\"product of {num1} and {num2} is {product}\")"
   ]
  },
  {
   "cell_type": "markdown",
   "id": "7e9a55d9",
   "metadata": {},
   "source": [
    "# String Length"
   ]
  },
  {
   "cell_type": "code",
   "execution_count": 21,
   "id": "a0db058b",
   "metadata": {},
   "outputs": [
    {
     "name": "stdout",
     "output_type": "stream",
     "text": [
      "sentence: I AM A GOOD GIRL\n",
      "length of the given sentence is 16\n"
     ]
    }
   ],
   "source": [
    "sentence=str(input(\"enter the sentence\"))\n",
    "length=len(sentence)\n",
    "print(\"sentence:\",sentence)\n",
    "print(f\"length of the given sentence is {length}\")"
   ]
  },
  {
   "cell_type": "markdown",
   "id": "c770ab11",
   "metadata": {},
   "source": [
    "#  Average of Three Numbers"
   ]
  },
  {
   "cell_type": "code",
   "execution_count": 22,
   "id": "6a6fc5d4",
   "metadata": {},
   "outputs": [
    {
     "name": "stdout",
     "output_type": "stream",
     "text": [
      "The average is: 66.66666666666667\n"
     ]
    }
   ],
   "source": [
    "num1 = int(input(\"Enter first number: \"))\n",
    "num2 = int(input(\"Enter second number: \"))\n",
    "num3 = int(input(\"Enter third number: \"))\n",
    "average = num1+num2+num3/3\n",
    "print(\"The average is:\", average)"
   ]
  },
  {
   "cell_type": "markdown",
   "id": "c4298948",
   "metadata": {},
   "source": [
    "# Absolute Value"
   ]
  },
  {
   "cell_type": "code",
   "execution_count": 25,
   "id": "cf23a492",
   "metadata": {},
   "outputs": [
    {
     "name": "stdout",
     "output_type": "stream",
     "text": [
      "the absolute value of 5 is 5\n"
     ]
    }
   ],
   "source": [
    "num=int(input(\"enter the value:\"))\n",
    "absolute_value=abs(num)\n",
    "print(\"the absolute value of\",num,\"is\",absolute_value)"
   ]
  },
  {
   "cell_type": "markdown",
   "id": "9c7d9d39",
   "metadata": {},
   "source": [
    "# Difference of Two Numbers"
   ]
  },
  {
   "cell_type": "code",
   "execution_count": 26,
   "id": "0aca771e",
   "metadata": {},
   "outputs": [
    {
     "name": "stdout",
     "output_type": "stream",
     "text": [
      "the difference between 30 and 40 is -10\n"
     ]
    }
   ],
   "source": [
    "num1=int(input(\"enter the first value:\"))\n",
    "num2=int(input(\"enter the second value:\"))\n",
    "difference=num1-num2\n",
    "print(\"the difference between\",num1, \"and\",num2,\"is\",difference)"
   ]
  },
  {
   "cell_type": "markdown",
   "id": "7a9e98e1",
   "metadata": {},
   "source": [
    "# String Reversal"
   ]
  },
  {
   "cell_type": "code",
   "execution_count": 28,
   "id": "2d7d02b4",
   "metadata": {},
   "outputs": [
    {
     "name": "stdout",
     "output_type": "stream",
     "text": [
      "SHE IS LOOKING GORGEOUS\n",
      "Reversed string: SUOEGROG GNIKOOL SI EHS\n"
     ]
    }
   ],
   "source": [
    "text=str(input(\"Enter a string:\"))\n",
    "reversed_text= text[::-1]\n",
    "print(text)\n",
    "print(\"Reversed string:\", reversed_text)"
   ]
  },
  {
   "cell_type": "markdown",
   "id": "4a5a0ae5",
   "metadata": {},
   "source": [
    "#  Height Conversion"
   ]
  },
  {
   "cell_type": "code",
   "execution_count": 29,
   "id": "aecc7d46",
   "metadata": {},
   "outputs": [
    {
     "name": "stdout",
     "output_type": "stream",
     "text": [
      "height in cm : 5.0\n",
      "height in meters : 0.05\n"
     ]
    }
   ],
   "source": [
    "height=float(input(\"enter the height:\"))\n",
    "converted_height=height/100\n",
    "print(\"height in cm :\",height)\n",
    "print(\"height in meters :\",converted_height)"
   ]
  },
  {
   "cell_type": "markdown",
   "id": "0890759b",
   "metadata": {},
   "source": [
    "# Quotient of Two Numbers"
   ]
  },
  {
   "cell_type": "code",
   "execution_count": 30,
   "id": "8b3cb695",
   "metadata": {},
   "outputs": [
    {
     "name": "stdout",
     "output_type": "stream",
     "text": [
      "quotient of 56 and 67 is 0.835820895522388\n"
     ]
    }
   ],
   "source": [
    "num1=int(input(\"enter the first value:\"))\n",
    "num2=int(input(\"enter the second value:\"))\n",
    "quotient=num1/num2\n",
    "print(\"quotient of\",num1,\"and\",num2,\"is\",quotient)"
   ]
  },
  {
   "cell_type": "markdown",
   "id": "a5c5548d",
   "metadata": {},
   "source": [
    "# Quoted Name"
   ]
  },
  {
   "cell_type": "code",
   "execution_count": 32,
   "id": "c08fb627",
   "metadata": {},
   "outputs": [
    {
     "name": "stdout",
     "output_type": "stream",
     "text": [
      "\"name\"\n"
     ]
    }
   ],
   "source": [
    "name=str(input(\"enter the name\"))\n",
    "print(f'\"name\"')"
   ]
  },
  {
   "cell_type": "markdown",
   "id": "41c9f1a6",
   "metadata": {},
   "source": [
    "# Formatted Number"
   ]
  },
  {
   "cell_type": "code",
   "execution_count": 34,
   "id": "3d11ac31",
   "metadata": {},
   "outputs": [
    {
     "name": "stdout",
     "output_type": "stream",
     "text": [
      "result of 10.0 after rounding off to 2 decimal points is 10.0\n"
     ]
    }
   ],
   "source": [
    "number=float(input(\"enter the value:\"))\n",
    "result=round(number,2)\n",
    "print(\"result of\",number,\"after rounding off to 2 decimal points is\",result)"
   ]
  },
  {
   "cell_type": "markdown",
   "id": "733e1124",
   "metadata": {},
   "source": [
    "# String Separation"
   ]
  },
  {
   "cell_type": "code",
   "execution_count": 38,
   "id": "4fe59905",
   "metadata": {},
   "outputs": [
    {
     "name": "stdout",
     "output_type": "stream",
     "text": [
      "FANTASTIC  MORNING\n"
     ]
    }
   ],
   "source": [
    "str1=str(input(\"enter the string:\"))\n",
    "str2=str(input(\"enter the string:\"))\n",
    "print(f\"{str1} {str2}\")"
   ]
  },
  {
   "cell_type": "markdown",
   "id": "a851bec2",
   "metadata": {},
   "source": [
    "# Type of Input\n"
   ]
  },
  {
   "cell_type": "code",
   "execution_count": 41,
   "id": "67994c05",
   "metadata": {},
   "outputs": [
    {
     "name": "stdout",
     "output_type": "stream",
     "text": [
      "9\n",
      "type: <class 'int'>\n"
     ]
    }
   ],
   "source": [
    "value=int(input(\"enter the value\"))\n",
    "result=type(value)\n",
    "print(value)\n",
    "print(\"type:\",result)"
   ]
  },
  {
   "cell_type": "markdown",
   "id": "79fcc38d",
   "metadata": {},
   "source": [
    "# Sum and Product"
   ]
  },
  {
   "cell_type": "code",
   "execution_count": 42,
   "id": "234456b5",
   "metadata": {},
   "outputs": [
    {
     "name": "stdout",
     "output_type": "stream",
     "text": [
      "sum of numbers is 135\n",
      "product of numbers is 85680\n"
     ]
    }
   ],
   "source": [
    "num1=int(input(\"enter the first value:\"))\n",
    "num2=int(input(\"enter the second value:\"))\n",
    "num3=int(input(\"enter the third value:\"))\n",
    "sum=num1+num2+num3\n",
    "product=num1*num2*num3\n",
    "print(f\"sum of numbers is {sum}\")\n",
    "print(f\"product of numbers is {product}\")"
   ]
  }
 ],
 "metadata": {
  "kernelspec": {
   "display_name": "Python 3",
   "language": "python",
   "name": "python3"
  },
  "language_info": {
   "codemirror_mode": {
    "name": "ipython",
    "version": 3
   },
   "file_extension": ".py",
   "mimetype": "text/x-python",
   "name": "python",
   "nbconvert_exporter": "python",
   "pygments_lexer": "ipython3",
   "version": "3.13.6"
  }
 },
 "nbformat": 4,
 "nbformat_minor": 5
}
