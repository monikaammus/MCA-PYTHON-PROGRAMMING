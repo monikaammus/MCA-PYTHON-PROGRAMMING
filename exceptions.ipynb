{
 "cells": [
  {
   "cell_type": "markdown",
   "id": "5ca3b2cd",
   "metadata": {},
   "source": [
    "# exceptions in python"
   ]
  },
  {
   "cell_type": "code",
   "execution_count": 2,
   "id": "1420ffc2",
   "metadata": {},
   "outputs": [
    {
     "name": "stdout",
     "output_type": "stream",
     "text": [
      "5\n"
     ]
    }
   ],
   "source": [
    "a= int(input(\"enter num->\"))\n",
    "print(a)"
   ]
  },
  {
   "cell_type": "markdown",
   "id": "9413d6df",
   "metadata": {},
   "source": [
    "instance/variable/object       class constructor\n",
    "       /                 /\n",
    "triangle    = polygon()   ->object creation\n",
    "triangle.side=3      ->attribute setting"
   ]
  },
  {
   "cell_type": "code",
   "execution_count": null,
   "id": "f3b48ceb",
   "metadata": {},
   "outputs": [
    {
     "name": "stdout",
     "output_type": "stream",
     "text": [
      "<class '__main__.Polygon'>\n",
      "<__main__.Polygon object at 0x0000013258DF17F0>\n"
     ]
    }
   ],
   "source": [
    "class Polygon:\n",
    "    side=0\n",
    "triangle=Polygon() \n",
    "triangle.side=3 \n",
    "print(Polygon)\n",
    "print(triangle)\n"
   ]
  },
  {
   "cell_type": "code",
   "execution_count": 4,
   "id": "a9c0d2f5",
   "metadata": {},
   "outputs": [
    {
     "name": "stdout",
     "output_type": "stream",
     "text": [
      "0\n",
      "3\n"
     ]
    }
   ],
   "source": [
    "print(Polygon.side)\n",
    "print(triangle.side)"
   ]
  },
  {
   "cell_type": "code",
   "execution_count": 1,
   "id": "ca0b7fc0",
   "metadata": {},
   "outputs": [],
   "source": [
    "# no constructor\n",
    "\n",
    "class Area:\n",
    "    len=0\n",
    "    bth=0\n",
    "    def calc(self):\n",
    "        ans=len*bth\n",
    "        return"
   ]
  }
 ],
 "metadata": {
  "kernelspec": {
   "display_name": "Python 3",
   "language": "python",
   "name": "python3"
  },
  "language_info": {
   "codemirror_mode": {
    "name": "ipython",
    "version": 3
   },
   "file_extension": ".py",
   "mimetype": "text/x-python",
   "name": "python",
   "nbconvert_exporter": "python",
   "pygments_lexer": "ipython3",
   "version": "3.13.6"
  }
 },
 "nbformat": 4,
 "nbformat_minor": 5
}
