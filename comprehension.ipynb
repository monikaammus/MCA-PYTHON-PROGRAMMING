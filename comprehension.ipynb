{
 "cells": [
  {
   "cell_type": "markdown",
   "id": "d0e48e49",
   "metadata": {},
   "source": [
    "1.write a program to create  new list and store the length as each movie:\n",
    "\n",
    "mapping filtering:"
   ]
  },
  {
   "cell_type": "code",
   "execution_count": 3,
   "id": "b2d26a0a",
   "metadata": {},
   "outputs": [
    {
     "name": "stdout",
     "output_type": "stream",
     "text": [
      "['puspha', 'lovely', 'sir madam', 'nota', 'uyala jampala', 'remo', 'journey', 'amaran', 'orange', 'happy days', 'kerinta', 'husharu', 'geeta govindam', 'pelli choopulu', 'anandam']\n",
      "[6, 6, 9, 4, 13, 4, 7, 6, 6, 10, 7, 7, 14, 14, 7]\n"
     ]
    }
   ],
   "source": [
    "movies=['puspha','lovely','sir madam','nota','uyala jampala','remo','journey','amaran',\n",
    "        'orange','happy days','kerinta','husharu','geeta govindam','pelli choopulu','anandam']\n",
    "\n",
    "movielen=[]\n",
    "for movie in movies :\n",
    "    size=len(movie)\n",
    "    movielen.append(size)\n",
    "print(movies)\n",
    "print(movielen)    "
   ]
  },
  {
   "cell_type": "code",
   "execution_count": 6,
   "id": "8310db9d",
   "metadata": {},
   "outputs": [
    {
     "name": "stdout",
     "output_type": "stream",
     "text": [
      "['puspha', 'lovely', 'sir madam', 'nota', 'uyala jampala', 'remo', 'journey', 'amaran', 'orange', 'happy days', 'kerinta', 'husharu', 'geeta govindam', 'pelli choopulu', 'anandam']\n",
      "[6, 6, 9, 4, 13, 4, 7, 6, 6, 10, 7, 7, 14, 14, 7]\n"
     ]
    }
   ],
   "source": [
    "movielen=[len(movie) for movie in movies]\n",
    "print(movies)\n",
    "print(movielen)"
   ]
  },
  {
   "cell_type": "code",
   "execution_count": 4,
   "id": "e3e3a7c6",
   "metadata": {},
   "outputs": [
    {
     "name": "stdout",
     "output_type": "stream",
     "text": [
      "['puspha', 'lovely', 'sir madam', 'nota', 'uyala jampala', 'remo', 'journey', 'amaran', 'orange', 'happy days', 'kerinta', 'husharu', 'geeta govindam', 'pelli choopulu', 'anandam']\n",
      "['PUSPHA', 'LOVELY', 'SIR MADAM', 'NOTA', 'UYALA JAMPALA', 'REMO', 'JOURNEY', 'AMARAN', 'ORANGE', 'HAPPY DAYS', 'KERINTA', 'HUSHARU', 'GEETA GOVINDAM', 'PELLI CHOOPULU', 'ANANDAM']\n"
     ]
    }
   ],
   "source": [
    "movies=['puspha','lovely','sir madam','nota','uyala jampala','remo','journey','amaran',\n",
    "        'orange','happy days','kerinta','husharu','geeta govindam','pelli choopulu','anandam']\n",
    "\n",
    "movies_caps=[]\n",
    "for movie in movies:\n",
    "    name=movie.upper()\n",
    "    movies_caps.append(name)\n",
    "print(movies)\n",
    "print(movies_caps)    "
   ]
  },
  {
   "cell_type": "code",
   "execution_count": 5,
   "id": "8e31947c",
   "metadata": {},
   "outputs": [
    {
     "name": "stdout",
     "output_type": "stream",
     "text": [
      "['puspha', 'lovely', 'sir madam', 'nota', 'uyala jampala', 'remo', 'journey', 'amaran', 'orange', 'happy days', 'kerinta', 'husharu', 'geeta govindam', 'pelli choopulu', 'anandam']\n",
      "['PUSPHA', 'LOVELY', 'SIR MADAM', 'NOTA', 'UYALA JAMPALA', 'REMO', 'JOURNEY', 'AMARAN', 'ORANGE', 'HAPPY DAYS', 'KERINTA', 'HUSHARU', 'GEETA GOVINDAM', 'PELLI CHOOPULU', 'ANANDAM']\n"
     ]
    }
   ],
   "source": [
    "movies_caps=[movie.upper() for movie in movies]\n",
    "print(movies)\n",
    "print(movies_caps)"
   ]
  },
  {
   "cell_type": "code",
   "execution_count": 6,
   "id": "b56b5896",
   "metadata": {},
   "outputs": [
    {
     "name": "stdout",
     "output_type": "stream",
     "text": [
      "['puspha', 'lovely', 'sir madam', 'nota', 'uyala jampala', 'remo', 'journey', 'amaran', 'orange', 'happy days', 'kerinta', 'husharu', 'geeta govindam', 'pelli choopulu', 'anandam']\n",
      "['lovely', 'nota', 'remo', 'journey', 'orange', 'geeta govindam', 'pelli choopulu']\n"
     ]
    }
   ],
   "source": [
    "movies_with_o=[]\n",
    "for item in movies:\n",
    "    if 'o' in item or 'o'in item:\n",
    "        movies_with_o.append(item)\n",
    "print(movies)\n",
    "print(movies_with_o)        "
   ]
  },
  {
   "cell_type": "code",
   "execution_count": 7,
   "id": "bea5a6f1",
   "metadata": {},
   "outputs": [],
   "source": [
    "movies_with_e=[nm for nm in movies if 'o' in nm or 'o'in nm]"
   ]
  },
  {
   "cell_type": "code",
   "execution_count": null,
   "id": "a7493684",
   "metadata": {},
   "outputs": [],
   "source": []
  }
 ],
 "metadata": {
  "kernelspec": {
   "display_name": "Python 3",
   "language": "python",
   "name": "python3"
  },
  "language_info": {
   "codemirror_mode": {
    "name": "ipython",
    "version": 3
   },
   "file_extension": ".py",
   "mimetype": "text/x-python",
   "name": "python",
   "nbconvert_exporter": "python",
   "pygments_lexer": "ipython3",
   "version": "3.13.6"
  }
 },
 "nbformat": 4,
 "nbformat_minor": 5
}
