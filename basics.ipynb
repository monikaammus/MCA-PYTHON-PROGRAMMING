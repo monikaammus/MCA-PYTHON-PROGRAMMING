{
 "cells": [
  {
   "cell_type": "code",
   "execution_count": null,
   "id": "04c84784",
   "metadata": {},
   "outputs": [
    {
     "ename": "",
     "evalue": "",
     "output_type": "error",
     "traceback": [
      "\u001b[1;31mRunning cells with 'Python 3.13.6' requires the ipykernel package.\n",
      "\u001b[1;31m<a href='command:jupyter.createPythonEnvAndSelectController'>Create a Python Environment</a> with the required packages.\n",
      "\u001b[1;31mOr install 'ipykernel' using the command: 'c:/Users/monik/AppData/Local/Programs/Python/Python313/python.exe -m pip install ipykernel -U --user --force-reinstall'"
     ]
    }
   ],
   "source": [
    "2+2"
   ]
  },
  {
   "cell_type": "code",
   "execution_count": 1,
   "id": "c9e69269",
   "metadata": {},
   "outputs": [
    {
     "data": {
      "text/plain": [
       "4"
      ]
     },
     "execution_count": 1,
     "metadata": {},
     "output_type": "execute_result"
    }
   ],
   "source": [
    "2+2"
   ]
  },
  {
   "cell_type": "code",
   "execution_count": 2,
   "id": "8553f2d4",
   "metadata": {},
   "outputs": [
    {
     "data": {
      "text/plain": [
       "465"
      ]
     },
     "execution_count": 2,
     "metadata": {},
     "output_type": "execute_result"
    }
   ],
   "source": [
    "15*31"
   ]
  },
  {
   "cell_type": "markdown",
   "id": "9eafcbfb",
   "metadata": {},
   "source": [
    "I AM IN A MBUNIVERSITY."
   ]
  },
  {
   "cell_type": "markdown",
   "id": "28c47d53",
   "metadata": {},
   "source": [
    "NAME = \"MONIKA\""
   ]
  },
  {
   "cell_type": "markdown",
   "id": "c4dec844",
   "metadata": {},
   "source": []
  },
  {
   "cell_type": "markdown",
   "id": "f219fd4c",
   "metadata": {},
   "source": []
  },
  {
   "cell_type": "markdown",
   "id": "7a04725f",
   "metadata": {},
   "source": [
    "name=\"monika\""
   ]
  },
  {
   "cell_type": "markdown",
   "id": "f193e915",
   "metadata": {},
   "source": []
  },
  {
   "cell_type": "code",
   "execution_count": 3,
   "id": "0056f385",
   "metadata": {},
   "outputs": [],
   "source": [
    "name =\"monika\"\n",
    "city =\"chittoor\"\n",
    "age =\"20\"\n",
    "address =\"palluru vil and post,gudipala mandal,chittoor district\""
   ]
  },
  {
   "cell_type": "markdown",
   "id": "2cb030f3",
   "metadata": {},
   "source": []
  },
  {
   "cell_type": "markdown",
   "id": "0eba5fcf",
   "metadata": {},
   "source": [
    "Python has 10 datatypes \n",
    "-int (integer) -> for whole numbers\n",
    "-float -> for real/scientific numbers\n",
    "-bool (boolean) ->for True/false values\n",
    "-none (nonetype) ->for specifying no values\n",
    "-str (string) -> for textual values\n",
    "-list -> for storing arrays and sequences\n",
    "-tuple -> for unchangable arrays and sequences \n",
    "-set ->for unique sequences\n",
    "-dict ->for storing key value data\n",
    "-complex ->for complex numbers\n"
   ]
  },
  {
   "cell_type": "markdown",
   "id": "39a6a819",
   "metadata": {},
   "source": []
  },
  {
   "cell_type": "code",
   "execution_count": 1,
   "id": "b0ca6bac",
   "metadata": {},
   "outputs": [],
   "source": [
    "x=5                                     #int\n",
    "y=8.5                                   #float\n",
    "z=10j                                   #complex\n",
    "is_working = False                      #bool\n",
    "is_empty = None                         #Nonetype\n",
    "univ = \"mohan babu university\"          #str\n",
    "colors =['red','black']                 #list\n",
    "points = (1,4,5,9)                      #tuple\n",
    "names = {\"monika\",\"manisha\",\"sandhya\"}  #set\n",
    "info = {\n",
    "    \"NAME\":\"MONIKA\",\n",
    "    \"DESIGNATION\":\"STUDENT\",             #dictionary\n",
    "    \"DEPT\":\"MCA\"\n",
    "}"
   ]
  },
  {
   "cell_type": "markdown",
   "id": "a9a443ef",
   "metadata": {},
   "source": [
    "# Two types of variables \n",
    "1.Directly initialized x=10\n",
    "2.dynamically calculated z=x*10"
   ]
  },
  {
   "cell_type": "code",
   "execution_count": 1,
   "id": "738241c0",
   "metadata": {},
   "outputs": [],
   "source": [
    "r=8  #cm\n",
    "pi=3.14\n",
    "circumference =2*pi*r"
   ]
  },
  {
   "cell_type": "code",
   "execution_count": 2,
   "id": "60d9ba23",
   "metadata": {},
   "outputs": [
    {
     "data": {
      "text/plain": [
       "50.24"
      ]
     },
     "execution_count": 2,
     "metadata": {},
     "output_type": "execute_result"
    }
   ],
   "source": [
    "circumference"
   ]
  },
  {
   "cell_type": "code",
   "execution_count": null,
   "id": "2aa57a93",
   "metadata": {},
   "outputs": [],
   "source": [
    "# operators\n",
    "-Assignment operator\n",
    "-Arithmetic operator\n",
    "-Comparision operator\n",
    "-Logical operator\n",
    "-Bitwise operator\n",
    "-Membership operator\n"
   ]
  },
  {
   "cell_type": "code",
   "execution_count": 4,
   "id": "94f47b2a",
   "metadata": {},
   "outputs": [
    {
     "data": {
      "text/plain": [
       "2500.0"
      ]
     },
     "execution_count": 4,
     "metadata": {},
     "output_type": "execute_result"
    }
   ],
   "source": [
    "x=1000 # assignment\n",
    "x-=500\n",
    "x*=10\n",
    "x/=2\n",
    "x"
   ]
  },
  {
   "cell_type": "code",
   "execution_count": 5,
   "id": "c2873321",
   "metadata": {},
   "outputs": [],
   "source": [
    "z=5"
   ]
  },
  {
   "cell_type": "markdown",
   "id": "0239083e",
   "metadata": {},
   "source": [
    "# arithmetic operator\n",
    "+ addition\n",
    "- subtraction\n",
    "* multiplication\n",
    "/ division\n",
    "// int division\n",
    "** exp\n",
    "% mod\n"
   ]
  },
  {
   "cell_type": "code",
   "execution_count": 1,
   "id": "02c333f3",
   "metadata": {},
   "outputs": [
    {
     "data": {
      "text/plain": [
       "15"
      ]
     },
     "execution_count": 1,
     "metadata": {},
     "output_type": "execute_result"
    }
   ],
   "source": [
    "a = 10\n",
    "b = 5\n",
    "a+b"
   ]
  },
  {
   "cell_type": "code",
   "execution_count": 2,
   "id": "26430ef9",
   "metadata": {},
   "outputs": [
    {
     "data": {
      "text/plain": [
       "0"
      ]
     },
     "execution_count": 2,
     "metadata": {},
     "output_type": "execute_result"
    }
   ],
   "source": [
    "a-b\n",
    "a*b\n",
    "a/b\n",
    "a//b\n",
    "a%b"
   ]
  },
  {
   "cell_type": "code",
   "execution_count": 3,
   "id": "513783e0",
   "metadata": {},
   "outputs": [
    {
     "data": {
      "text/plain": [
       "5"
      ]
     },
     "execution_count": 3,
     "metadata": {},
     "output_type": "execute_result"
    }
   ],
   "source": [
    "a-b"
   ]
  },
  {
   "cell_type": "code",
   "execution_count": 4,
   "id": "41455503",
   "metadata": {},
   "outputs": [
    {
     "data": {
      "text/plain": [
       "50"
      ]
     },
     "execution_count": 4,
     "metadata": {},
     "output_type": "execute_result"
    }
   ],
   "source": [
    "a*b"
   ]
  },
  {
   "cell_type": "code",
   "execution_count": 5,
   "id": "bc02d08b",
   "metadata": {},
   "outputs": [
    {
     "data": {
      "text/plain": [
       "2.0"
      ]
     },
     "execution_count": 5,
     "metadata": {},
     "output_type": "execute_result"
    }
   ],
   "source": [
    "a/b"
   ]
  },
  {
   "cell_type": "code",
   "execution_count": 6,
   "id": "8eea086d",
   "metadata": {},
   "outputs": [
    {
     "data": {
      "text/plain": [
       "2"
      ]
     },
     "execution_count": 6,
     "metadata": {},
     "output_type": "execute_result"
    }
   ],
   "source": [
    "a//b"
   ]
  },
  {
   "cell_type": "code",
   "execution_count": 7,
   "id": "d38d79ff",
   "metadata": {},
   "outputs": [
    {
     "data": {
      "text/plain": [
       "0"
      ]
     },
     "execution_count": 7,
     "metadata": {},
     "output_type": "execute_result"
    }
   ],
   "source": [
    "a%b"
   ]
  },
  {
   "cell_type": "code",
   "execution_count": 8,
   "id": "c746db2a",
   "metadata": {},
   "outputs": [
    {
     "data": {
      "text/plain": [
       "100000"
      ]
     },
     "execution_count": 8,
     "metadata": {},
     "output_type": "execute_result"
    }
   ],
   "source": [
    "a**b"
   ]
  },
  {
   "cell_type": "markdown",
   "id": "092e955c",
   "metadata": {},
   "source": [
    "# operator precedence\n",
    "() \n",
    "**,*,/,//\n",
    "+,-\n",
    "="
   ]
  },
  {
   "cell_type": "code",
   "execution_count": 9,
   "id": "88bf4c75",
   "metadata": {},
   "outputs": [
    {
     "data": {
      "text/plain": [
       "27.0"
      ]
     },
     "execution_count": 9,
     "metadata": {},
     "output_type": "execute_result"
    }
   ],
   "source": [
    "2+10/2*5"
   ]
  },
  {
   "cell_type": "code",
   "execution_count": 10,
   "id": "509fb575",
   "metadata": {},
   "outputs": [],
   "source": [
    "x = (a+b) ** 2"
   ]
  },
  {
   "cell_type": "code",
   "execution_count": 11,
   "id": "b4b11558",
   "metadata": {},
   "outputs": [
    {
     "data": {
      "text/plain": [
       "6.4031242374328485"
      ]
     },
     "execution_count": 11,
     "metadata": {},
     "output_type": "execute_result"
    }
   ],
   "source": [
    "per =5\n",
    "base =4\n",
    "(5**2 +4**2)** .5"
   ]
  },
  {
   "cell_type": "code",
   "execution_count": 12,
   "id": "a2fd48d0",
   "metadata": {},
   "outputs": [
    {
     "data": {
      "text/plain": [
       "5.0"
      ]
     },
     "execution_count": 12,
     "metadata": {},
     "output_type": "execute_result"
    }
   ],
   "source": [
    "per =3\n",
    "base =4\n",
    "hyp = (per**2 + base**2)**.5  # math.sqrt(per**2 + base**2)will also work\n",
    "hyp"
   ]
  },
  {
   "cell_type": "code",
   "execution_count": 19,
   "id": "0a140775",
   "metadata": {},
   "outputs": [
    {
     "data": {
      "text/plain": [
       "48"
      ]
     },
     "execution_count": 19,
     "metadata": {},
     "output_type": "execute_result"
    }
   ],
   "source": [
    "x=10\n",
    "3*x + 2*(x-1)"
   ]
  },
  {
   "cell_type": "code",
   "execution_count": 18,
   "id": "a1dadb90",
   "metadata": {},
   "outputs": [
    {
     "data": {
      "text/plain": [
       "3.875"
      ]
     },
     "execution_count": 18,
     "metadata": {},
     "output_type": "execute_result"
    }
   ],
   "source": [
    "x=2+4+5+6+1+2+5+6\n",
    "y=8\n",
    "x/y\n"
   ]
  },
  {
   "cell_type": "code",
   "execution_count": 2,
   "id": "368880ca",
   "metadata": {},
   "outputs": [],
   "source": [
    "#comparision operator :<,<=,>,>=,==,!=\n"
   ]
  },
  {
   "cell_type": "code",
   "execution_count": 5,
   "id": "67a75e1c",
   "metadata": {},
   "outputs": [
    {
     "data": {
      "text/plain": [
       "True"
      ]
     },
     "execution_count": 5,
     "metadata": {},
     "output_type": "execute_result"
    }
   ],
   "source": [
    "a =4\n",
    "a<10\n"
   ]
  },
  {
   "cell_type": "code",
   "execution_count": 6,
   "id": "3a40ec97",
   "metadata": {},
   "outputs": [
    {
     "data": {
      "text/plain": [
       "False"
      ]
     },
     "execution_count": 6,
     "metadata": {},
     "output_type": "execute_result"
    }
   ],
   "source": [
    "a=10\n",
    "a>20"
   ]
  },
  {
   "cell_type": "code",
   "execution_count": 7,
   "id": "2522c5e5",
   "metadata": {},
   "outputs": [
    {
     "data": {
      "text/plain": [
       "True"
      ]
     },
     "execution_count": 7,
     "metadata": {},
     "output_type": "execute_result"
    }
   ],
   "source": [
    "b=25\n",
    "b<=30"
   ]
  },
  {
   "cell_type": "code",
   "execution_count": 8,
   "id": "2bce6e43",
   "metadata": {},
   "outputs": [
    {
     "data": {
      "text/plain": [
       "True"
      ]
     },
     "execution_count": 8,
     "metadata": {},
     "output_type": "execute_result"
    }
   ],
   "source": [
    "x=100\n",
    "1 <= x <= 100"
   ]
  },
  {
   "cell_type": "code",
   "execution_count": 9,
   "id": "b1651d50",
   "metadata": {},
   "outputs": [
    {
     "data": {
      "text/plain": [
       "False"
      ]
     },
     "execution_count": 9,
     "metadata": {},
     "output_type": "execute_result"
    }
   ],
   "source": [
    "x=100\n",
    "1 < x < 100"
   ]
  },
  {
   "cell_type": "code",
   "execution_count": 10,
   "id": "59d1ee8e",
   "metadata": {},
   "outputs": [
    {
     "data": {
      "text/plain": [
       "True"
      ]
     },
     "execution_count": 10,
     "metadata": {},
     "output_type": "execute_result"
    }
   ],
   "source": [
    "y=50\n",
    "y==50"
   ]
  },
  {
   "cell_type": "code",
   "execution_count": 11,
   "id": "fee7106e",
   "metadata": {},
   "outputs": [],
   "source": [
    "# logical operator: AND OR NOT"
   ]
  },
  {
   "cell_type": "code",
   "execution_count": 12,
   "id": "2c1ae04d",
   "metadata": {},
   "outputs": [
    {
     "data": {
      "text/plain": [
       "True"
      ]
     },
     "execution_count": 12,
     "metadata": {},
     "output_type": "execute_result"
    }
   ],
   "source": [
    "x > y and x > a"
   ]
  },
  {
   "cell_type": "code",
   "execution_count": 13,
   "id": "325aac46",
   "metadata": {},
   "outputs": [
    {
     "data": {
      "text/plain": [
       "False"
      ]
     },
     "execution_count": 13,
     "metadata": {},
     "output_type": "execute_result"
    }
   ],
   "source": [
    "not a"
   ]
  },
  {
   "cell_type": "code",
   "execution_count": 14,
   "id": "0c1c2e8d",
   "metadata": {},
   "outputs": [
    {
     "data": {
      "text/plain": [
       "False"
      ]
     },
     "execution_count": 14,
     "metadata": {},
     "output_type": "execute_result"
    }
   ],
   "source": [
    "not (a==10)"
   ]
  },
  {
   "cell_type": "code",
   "execution_count": null,
   "id": "1431954d",
   "metadata": {},
   "outputs": [],
   "source": []
  }
 ],
 "metadata": {
  "kernelspec": {
   "display_name": "Python 3",
   "language": "python",
   "name": "python3"
  },
  "language_info": {
   "codemirror_mode": {
    "name": "ipython",
    "version": 3
   },
   "file_extension": ".py",
   "mimetype": "text/x-python",
   "name": "python",
   "nbconvert_exporter": "python",
   "pygments_lexer": "ipython3",
   "version": "3.13.6"
  }
 },
 "nbformat": 4,
 "nbformat_minor": 5
}
