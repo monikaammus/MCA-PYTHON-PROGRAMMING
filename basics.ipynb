{
 "cells": [
  {
   "cell_type": "code",
   "execution_count": null,
   "id": "04c84784",
   "metadata": {},
   "outputs": [
    {
     "ename": "",
     "evalue": "",
     "output_type": "error",
     "traceback": [
      "\u001b[1;31mRunning cells with 'Python 3.13.6' requires the ipykernel package.\n",
      "\u001b[1;31m<a href='command:jupyter.createPythonEnvAndSelectController'>Create a Python Environment</a> with the required packages.\n",
      "\u001b[1;31mOr install 'ipykernel' using the command: 'c:/Users/monik/AppData/Local/Programs/Python/Python313/python.exe -m pip install ipykernel -U --user --force-reinstall'"
     ]
    }
   ],
   "source": [
    "2+2"
   ]
  },
  {
   "cell_type": "code",
   "execution_count": 1,
   "id": "c9e69269",
   "metadata": {},
   "outputs": [
    {
     "data": {
      "text/plain": [
       "4"
      ]
     },
     "execution_count": 1,
     "metadata": {},
     "output_type": "execute_result"
    }
   ],
   "source": [
    "2+2"
   ]
  },
  {
   "cell_type": "code",
   "execution_count": 2,
   "id": "8553f2d4",
   "metadata": {},
   "outputs": [
    {
     "data": {
      "text/plain": [
       "465"
      ]
     },
     "execution_count": 2,
     "metadata": {},
     "output_type": "execute_result"
    }
   ],
   "source": [
    "15*31"
   ]
  },
  {
   "cell_type": "markdown",
   "id": "9eafcbfb",
   "metadata": {},
   "source": [
    "I AM IN A MBUNIVERSITY."
   ]
  },
  {
   "cell_type": "markdown",
   "id": "28c47d53",
   "metadata": {},
   "source": [
    "NAME = \"MONIKA\""
   ]
  },
  {
   "cell_type": "markdown",
   "id": "c4dec844",
   "metadata": {},
   "source": []
  },
  {
   "cell_type": "markdown",
   "id": "f219fd4c",
   "metadata": {},
   "source": []
  },
  {
   "cell_type": "markdown",
   "id": "7a04725f",
   "metadata": {},
   "source": [
    "name=\"monika\""
   ]
  },
  {
   "cell_type": "markdown",
   "id": "f193e915",
   "metadata": {},
   "source": []
  },
  {
   "cell_type": "code",
   "execution_count": 3,
   "id": "0056f385",
   "metadata": {},
   "outputs": [],
   "source": [
    "name =\"monika\"\n",
    "city =\"chittoor\"\n",
    "age =\"20\"\n",
    "address =\"palluru vil and post,gudipala mandal,chittoor district\""
   ]
  },
  {
   "cell_type": "markdown",
   "id": "2cb030f3",
   "metadata": {},
   "source": []
  },
  {
   "cell_type": "markdown",
   "id": "0eba5fcf",
   "metadata": {},
   "source": [
    "Python has 10 datatypes \n",
    "-int (integer) -> for whole numbers\n",
    "-float -> for real/scientific numbers\n",
    "-bool (boolean) ->for True/false values\n",
    "-none (nonetype) ->for specifying no values\n",
    "-str (string) -> for textual values\n",
    "-list -> for storing arrays and sequences\n",
    "-tuple -> for unchangable arrays and sequences \n",
    "-set ->for unique sequences\n",
    "-dict ->for storing key value data\n",
    "-complex ->for complex numbers\n"
   ]
  },
  {
   "cell_type": "markdown",
   "id": "39a6a819",
   "metadata": {},
   "source": []
  },
  {
   "cell_type": "code",
   "execution_count": 1,
   "id": "b0ca6bac",
   "metadata": {},
   "outputs": [],
   "source": [
    "x=5                                     #int\n",
    "y=8.5                                   #float\n",
    "z=10j                                   #complex\n",
    "is_working = False                      #bool\n",
    "is_empty = None                         #Nonetype\n",
    "univ = \"mohan babu university\"          #str\n",
    "colors =['red','black']                 #list\n",
    "points = (1,4,5,9)                      #tuple\n",
    "names = {\"monika\",\"manisha\",\"sandhya\"}  #set\n",
    "info = {\n",
    "    \"NAME\":\"MONIKA\",\n",
    "    \"DESIGNATION\":\"STUDENT\",             #dictionary\n",
    "    \"DEPT\":\"MCA\"\n",
    "}"
   ]
  },
  {
   "cell_type": "markdown",
   "id": "a9a443ef",
   "metadata": {},
   "source": [
    "# Two types of variables \n",
    "1.Directly initialized x=10\n",
    "2.dynamically calculated z=x*10"
   ]
  },
  {
   "cell_type": "code",
   "execution_count": 1,
   "id": "738241c0",
   "metadata": {},
   "outputs": [],
   "source": [
    "r=8  #cm\n",
    "pi=3.14\n",
    "circumference =2*pi*r"
   ]
  },
  {
   "cell_type": "code",
   "execution_count": 2,
   "id": "60d9ba23",
   "metadata": {},
   "outputs": [
    {
     "data": {
      "text/plain": [
       "50.24"
      ]
     },
     "execution_count": 2,
     "metadata": {},
     "output_type": "execute_result"
    }
   ],
   "source": [
    "circumference"
   ]
  },
  {
   "cell_type": "code",
   "execution_count": null,
   "id": "2aa57a93",
   "metadata": {},
   "outputs": [],
   "source": [
    "# operators\n",
    "-Assignment operator\n",
    "-Arithmetic operator\n",
    "-Comparision operator\n",
    "-Logical operator\n",
    "-Bitwise operator\n",
    "-Membership operator\n"
   ]
  },
  {
   "cell_type": "code",
   "execution_count": 4,
   "id": "94f47b2a",
   "metadata": {},
   "outputs": [
    {
     "data": {
      "text/plain": [
       "2500.0"
      ]
     },
     "execution_count": 4,
     "metadata": {},
     "output_type": "execute_result"
    }
   ],
   "source": [
    "x=1000 # assignment\n",
    "x-=500\n",
    "x*=10\n",
    "x/=2\n",
    "x"
   ]
  },
  {
   "cell_type": "code",
   "execution_count": 5,
   "id": "c2873321",
   "metadata": {},
   "outputs": [],
   "source": [
    "z=5"
   ]
  },
  {
   "cell_type": "markdown",
   "id": "0239083e",
   "metadata": {},
   "source": [
    "# arithmetic operator\n",
    "+ addition\n",
    "- subtraction\n",
    "* multiplication\n",
    "/ division\n",
    "// int division\n",
    "** exp\n",
    "% mod\n"
   ]
  },
  {
   "cell_type": "code",
   "execution_count": 1,
   "id": "02c333f3",
   "metadata": {},
   "outputs": [
    {
     "data": {
      "text/plain": [
       "15"
      ]
     },
     "execution_count": 1,
     "metadata": {},
     "output_type": "execute_result"
    }
   ],
   "source": [
    "a = 10\n",
    "b = 5\n",
    "a+b"
   ]
  },
  {
   "cell_type": "code",
   "execution_count": 2,
   "id": "26430ef9",
   "metadata": {},
   "outputs": [
    {
     "data": {
      "text/plain": [
       "0"
      ]
     },
     "execution_count": 2,
     "metadata": {},
     "output_type": "execute_result"
    }
   ],
   "source": [
    "a-b\n",
    "a*b\n",
    "a/b\n",
    "a//b\n",
    "a%b"
   ]
  },
  {
   "cell_type": "code",
   "execution_count": 3,
   "id": "513783e0",
   "metadata": {},
   "outputs": [
    {
     "data": {
      "text/plain": [
       "5"
      ]
     },
     "execution_count": 3,
     "metadata": {},
     "output_type": "execute_result"
    }
   ],
   "source": [
    "a-b"
   ]
  },
  {
   "cell_type": "code",
   "execution_count": 4,
   "id": "41455503",
   "metadata": {},
   "outputs": [
    {
     "data": {
      "text/plain": [
       "50"
      ]
     },
     "execution_count": 4,
     "metadata": {},
     "output_type": "execute_result"
    }
   ],
   "source": [
    "a*b"
   ]
  },
  {
   "cell_type": "code",
   "execution_count": 5,
   "id": "bc02d08b",
   "metadata": {},
   "outputs": [
    {
     "data": {
      "text/plain": [
       "2.0"
      ]
     },
     "execution_count": 5,
     "metadata": {},
     "output_type": "execute_result"
    }
   ],
   "source": [
    "a/b"
   ]
  },
  {
   "cell_type": "code",
   "execution_count": 6,
   "id": "8eea086d",
   "metadata": {},
   "outputs": [
    {
     "data": {
      "text/plain": [
       "2"
      ]
     },
     "execution_count": 6,
     "metadata": {},
     "output_type": "execute_result"
    }
   ],
   "source": [
    "a//b"
   ]
  },
  {
   "cell_type": "code",
   "execution_count": 7,
   "id": "d38d79ff",
   "metadata": {},
   "outputs": [
    {
     "data": {
      "text/plain": [
       "0"
      ]
     },
     "execution_count": 7,
     "metadata": {},
     "output_type": "execute_result"
    }
   ],
   "source": [
    "a%b"
   ]
  },
  {
   "cell_type": "code",
   "execution_count": 8,
   "id": "c746db2a",
   "metadata": {},
   "outputs": [
    {
     "data": {
      "text/plain": [
       "100000"
      ]
     },
     "execution_count": 8,
     "metadata": {},
     "output_type": "execute_result"
    }
   ],
   "source": [
    "a**b"
   ]
  },
  {
   "cell_type": "markdown",
   "id": "092e955c",
   "metadata": {},
   "source": [
    "# operator precedence\n",
    "() \n",
    "**,*,/,//\n",
    "+,-\n",
    "="
   ]
  },
  {
   "cell_type": "code",
   "execution_count": 9,
   "id": "88bf4c75",
   "metadata": {},
   "outputs": [
    {
     "data": {
      "text/plain": [
       "27.0"
      ]
     },
     "execution_count": 9,
     "metadata": {},
     "output_type": "execute_result"
    }
   ],
   "source": [
    "2+10/2*5"
   ]
  },
  {
   "cell_type": "code",
   "execution_count": 10,
   "id": "509fb575",
   "metadata": {},
   "outputs": [],
   "source": [
    "x = (a+b) ** 2"
   ]
  },
  {
   "cell_type": "code",
   "execution_count": 11,
   "id": "b4b11558",
   "metadata": {},
   "outputs": [
    {
     "data": {
      "text/plain": [
       "6.4031242374328485"
      ]
     },
     "execution_count": 11,
     "metadata": {},
     "output_type": "execute_result"
    }
   ],
   "source": [
    "per =5\n",
    "base =4\n",
    "(5**2 +4**2)** .5"
   ]
  },
  {
   "cell_type": "code",
   "execution_count": 12,
   "id": "a2fd48d0",
   "metadata": {},
   "outputs": [
    {
     "data": {
      "text/plain": [
       "5.0"
      ]
     },
     "execution_count": 12,
     "metadata": {},
     "output_type": "execute_result"
    }
   ],
   "source": [
    "per =3\n",
    "base =4\n",
    "hyp = (per**2 + base**2)**.5  # math.sqrt(per**2 + base**2)will also work\n",
    "hyp"
   ]
  },
  {
   "cell_type": "code",
   "execution_count": 19,
   "id": "0a140775",
   "metadata": {},
   "outputs": [
    {
     "data": {
      "text/plain": [
       "48"
      ]
     },
     "execution_count": 19,
     "metadata": {},
     "output_type": "execute_result"
    }
   ],
   "source": [
    "x=10\n",
    "3*x + 2*(x-1)"
   ]
  },
  {
   "cell_type": "code",
   "execution_count": 18,
   "id": "a1dadb90",
   "metadata": {},
   "outputs": [
    {
     "data": {
      "text/plain": [
       "3.875"
      ]
     },
     "execution_count": 18,
     "metadata": {},
     "output_type": "execute_result"
    }
   ],
   "source": [
    "x=2+4+5+6+1+2+5+6\n",
    "y=8\n",
    "x/y\n"
   ]
  },
  {
   "cell_type": "code",
   "execution_count": 2,
   "id": "368880ca",
   "metadata": {},
   "outputs": [],
   "source": [
    "#comparision operator :<,<=,>,>=,==,!=\n"
   ]
  },
  {
   "cell_type": "code",
   "execution_count": 5,
   "id": "67a75e1c",
   "metadata": {},
   "outputs": [
    {
     "data": {
      "text/plain": [
       "True"
      ]
     },
     "execution_count": 5,
     "metadata": {},
     "output_type": "execute_result"
    }
   ],
   "source": [
    "a =4\n",
    "a<10\n"
   ]
  },
  {
   "cell_type": "code",
   "execution_count": 6,
   "id": "3a40ec97",
   "metadata": {},
   "outputs": [
    {
     "data": {
      "text/plain": [
       "False"
      ]
     },
     "execution_count": 6,
     "metadata": {},
     "output_type": "execute_result"
    }
   ],
   "source": [
    "a=10\n",
    "a>20"
   ]
  },
  {
   "cell_type": "code",
   "execution_count": 7,
   "id": "2522c5e5",
   "metadata": {},
   "outputs": [
    {
     "data": {
      "text/plain": [
       "True"
      ]
     },
     "execution_count": 7,
     "metadata": {},
     "output_type": "execute_result"
    }
   ],
   "source": [
    "b=25\n",
    "b<=30"
   ]
  },
  {
   "cell_type": "code",
   "execution_count": 8,
   "id": "2bce6e43",
   "metadata": {},
   "outputs": [
    {
     "data": {
      "text/plain": [
       "True"
      ]
     },
     "execution_count": 8,
     "metadata": {},
     "output_type": "execute_result"
    }
   ],
   "source": [
    "x=100\n",
    "1 <= x <= 100"
   ]
  },
  {
   "cell_type": "code",
   "execution_count": 9,
   "id": "b1651d50",
   "metadata": {},
   "outputs": [
    {
     "data": {
      "text/plain": [
       "False"
      ]
     },
     "execution_count": 9,
     "metadata": {},
     "output_type": "execute_result"
    }
   ],
   "source": [
    "x=100\n",
    "1 < x < 100"
   ]
  },
  {
   "cell_type": "code",
   "execution_count": 10,
   "id": "59d1ee8e",
   "metadata": {},
   "outputs": [
    {
     "data": {
      "text/plain": [
       "True"
      ]
     },
     "execution_count": 10,
     "metadata": {},
     "output_type": "execute_result"
    }
   ],
   "source": [
    "y=50\n",
    "y==50"
   ]
  },
  {
   "cell_type": "code",
   "execution_count": 11,
   "id": "fee7106e",
   "metadata": {},
   "outputs": [],
   "source": [
    "# logical operator: AND OR NOT"
   ]
  },
  {
   "cell_type": "code",
   "execution_count": 12,
   "id": "2c1ae04d",
   "metadata": {},
   "outputs": [
    {
     "data": {
      "text/plain": [
       "True"
      ]
     },
     "execution_count": 12,
     "metadata": {},
     "output_type": "execute_result"
    }
   ],
   "source": [
    "x > y and x > a"
   ]
  },
  {
   "cell_type": "code",
   "execution_count": 13,
   "id": "325aac46",
   "metadata": {},
   "outputs": [
    {
     "data": {
      "text/plain": [
       "False"
      ]
     },
     "execution_count": 13,
     "metadata": {},
     "output_type": "execute_result"
    }
   ],
   "source": [
    "not a"
   ]
  },
  {
   "cell_type": "code",
   "execution_count": 14,
   "id": "0c1c2e8d",
   "metadata": {},
   "outputs": [
    {
     "data": {
      "text/plain": [
       "False"
      ]
     },
     "execution_count": 14,
     "metadata": {},
     "output_type": "execute_result"
    }
   ],
   "source": [
    "not (a==10)"
   ]
  },
  {
   "cell_type": "code",
   "execution_count": 1,
   "id": "1431954d",
   "metadata": {},
   "outputs": [
    {
     "name": "stdout",
     "output_type": "stream",
     "text": [
      "this is a statement\n",
      "this is a statement\n",
      "this is a statement\n",
      "this is a statement\n",
      "this is a statement\n"
     ]
    }
   ],
   "source": [
    "for _ in range(5):\n",
    "    print(\"this is a statement\")"
   ]
  },
  {
   "cell_type": "code",
   "execution_count": 5,
   "id": "b18d5639",
   "metadata": {},
   "outputs": [
    {
     "name": "stdout",
     "output_type": "stream",
     "text": [
      "1\n",
      "1\n",
      "1\n",
      "1\n",
      "1\n"
     ]
    }
   ],
   "source": [
    "for _ in range(5):\n",
    "    print(\"1\")"
   ]
  },
  {
   "cell_type": "code",
   "execution_count": 6,
   "id": "ee3d9884",
   "metadata": {},
   "outputs": [
    {
     "name": "stdout",
     "output_type": "stream",
     "text": [
      "L\n",
      "L\n",
      "L\n",
      "L\n",
      "L\n",
      "L\n",
      "L\n",
      "L\n",
      "L\n",
      "L\n",
      "L\n",
      "L\n",
      "L\n",
      "L\n",
      "L\n"
     ]
    }
   ],
   "source": [
    "for L in range(15):\n",
    "    print(\"L\")\n"
   ]
  },
  {
   "cell_type": "code",
   "execution_count": 7,
   "id": "6fba4496",
   "metadata": {},
   "outputs": [
    {
     "name": "stdout",
     "output_type": "stream",
     "text": [
      "x\n",
      "x\n",
      "x\n",
      "x\n",
      "x\n",
      "x\n",
      "x\n",
      "x\n",
      "x\n",
      "x\n",
      "x\n",
      "x\n",
      "x\n",
      "x\n",
      "x\n"
     ]
    }
   ],
   "source": [
    "for x in range(1,16):\n",
    "    print(\"x\")"
   ]
  },
  {
   "cell_type": "code",
   "execution_count": 8,
   "id": "a8f2c66a",
   "metadata": {},
   "outputs": [
    {
     "name": "stdout",
     "output_type": "stream",
     "text": [
      "1\n",
      "1\n",
      "1\n",
      "1\n",
      "1\n"
     ]
    }
   ],
   "source": [
    "a=5\n",
    "b=10\n",
    "for i in range(a,b):\n",
    "    print(1)"
   ]
  },
  {
   "cell_type": "code",
   "execution_count": 11,
   "id": "1df198b0",
   "metadata": {},
   "outputs": [
    {
     "name": "stdout",
     "output_type": "stream",
     "text": [
      "1 5 1\n",
      "1 5 2\n",
      "1 5 3\n",
      "1 5 4\n"
     ]
    }
   ],
   "source": [
    "x=int(input(\"enter start\"))\n",
    "y=int(input(\"enter stop\"))\n",
    "for i in range(x,y):\n",
    "    print(x,y,i)"
   ]
  },
  {
   "cell_type": "code",
   "execution_count": 12,
   "id": "1d151550",
   "metadata": {},
   "outputs": [
    {
     "name": "stdout",
     "output_type": "stream",
     "text": [
      "12*1=12\n",
      "12*1=24\n",
      "12*1=36\n",
      "12*1=48\n",
      "12*1=60\n",
      "12*1=72\n",
      "12*1=84\n",
      "12*1=96\n",
      "12*1=108\n",
      "12*1=120\n"
     ]
    }
   ],
   "source": [
    "size=10\n",
    "for i in range(1,size+1):\n",
    "    print(f\"12*{1}={12*i}\")"
   ]
  },
  {
   "cell_type": "markdown",
   "id": "b31e304c",
   "metadata": {},
   "source": [
    "loops \n",
    "for - step based loop\n",
    "range()function"
   ]
  },
  {
   "cell_type": "markdown",
   "id": "c29b607e",
   "metadata": {},
   "source": [
    "range(5)  0 1 2 3 4\n",
    "range(6)  0 1 2 3 4 5\n",
    "range(2,6) 2 3 4 5 6\n",
    "range(10,14) 10,11,12,13,14\n",
    "range()  error\n",
    "\n",
    "range(1,10,2)  1 3 5 7 9\n",
    "for i in range(1,20,2):      start stop step\n",
    "print(i)"
   ]
  },
  {
   "cell_type": "code",
   "execution_count": 1,
   "id": "fcacc13d",
   "metadata": {},
   "outputs": [
    {
     "name": "stdout",
     "output_type": "stream",
     "text": [
      "1\n",
      "3\n",
      "5\n",
      "7\n",
      "9\n",
      "11\n",
      "13\n",
      "15\n",
      "17\n",
      "19\n"
     ]
    }
   ],
   "source": [
    "for i in range(1,20,2):\n",
    "    print(i)"
   ]
  },
  {
   "cell_type": "code",
   "execution_count": 2,
   "id": "0a846dbe",
   "metadata": {},
   "outputs": [
    {
     "name": "stdout",
     "output_type": "stream",
     "text": [
      "1\n",
      "3\n",
      "5\n",
      "7\n",
      "9\n"
     ]
    }
   ],
   "source": [
    "for i in range(1,10,2):\n",
    "    print(i)"
   ]
  },
  {
   "cell_type": "code",
   "execution_count": 3,
   "id": "2ddd1aca",
   "metadata": {},
   "outputs": [
    {
     "name": "stdout",
     "output_type": "stream",
     "text": [
      "0\n",
      "5\n",
      "10\n"
     ]
    }
   ],
   "source": [
    "for i in range(0,15,5):\n",
    "    print(i)"
   ]
  },
  {
   "cell_type": "code",
   "execution_count": 4,
   "id": "7137b5e2",
   "metadata": {},
   "outputs": [
    {
     "name": "stdout",
     "output_type": "stream",
     "text": [
      "10\n",
      "8\n",
      "6\n",
      "4\n",
      "2\n"
     ]
    }
   ],
   "source": [
    "for i in range(10,0,-2):\n",
    "    print(i)"
   ]
  },
  {
   "cell_type": "code",
   "execution_count": 5,
   "id": "a57e3487",
   "metadata": {},
   "outputs": [
    {
     "name": "stdout",
     "output_type": "stream",
     "text": [
      "100\n",
      "102\n",
      "104\n",
      "106\n",
      "108\n",
      "110\n",
      "112\n",
      "114\n",
      "116\n",
      "118\n",
      "120\n",
      "122\n",
      "124\n",
      "126\n",
      "128\n",
      "130\n",
      "132\n",
      "134\n",
      "136\n",
      "138\n",
      "140\n",
      "142\n",
      "144\n",
      "146\n",
      "148\n",
      "150\n",
      "152\n",
      "154\n",
      "156\n",
      "158\n",
      "160\n",
      "162\n",
      "164\n",
      "166\n",
      "168\n",
      "170\n",
      "172\n",
      "174\n",
      "176\n",
      "178\n",
      "180\n",
      "182\n",
      "184\n",
      "186\n",
      "188\n",
      "190\n",
      "192\n",
      "194\n",
      "196\n",
      "198\n",
      "200\n"
     ]
    }
   ],
   "source": [
    "for num in range(100,201,2):\n",
    "    print(num)"
   ]
  },
  {
   "cell_type": "code",
   "execution_count": 16,
   "id": "63696794",
   "metadata": {},
   "outputs": [
    {
     "name": "stdout",
     "output_type": "stream",
     "text": [
      "1,3,5,7,9,11,13,15,17,19,21,23,25,27,29,31,33,35,37,39,41,43,45,47,49,51,53,55,57,59,61,63,65,67,69,71,73,75,77,79,81,83,85,87,89,91,93,95,97,99,"
     ]
    }
   ],
   "source": [
    "for num in range(1,100,2):\n",
    "    print(num,end=\",\")"
   ]
  },
  {
   "cell_type": "code",
   "execution_count": 8,
   "id": "72109ddd",
   "metadata": {},
   "outputs": [
    {
     "name": "stdout",
     "output_type": "stream",
     "text": [
      "100,102,104,106,108,110,112,114,116,118,120,122,124,126,128,130,132,134,136,138,140,142,144,146,148,150,152,154,156,158,160,162,164,166,168,170,172,174,176,178,180,182,184,186,188,190,192,194,196,198,200,"
     ]
    }
   ],
   "source": [
    "for num in range(100,201,2):\n",
    "    print(num,end=\",\") "
   ]
  },
  {
   "cell_type": "code",
   "execution_count": 10,
   "id": "3cd624f4",
   "metadata": {},
   "outputs": [
    {
     "name": "stdout",
     "output_type": "stream",
     "text": [
      "100\n",
      "102\n",
      "104\n",
      "106\n",
      "108\n",
      "110\n",
      "112\n",
      "114\n",
      "116\n",
      "118\n",
      "120\n",
      "122\n",
      "124\n",
      "126\n",
      "128\n",
      "130\n",
      "132\n",
      "134\n",
      "136\n",
      "138\n",
      "140\n",
      "142\n",
      "144\n",
      "146\n",
      "148\n",
      "150\n",
      "152\n",
      "154\n",
      "156\n",
      "158\n",
      "160\n",
      "162\n",
      "164\n",
      "166\n",
      "168\n",
      "170\n",
      "172\n",
      "174\n",
      "176\n",
      "178\n",
      "180\n",
      "182\n",
      "184\n",
      "186\n",
      "188\n",
      "190\n",
      "192\n",
      "194\n",
      "196\n",
      "198\n"
     ]
    }
   ],
   "source": [
    "for num in range(100,200,2):\n",
    "    print(num)"
   ]
  },
  {
   "cell_type": "code",
   "execution_count": 11,
   "id": "b6b13c85",
   "metadata": {},
   "outputs": [
    {
     "name": "stdout",
     "output_type": "stream",
     "text": [
      "['red', 'blue', 'peach']\n"
     ]
    }
   ],
   "source": [
    "colors=['red','blue','peach']\n",
    "print(colors)"
   ]
  },
  {
   "cell_type": "markdown",
   "id": "1fb1ffe5",
   "metadata": {},
   "source": [
    "# formatted output"
   ]
  },
  {
   "cell_type": "code",
   "execution_count": 12,
   "id": "05d2eb4c",
   "metadata": {},
   "outputs": [
    {
     "name": "stdout",
     "output_type": "stream",
     "text": [
      "red\n",
      "blue\n",
      "peach\n"
     ]
    }
   ],
   "source": [
    "for color in colors:\n",
    "    print(color)"
   ]
  },
  {
   "cell_type": "code",
   "execution_count": 14,
   "id": "84ab5289",
   "metadata": {},
   "outputs": [
    {
     "name": "stdout",
     "output_type": "stream",
     "text": [
      "['geeta govindam', 'arjun reddy', 'satamanam bavathi', 'lucky bhasker', '100 % love', 'whistle', 'bommarillu', 'coolie', 'peta', '8 vasantalu', 'taxiwala', 'gopala gopala']\n"
     ]
    }
   ],
   "source": [
    "movies=['geeta govindam','arjun reddy','satamanam bavathi','lucky bhasker','100 % love','whistle','bommarillu','coolie','peta','8 vasantalu','taxiwala','gopala gopala']\n",
    "print(movies)"
   ]
  },
  {
   "cell_type": "code",
   "execution_count": 15,
   "id": "9707ce69",
   "metadata": {},
   "outputs": [
    {
     "name": "stdout",
     "output_type": "stream",
     "text": [
      "geeta govindam\n",
      "arjun reddy\n",
      "satamanam bavathi\n",
      "lucky bhasker\n",
      "100 % love\n",
      "whistle\n",
      "bommarillu\n",
      "coolie\n",
      "peta\n",
      "8 vasantalu\n",
      "taxiwala\n",
      "gopala gopala\n"
     ]
    }
   ],
   "source": [
    "for movies in movies:\n",
    "    print(movies)"
   ]
  },
  {
   "cell_type": "code",
   "execution_count": 1,
   "id": "3f4a4fef",
   "metadata": {},
   "outputs": [
    {
     "name": "stdout",
     "output_type": "stream",
     "text": [
      "-10,-7,-4,-1,2,5,8,"
     ]
    }
   ],
   "source": [
    "for i in range(-10,10,3):\n",
    "    print(i,end=\",\")"
   ]
  },
  {
   "cell_type": "markdown",
   "id": "e9cdd9b1",
   "metadata": {},
   "source": [
    "loop with conditions"
   ]
  },
  {
   "cell_type": "markdown",
   "id": "4938bfff",
   "metadata": {},
   "source": [
    "syntax\n",
    "\n",
    "for var in iterable:\n",
    "\n",
    "if condition:\n",
    "   statement\n",
    "else:\n",
    "   statement   "
   ]
  },
  {
   "cell_type": "code",
   "execution_count": 2,
   "id": "63f15a4b",
   "metadata": {},
   "outputs": [
    {
     "name": "stdout",
     "output_type": "stream",
     "text": [
      "2\n",
      "4\n",
      "6\n",
      "8\n",
      "10\n"
     ]
    }
   ],
   "source": [
    "for i in range(1,11):\n",
    "    if i%2==0:\n",
    "        print(i)"
   ]
  },
  {
   "cell_type": "code",
   "execution_count": 5,
   "id": "1a3a643e",
   "metadata": {},
   "outputs": [
    {
     "name": "stdout",
     "output_type": "stream",
     "text": [
      "1\n",
      "3\n",
      "5\n",
      "7\n",
      "9\n"
     ]
    }
   ],
   "source": [
    "for i in range(1,11):\n",
    "    if i%2!=0:\n",
    "        print(i)"
   ]
  },
  {
   "cell_type": "markdown",
   "id": "fcfff857",
   "metadata": {},
   "source": [
    "#dispaly squares of even number"
   ]
  },
  {
   "cell_type": "code",
   "execution_count": 6,
   "id": "db63e4f5",
   "metadata": {},
   "outputs": [
    {
     "name": "stdout",
     "output_type": "stream",
     "text": [
      "odd number\n",
      "odd number\n",
      "odd number\n",
      "odd number\n",
      "144\n",
      "odd number\n"
     ]
    }
   ],
   "source": [
    "nums=[1,5,11,3,12,15]\n",
    "\n",
    "for i in nums:\n",
    "    if i%2==0:\n",
    "        s=i**2\n",
    "        print(s)\n",
    "    else:\n",
    "        print(\"odd number\")   "
   ]
  },
  {
   "cell_type": "markdown",
   "id": "8b91b68b",
   "metadata": {},
   "source": [
    "# display cubes of odd number"
   ]
  },
  {
   "cell_type": "code",
   "execution_count": 7,
   "id": "9f02e5b3",
   "metadata": {},
   "outputs": [
    {
     "name": "stdout",
     "output_type": "stream",
     "text": [
      "even number\n",
      "even number\n",
      "even number\n",
      "729\n",
      "1331\n",
      "27\n"
     ]
    }
   ],
   "source": [
    "nums=[12,4,6,9,11,3]\n",
    "\n",
    "for i in nums:\n",
    "    if i%2!=0:\n",
    "        s=i**3\n",
    "        print(s)\n",
    "    else:\n",
    "        print(\"even number\")    "
   ]
  },
  {
   "cell_type": "markdown",
   "id": "92375cc2",
   "metadata": {},
   "source": [
    "# calc the area by circle\n",
    "# whose radius is given in list"
   ]
  },
  {
   "cell_type": "code",
   "execution_count": 9,
   "id": "a6189482",
   "metadata": {},
   "outputs": [
    {
     "name": "stdout",
     "output_type": "stream",
     "text": [
      "area for 3 is 28.26\n",
      "area for 5 is 78.5\n",
      "area for 6 is 113.04\n",
      "area for 11 is 379.94\n",
      "area for 10 is 314.0\n"
     ]
    }
   ],
   "source": [
    "radius=[3,5,6,11,10]\n",
    "for r in radius:\n",
    "     area=3.14*r**2\n",
    "     print(f\"area for {r} is {area}\")\n"
   ]
  },
  {
   "cell_type": "code",
   "execution_count": 12,
   "id": "a6e1079a",
   "metadata": {},
   "outputs": [
    {
     "name": "stdout",
     "output_type": "stream",
     "text": [
      "ludo\n"
     ]
    }
   ],
   "source": [
    "Videogames=['ludo','candy crush','bubbleshoot','snake guard','temple run','free fire','pubg']\n",
    "\n",
    "for name in Videogames:\n",
    "    if name.startswith('l'):\n",
    "        print(name)"
   ]
  },
  {
   "cell_type": "code",
   "execution_count": 15,
   "id": "3e72dc45",
   "metadata": {},
   "outputs": [
    {
     "name": "stdout",
     "output_type": "stream",
     "text": [
      "Book->the well of ascension\n",
      "Book->the alloy of law\n",
      "Book->hero of ages\n",
      "Book->the way of kings\n"
     ]
    }
   ],
   "source": [
    "Books=[\"the final empire\",\"warbreaker\",\"elantris\",\"the well of ascension\",\"the alloy of law\",\"hero of ages\",\"the way of kings\"]\n",
    "\n",
    "for Book in Books:\n",
    "    if \"The\" in Book or \"of\" in Book:\n",
    "        print(f\"Book->{Book}\")"
   ]
  },
  {
   "cell_type": "code",
   "execution_count": 1,
   "id": "c7006e6d",
   "metadata": {},
   "outputs": [
    {
     "name": "stdout",
     "output_type": "stream",
     "text": [
      "10\n",
      "21\n",
      "33\n",
      "46\n",
      "60\n",
      "75\n",
      "91\n",
      "108\n",
      "126\n",
      "145\n",
      "165\n"
     ]
    }
   ],
   "source": [
    "total=0\n",
    "for num in range(10,21):\n",
    "    total=total+num\n",
    "    print(total)\n"
   ]
  },
  {
   "cell_type": "code",
   "execution_count": 4,
   "id": "9a087e5f",
   "metadata": {},
   "outputs": [
    {
     "name": "stdout",
     "output_type": "stream",
     "text": [
      "10\n",
      "110\n",
      "1320\n",
      "17160\n",
      "240240\n",
      "3603600\n",
      "57657600\n",
      "980179200\n",
      "17643225600\n",
      "335221286400\n"
     ]
    }
   ],
   "source": [
    "total=1\n",
    "for num in range(10,20):\n",
    "    total=total*num\n",
    "    print(total)\n"
   ]
  },
  {
   "cell_type": "code",
   "execution_count": 14,
   "id": "6ac9b623",
   "metadata": {},
   "outputs": [
    {
     "name": "stdout",
     "output_type": "stream",
     "text": [
      "53\n"
     ]
    }
   ],
   "source": [
    "nums=[5,11,2,53,10,33]\n",
    "m=0\n",
    "for num in nums:\n",
    "    if num>m:\n",
    "        m=num\n",
    "print(m)"
   ]
  },
  {
   "cell_type": "code",
   "execution_count": 17,
   "id": "b3501160",
   "metadata": {},
   "outputs": [
    {
     "name": "stdout",
     "output_type": "stream",
     "text": [
      "total count=8\n"
     ]
    }
   ],
   "source": [
    "nums=[25,26,27,28,29,30,31,32,33,34,35,36,37,38,39,40,41,42,43,44,45,46,47,48,49,50]\n",
    "count=0\n",
    "for i in nums:\n",
    "    if i%3==0:\n",
    "        count=count+1\n",
    "print(f\"total count={count}\")        "
   ]
  },
  {
   "cell_type": "code",
   "execution_count": null,
   "id": "5a687b6b",
   "metadata": {},
   "outputs": [
    {
     "name": "stdout",
     "output_type": "stream",
     "text": [
      "total count =-6\n"
     ]
    }
   ],
   "source": [
    "nums=20,21,22,23,24,25,26,27,28,29,30\n",
    "count=0\n",
    "for i in nums:\n",
    "    if i%2 == 0:\n",
    "      count=count+1\n",
    "print(f\"total count ={count}\")    "
   ]
  },
  {
   "cell_type": "markdown",
   "id": "08ac9d3a",
   "metadata": {},
   "source": [
    "movies"
   ]
  },
  {
   "cell_type": "code",
   "execution_count": 3,
   "id": "977783b0",
   "metadata": {},
   "outputs": [
    {
     "name": "stdout",
     "output_type": "stream",
     "text": [
      "count 1\n",
      "count 2\n",
      "count 3\n"
     ]
    }
   ],
   "source": [
    "movies=[\"Harry potter\",\"Fast and furious\",\"robo\",\"devera\",\"idiot\",\"d-block\",\"kaithi\",\"petta\"]\n",
    "\n",
    "movies_with_h =0\n",
    "for movie in movies:\n",
    "    if movie.startswith(\"H\") or movie.startswith(\"d\"):\n",
    "        #long way-> movies_with_h = movies_with_h+1\n",
    "        movies_with_h+= 1\n",
    "        print(\"count\",movies_with_h)"
   ]
  },
  {
   "cell_type": "code",
   "execution_count": 5,
   "id": "8c890e2a",
   "metadata": {},
   "outputs": [
    {
     "name": "stdout",
     "output_type": "stream",
     "text": [
      "5 *1\n",
      "4 *5\n",
      "3 *20\n",
      "2 *60\n",
      "1 *120\n",
      "120\n"
     ]
    }
   ],
   "source": [
    "# factorial\n",
    "num=5\n",
    "fact=1\n",
    "# you can use a backward or forward loop\n",
    "for i in range(num,0,-1):\n",
    "    print(f'{i} *{fact}')\n",
    "    fact=fact*i\n",
    "print(fact)"
   ]
  },
  {
   "cell_type": "markdown",
   "id": "d68874dd",
   "metadata": {},
   "source": [
    "### Nested loop\n",
    "for loop:\n",
    "    for loop:\n",
    "        for loop:"
   ]
  },
  {
   "cell_type": "code",
   "execution_count": 6,
   "id": "b9d37783",
   "metadata": {},
   "outputs": [
    {
     "name": "stdout",
     "output_type": "stream",
     "text": [
      "i=1,j=1\n",
      "i=1,j=2\n",
      "i=1,j=3\n",
      "i=1,j=4\n",
      "i=1,j=5\n",
      "i=2,j=1\n",
      "i=2,j=2\n",
      "i=2,j=3\n",
      "i=2,j=4\n",
      "i=2,j=5\n",
      "i=3,j=1\n",
      "i=3,j=2\n",
      "i=3,j=3\n",
      "i=3,j=4\n",
      "i=3,j=5\n",
      "i=4,j=1\n",
      "i=4,j=2\n",
      "i=4,j=3\n",
      "i=4,j=4\n",
      "i=4,j=5\n",
      "i=5,j=1\n",
      "i=5,j=2\n",
      "i=5,j=3\n",
      "i=5,j=4\n",
      "i=5,j=5\n",
      "i=6,j=1\n",
      "i=6,j=2\n",
      "i=6,j=3\n",
      "i=6,j=4\n",
      "i=6,j=5\n",
      "i=7,j=1\n",
      "i=7,j=2\n",
      "i=7,j=3\n",
      "i=7,j=4\n",
      "i=7,j=5\n",
      "i=8,j=1\n",
      "i=8,j=2\n",
      "i=8,j=3\n",
      "i=8,j=4\n",
      "i=8,j=5\n",
      "i=9,j=1\n",
      "i=9,j=2\n",
      "i=9,j=3\n",
      "i=9,j=4\n",
      "i=9,j=5\n",
      "i=10,j=1\n",
      "i=10,j=2\n",
      "i=10,j=3\n",
      "i=10,j=4\n",
      "i=10,j=5\n"
     ]
    }
   ],
   "source": [
    "# loops total 10*5 =>50 times\n",
    "for i in range(1,11):\n",
    "    for j in range(1,6):\n",
    "        print(f\"i={i},j={j}\")"
   ]
  },
  {
   "cell_type": "code",
   "execution_count": 7,
   "id": "3e9c743e",
   "metadata": {},
   "outputs": [
    {
     "name": "stdout",
     "output_type": "stream",
     "text": [
      "1234512345123451234512345\n"
     ]
    }
   ],
   "source": [
    "n=6\n",
    "for i in range(1,n):\n",
    "    for j in range(1,n):\n",
    "        print(j,end='')\n",
    "print()        "
   ]
  },
  {
   "cell_type": "code",
   "execution_count": 10,
   "id": "c9857f3a",
   "metadata": {},
   "outputs": [
    {
     "name": "stdout",
     "output_type": "stream",
     "text": [
      "11111\n",
      "22222\n",
      "33333\n",
      "44444\n",
      "55555\n"
     ]
    }
   ],
   "source": [
    "n=6\n",
    "for i in range(1,n):\n",
    "    for j in range(1,n):\n",
    "        print(i,end='')\n",
    "    print()"
   ]
  },
  {
   "cell_type": "code",
   "execution_count": null,
   "id": "82dda2fc",
   "metadata": {},
   "outputs": [],
   "source": [
    "from turtle import *\n",
    "speed ('slowest')\n",
    "pencolor(\"red\")\n",
    "pensize(3)\n",
    "\n",
    "side =6\n",
    "for i in range(side)"
   ]
  }
 ],
 "metadata": {
  "kernelspec": {
   "display_name": "Python 3",
   "language": "python",
   "name": "python3"
  },
  "language_info": {
   "codemirror_mode": {
    "name": "ipython",
    "version": 3
   },
   "file_extension": ".py",
   "mimetype": "text/x-python",
   "name": "python",
   "nbconvert_exporter": "python",
   "pygments_lexer": "ipython3",
   "version": "3.13.6"
  }
 },
 "nbformat": 4,
 "nbformat_minor": 5
}
