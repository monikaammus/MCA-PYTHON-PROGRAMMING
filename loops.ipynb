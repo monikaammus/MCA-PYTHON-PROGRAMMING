{
 "cells": [
  {
   "cell_type": "code",
   "execution_count": null,
   "id": "09756650",
   "metadata": {},
   "outputs": [
    {
     "name": "stdout",
     "output_type": "stream",
     "text": [
      "2 0 3 3 0 2 0 5 6 7 2 0 2 "
     ]
    }
   ],
   "source": [
    "data=[1,2,0,3,3,0,1,2,0,5,6,7,2,0,2,1]\n",
    "for i in data:\n",
    "    if i==0:\n",
    "        continue\n",
    "    print(i,end=' ')"
   ]
  },
  {
   "cell_type": "code",
   "execution_count": 3,
   "id": "38b99d63",
   "metadata": {},
   "outputs": [
    {
     "name": "stdout",
     "output_type": "stream",
     "text": [
      "1 2 3 4 5 6 7 "
     ]
    }
   ],
   "source": [
    "for i in range(1,11):\n",
    "    if i == 8:\n",
    "        break\n",
    "    print(i,end=\" \")"
   ]
  },
  {
   "cell_type": "code",
   "execution_count": null,
   "id": "c0c235f5",
   "metadata": {},
   "outputs": [
    {
     "name": "stdout",
     "output_type": "stream",
     "text": [
      "enter 0 to stop the loop\n",
      "Total =32\n"
     ]
    }
   ],
   "source": [
    "#add all values entered by user till he/she types 0\n",
    "total=0\n",
    "print(\"enter 0 to stop the loop\")\n",
    "for i in range(100):\n",
    "    value = int(input(\"enter a value\"))\n",
    "    if value ==0:\n",
    "        break\n",
    "    total += value  #add the value to total\n",
    "print(f\"Total ={total}\")   \n"
   ]
  },
  {
   "cell_type": "markdown",
   "id": "dc8433e9",
   "metadata": {},
   "source": [
    "# for else "
   ]
  },
  {
   "cell_type": "code",
   "execution_count": 1,
   "id": "31e94ee8",
   "metadata": {},
   "outputs": [
    {
     "name": "stdout",
     "output_type": "stream",
     "text": [
      "2\n",
      "5\n",
      "8\n",
      "11\n",
      "15\n",
      "loop completed\n"
     ]
    }
   ],
   "source": [
    "nums=[2,5,8,11,15]\n",
    "for n in nums:\n",
    "    print(n)\n",
    "print(\"loop completed\") "
   ]
  },
  {
   "cell_type": "code",
   "execution_count": 2,
   "id": "8364665d",
   "metadata": {},
   "outputs": [
    {
     "name": "stdout",
     "output_type": "stream",
     "text": [
      "2\n",
      "5\n",
      "8\n",
      "loop completed\n"
     ]
    }
   ],
   "source": [
    "nums=[2,5,8,11,18]\n",
    "for n in nums:\n",
    "    if n>10:\n",
    "        break\n",
    "    print(n)\n",
    "print(\"loop completed\")"
   ]
  },
  {
   "cell_type": "code",
   "execution_count": 8,
   "id": "6489c3a7",
   "metadata": {},
   "outputs": [
    {
     "name": "stdout",
     "output_type": "stream",
     "text": [
      "loop broken\n"
     ]
    }
   ],
   "source": [
    "value=int(input(\"enter breakpoint\"))\n",
    "nums=[1,2,3,4,5,6,11,15,20,25]\n",
    "for n in nums:\n",
    "    if value>n:\n",
    "        print(\"loop broken\")\n",
    "        break\n",
    "else:\n",
    "    print(\"loop completed\")        "
   ]
  },
  {
   "cell_type": "code",
   "execution_count": 15,
   "id": "d223ae25",
   "metadata": {},
   "outputs": [
    {
     "name": "stdout",
     "output_type": "stream",
     "text": [
      "f{num} is primenumber\n"
     ]
    }
   ],
   "source": [
    "num=int(input(\"enter a number\"))\n",
    "for n in range(2,num):\n",
    "    if num%n==0:\n",
    "        print(f\"{n} not a prime number\")\n",
    "        break\n",
    "else:\n",
    "    print(\"f{num} is primenumber\")\n",
    "        "
   ]
  },
  {
   "cell_type": "markdown",
   "id": "4b4248cd",
   "metadata": {},
   "source": [
    "# while loop"
   ]
  },
  {
   "cell_type": "markdown",
   "id": "5d073be0",
   "metadata": {},
   "source": [
    "syntax:\n",
    "\n",
    "while condition:\n",
    "statement 1\n",
    "statement 2\n",
    "...........\n",
    "statement n\n",
    "\n",
    "\n",
    "loops are 2  types\n",
    "\n",
    "Finite\n",
    "Infinite"
   ]
  },
  {
   "cell_type": "code",
   "execution_count": 17,
   "id": "13adb59a",
   "metadata": {},
   "outputs": [
    {
     "name": "stdout",
     "output_type": "stream",
     "text": [
      "50 \n",
      "45 \n",
      "40 \n",
      "35 \n",
      "30 \n",
      "25 \n",
      "20 \n",
      "15 \n",
      "10 \n",
      "5 \n"
     ]
    }
   ],
   "source": [
    "x=50\n",
    "while x>0:\n",
    "    print(x, end=\" \\n\")\n",
    "    x-=5\n"
   ]
  },
  {
   "cell_type": "code",
   "execution_count": null,
   "id": "0280c7a7",
   "metadata": {},
   "outputs": [],
   "source": []
  }
 ],
 "metadata": {
  "kernelspec": {
   "display_name": "Python 3",
   "language": "python",
   "name": "python3"
  },
  "language_info": {
   "codemirror_mode": {
    "name": "ipython",
    "version": 3
   },
   "file_extension": ".py",
   "mimetype": "text/x-python",
   "name": "python",
   "nbconvert_exporter": "python",
   "pygments_lexer": "ipython3",
   "version": "3.13.6"
  }
 },
 "nbformat": 4,
 "nbformat_minor": 5
}
